{
 "cells": [
  {
   "cell_type": "markdown",
   "id": "d3300ce6",
   "metadata": {},
   "source": [
    "<img src=\"https://u2k3a4x7.stackpathcdn.com/wp-content/uploads/2018/10/lgbtq-scaled.jpg\" style = \"float:center; width:1000px; height:400px;\">"
   ]
  },
  {
   "cell_type": "markdown",
   "id": "1a86793d",
   "metadata": {},
   "source": [
    "# Influences on LGBT High Suicide Attempts Ratio\n",
    "**Lei Xue**"
   ]
  },
  {
   "cell_type": "markdown",
   "id": "ed8ed20a",
   "metadata": {},
   "source": [
    "Presentation Video is from https://pitt.hosted.panopto.com/Panopto/Pages/Viewer.aspx?id=5ce192a7-3c77-4e3e-8cc5-ae830183f1d5"
   ]
  },
  {
   "cell_type": "markdown",
   "id": "92d6a7b3",
   "metadata": {},
   "source": [
    "<img src=\"https://cdn.dribbble.com/users/725870/screenshots/11944030/media/e04f53591ff5fd52a13e21565245f8f1.jpg?compress=1&resize=400x300\" style = \"float:right; width:450px; height:390px;\">\n",
    "\n",
    "### 🐱<font color='hotpink'>Here is the outline of Python Notebook🐱\n",
    "\n",
    "- 1.High suicide attempts ratio on LGBT than Heterosexual\n",
    ">- 1.1 Dataset with LGBT and Dataset with Heterosexual Selection\n",
    ">\n",
    ">- 1.2 Suicide Attempts Ratio Comparision\n",
    "- 2.variables that show higher ratio in LGBT compared with heterosexual.\n",
    "- 3.Classification  \n",
    ">- 3.1 KNN-Classification\n",
    ">\n",
    ">- 3.2 Desicion Tree  \n",
    "- 4.Regression  \n",
    ">- 4.1 Heat Map\n",
    ">\n",
    ">- 4.2 Mutiple Regression\n",
    "\n",
    "- 5.Summary "
   ]
  },
  {
   "cell_type": "markdown",
   "id": "7f0f2181",
   "metadata": {},
   "source": [
    "## 1. High suicide attempted on LGBT than Heterosexual"
   ]
  },
  {
   "cell_type": "markdown",
   "id": "320cd2e2",
   "metadata": {},
   "source": [
    "### 1.1 Select dataset with LGBT and dataset with Heterosexual"
   ]
  },
  {
   "cell_type": "code",
   "execution_count": 1,
   "id": "ed12b5d3",
   "metadata": {},
   "outputs": [],
   "source": [
    "import pandas as pd\n",
    "import numpy as np\n",
    "import seaborn as sns\n",
    "import matplotlib.pylab as plt\n",
    "from matplotlib.patches import Polygon\n",
    "pd.options.mode.chained_assignment = None"
   ]
  },
  {
   "cell_type": "code",
   "execution_count": 2,
   "id": "c0710c3d",
   "metadata": {
    "scrolled": true
   },
   "outputs": [
    {
     "data": {
      "text/html": [
       "<div>\n",
       "<style scoped>\n",
       "    .dataframe tbody tr th:only-of-type {\n",
       "        vertical-align: middle;\n",
       "    }\n",
       "\n",
       "    .dataframe tbody tr th {\n",
       "        vertical-align: top;\n",
       "    }\n",
       "\n",
       "    .dataframe thead th {\n",
       "        text-align: right;\n",
       "    }\n",
       "</style>\n",
       "<table border=\"1\" class=\"dataframe\">\n",
       "  <thead>\n",
       "    <tr style=\"text-align: right;\">\n",
       "      <th></th>\n",
       "      <th>sitecode</th>\n",
       "      <th>sitename</th>\n",
       "      <th>sitetype</th>\n",
       "      <th>sitetypenum</th>\n",
       "      <th>year</th>\n",
       "      <th>survyear</th>\n",
       "      <th>weight</th>\n",
       "      <th>stratum</th>\n",
       "      <th>PSU</th>\n",
       "      <th>record</th>\n",
       "      <th>...</th>\n",
       "      <th>qwenthungry</th>\n",
       "      <th>qmusclestrength</th>\n",
       "      <th>qsunscreenuse</th>\n",
       "      <th>qindoortanning</th>\n",
       "      <th>qsunburn</th>\n",
       "      <th>qconcentrating</th>\n",
       "      <th>qcurrentasthma</th>\n",
       "      <th>qwheresleep</th>\n",
       "      <th>qspeakenglish</th>\n",
       "      <th>qtransgender</th>\n",
       "    </tr>\n",
       "  </thead>\n",
       "  <tbody>\n",
       "    <tr>\n",
       "      <th>0</th>\n",
       "      <td>KY</td>\n",
       "      <td>Kentucky (KY)</td>\n",
       "      <td>State</td>\n",
       "      <td>2</td>\n",
       "      <td>2007</td>\n",
       "      <td>9</td>\n",
       "      <td>51.6402</td>\n",
       "      <td>28</td>\n",
       "      <td>2</td>\n",
       "      <td>648526</td>\n",
       "      <td>...</td>\n",
       "      <td>NaN</td>\n",
       "      <td>NaN</td>\n",
       "      <td>NaN</td>\n",
       "      <td>NaN</td>\n",
       "      <td>NaN</td>\n",
       "      <td>NaN</td>\n",
       "      <td>1.0</td>\n",
       "      <td>NaN</td>\n",
       "      <td>NaN</td>\n",
       "      <td>NaN</td>\n",
       "    </tr>\n",
       "    <tr>\n",
       "      <th>1</th>\n",
       "      <td>KY</td>\n",
       "      <td>Kentucky (KY)</td>\n",
       "      <td>State</td>\n",
       "      <td>2</td>\n",
       "      <td>2007</td>\n",
       "      <td>9</td>\n",
       "      <td>104.2187</td>\n",
       "      <td>18</td>\n",
       "      <td>2</td>\n",
       "      <td>648527</td>\n",
       "      <td>...</td>\n",
       "      <td>NaN</td>\n",
       "      <td>NaN</td>\n",
       "      <td>NaN</td>\n",
       "      <td>NaN</td>\n",
       "      <td>NaN</td>\n",
       "      <td>NaN</td>\n",
       "      <td>3.0</td>\n",
       "      <td>NaN</td>\n",
       "      <td>NaN</td>\n",
       "      <td>NaN</td>\n",
       "    </tr>\n",
       "    <tr>\n",
       "      <th>2</th>\n",
       "      <td>KY</td>\n",
       "      <td>Kentucky (KY)</td>\n",
       "      <td>State</td>\n",
       "      <td>2</td>\n",
       "      <td>2007</td>\n",
       "      <td>9</td>\n",
       "      <td>33.2209</td>\n",
       "      <td>6</td>\n",
       "      <td>2</td>\n",
       "      <td>648528</td>\n",
       "      <td>...</td>\n",
       "      <td>NaN</td>\n",
       "      <td>NaN</td>\n",
       "      <td>NaN</td>\n",
       "      <td>NaN</td>\n",
       "      <td>NaN</td>\n",
       "      <td>NaN</td>\n",
       "      <td>3.0</td>\n",
       "      <td>NaN</td>\n",
       "      <td>NaN</td>\n",
       "      <td>NaN</td>\n",
       "    </tr>\n",
       "    <tr>\n",
       "      <th>3</th>\n",
       "      <td>KY</td>\n",
       "      <td>Kentucky (KY)</td>\n",
       "      <td>State</td>\n",
       "      <td>2</td>\n",
       "      <td>2007</td>\n",
       "      <td>9</td>\n",
       "      <td>29.7973</td>\n",
       "      <td>29</td>\n",
       "      <td>2</td>\n",
       "      <td>648529</td>\n",
       "      <td>...</td>\n",
       "      <td>NaN</td>\n",
       "      <td>NaN</td>\n",
       "      <td>NaN</td>\n",
       "      <td>NaN</td>\n",
       "      <td>NaN</td>\n",
       "      <td>NaN</td>\n",
       "      <td>NaN</td>\n",
       "      <td>NaN</td>\n",
       "      <td>NaN</td>\n",
       "      <td>NaN</td>\n",
       "    </tr>\n",
       "    <tr>\n",
       "      <th>4</th>\n",
       "      <td>KY</td>\n",
       "      <td>Kentucky (KY)</td>\n",
       "      <td>State</td>\n",
       "      <td>2</td>\n",
       "      <td>2007</td>\n",
       "      <td>9</td>\n",
       "      <td>29.8429</td>\n",
       "      <td>8</td>\n",
       "      <td>1</td>\n",
       "      <td>648530</td>\n",
       "      <td>...</td>\n",
       "      <td>NaN</td>\n",
       "      <td>NaN</td>\n",
       "      <td>NaN</td>\n",
       "      <td>NaN</td>\n",
       "      <td>NaN</td>\n",
       "      <td>NaN</td>\n",
       "      <td>NaN</td>\n",
       "      <td>NaN</td>\n",
       "      <td>NaN</td>\n",
       "      <td>NaN</td>\n",
       "    </tr>\n",
       "  </tbody>\n",
       "</table>\n",
       "<p>5 rows × 150 columns</p>\n",
       "</div>"
      ],
      "text/plain": [
       "  sitecode       sitename sitetype  sitetypenum  year  survyear    weight  \\\n",
       "0       KY  Kentucky (KY)    State            2  2007         9   51.6402   \n",
       "1       KY  Kentucky (KY)    State            2  2007         9  104.2187   \n",
       "2       KY  Kentucky (KY)    State            2  2007         9   33.2209   \n",
       "3       KY  Kentucky (KY)    State            2  2007         9   29.7973   \n",
       "4       KY  Kentucky (KY)    State            2  2007         9   29.8429   \n",
       "\n",
       "   stratum  PSU  record  ...  qwenthungry  qmusclestrength  qsunscreenuse  \\\n",
       "0       28    2  648526  ...          NaN              NaN            NaN   \n",
       "1       18    2  648527  ...          NaN              NaN            NaN   \n",
       "2        6    2  648528  ...          NaN              NaN            NaN   \n",
       "3       29    2  648529  ...          NaN              NaN            NaN   \n",
       "4        8    1  648530  ...          NaN              NaN            NaN   \n",
       "\n",
       "   qindoortanning  qsunburn  qconcentrating  qcurrentasthma  qwheresleep  \\\n",
       "0             NaN       NaN             NaN             1.0          NaN   \n",
       "1             NaN       NaN             NaN             3.0          NaN   \n",
       "2             NaN       NaN             NaN             3.0          NaN   \n",
       "3             NaN       NaN             NaN             NaN          NaN   \n",
       "4             NaN       NaN             NaN             NaN          NaN   \n",
       "\n",
       "   qspeakenglish  qtransgender  \n",
       "0            NaN           NaN  \n",
       "1            NaN           NaN  \n",
       "2            NaN           NaN  \n",
       "3            NaN           NaN  \n",
       "4            NaN           NaN  \n",
       "\n",
       "[5 rows x 150 columns]"
      ]
     },
     "execution_count": 2,
     "metadata": {},
     "output_type": "execute_result"
    }
   ],
   "source": [
    "df = pd.read_csv('yrbsdata.csv')\n",
    "df.head()"
   ]
  },
  {
   "cell_type": "code",
   "execution_count": 3,
   "id": "dafdf408",
   "metadata": {},
   "outputs": [
    {
     "data": {
      "text/plain": [
       "(962925, 150)"
      ]
     },
     "execution_count": 3,
     "metadata": {},
     "output_type": "execute_result"
    }
   ],
   "source": [
    "df.shape"
   ]
  },
  {
   "cell_type": "markdown",
   "id": "43442dd8",
   "metadata": {},
   "source": [
    "**`Sexid2` stands by sexual identity:**\n",
    "\n",
    ">1 = \"Heterosexual\"\n",
    ">\n",
    ">2 = \"Sexual Minority\" (includes students who\n",
    "responded that they were gay or lesbian or\n",
    "bisexual)\n",
    ">\n",
    ">3 = \"Unsure\""
   ]
  },
  {
   "cell_type": "code",
   "execution_count": 4,
   "id": "0cced55a",
   "metadata": {},
   "outputs": [
    {
     "data": {
      "image/png": "[encoded data removed]",
      "text/plain": [
       "<Figure size 360x360 with 1 Axes>"
      ]
     },
     "metadata": {},
     "output_type": "display_data"
    }
   ],
   "source": [
    "df.sexid2.value_counts().plot.pie(labels=['\"Heterosexual\"', 'Sexual Minority','Unsure'], colors=['lightpink', 'lightblue','green'],\n",
    "                 autopct='%.2f', fontsize=12, figsize=(5, 5));\n",
    "plt.title('sex indentity')\n",
    "plt.axis('off');"
   ]
  },
  {
   "cell_type": "code",
   "execution_count": 5,
   "id": "a6fd63ee",
   "metadata": {},
   "outputs": [
    {
     "data": {
      "text/plain": [
       "222443"
      ]
     },
     "execution_count": 5,
     "metadata": {},
     "output_type": "execute_result"
    }
   ],
   "source": [
    "sum(df.sexid2 ==1)"
   ]
  },
  {
   "cell_type": "code",
   "execution_count": 6,
   "id": "dc1a7af8",
   "metadata": {},
   "outputs": [
    {
     "data": {
      "text/plain": [
       "22237"
      ]
     },
     "execution_count": 6,
     "metadata": {},
     "output_type": "execute_result"
    }
   ],
   "source": [
    "sum(df.sexid2 ==2)"
   ]
  },
  {
   "cell_type": "code",
   "execution_count": 7,
   "id": "bd77ace3",
   "metadata": {},
   "outputs": [],
   "source": [
    "dfstraight = df[df.sexid2 ==1]"
   ]
  },
  {
   "cell_type": "code",
   "execution_count": 8,
   "id": "f8854941",
   "metadata": {},
   "outputs": [],
   "source": [
    "dfLGB  = df[df.sexid2 ==2]"
   ]
  },
  {
   "cell_type": "markdown",
   "id": "bca49c74",
   "metadata": {},
   "source": [
    "**`qtransgende` stands by sexual identity:**\n",
    "\n",
    ">1 = \"not transgender\"\n",
    ">\n",
    ">2 = \"is transgender\n",
    ">\n",
    ">3 = \"Unsure\"\n",
    ">\n",
    ">4 = \"Dont't know transgender meanings\""
   ]
  },
  {
   "cell_type": "code",
   "execution_count": 9,
   "id": "ec452d54",
   "metadata": {},
   "outputs": [],
   "source": [
    "df1 = df.loc[df.qtransgender == 2]\n",
    "df2 = df1.loc[df1.sexid2==2]"
   ]
  },
  {
   "cell_type": "code",
   "execution_count": 10,
   "id": "b0916daa",
   "metadata": {
    "scrolled": true
   },
   "outputs": [
    {
     "data": {
      "text/plain": [
       "array([2.])"
      ]
     },
     "execution_count": 10,
     "metadata": {},
     "output_type": "execute_result"
    }
   ],
   "source": [
    "df2.sexid2.unique()"
   ]
  },
  {
   "cell_type": "code",
   "execution_count": 11,
   "id": "d867824b",
   "metadata": {},
   "outputs": [],
   "source": [
    "dfLGBT  = df[df.sexid2 ==2]"
   ]
  },
  {
   "cell_type": "markdown",
   "id": "ebc3b71e",
   "metadata": {},
   "source": [
    "<img src=\"https://www.clipartmax.com/png/middle/18-188281_gay-pride-logos-logos-gay.png\" style = \"float:right; width:100px; height:100px;\">\n",
    "\n",
    "**⚠️Explanation⚠️**\n",
    "\n",
    "> Transgenders all included on the LGB questions because they all chosen Gay/Lesbian/Biosexual on the sex self identity question.**\n",
    ">\n",
    "> Thus, I will only use dataset (sexid2 ==2) as LGBT.\n"
   ]
  },
  {
   "cell_type": "markdown",
   "id": "7b1d7bfe",
   "metadata": {},
   "source": [
    "### 1.2 Suicide Attempts and Suicide Frequency Ratio Comparision"
   ]
  },
  {
   "cell_type": "markdown",
   "id": "adf1a6bf",
   "metadata": {},
   "source": [
    "**⚠️Recode Discription⚠️**\n",
    "> - I recoded sexid2 variables, 1 for Heterosexual, 0 for LGBT.\n",
    ">\n",
    "> - Q25 is question about sad or hopeless, and but used 1 as sad, 2 as not sad. Thus, I recoded it, 1 as sad, 0 as not sad.\n",
    ">\n",
    "> - Q28 is suicide attempts, and 1 is no attempted; 2 as 1 time; 3 as 2 or 3 times; 4 as 4 or 5 times; 5 as 6 or more times. Thus, I recoded 1 as having attempts, 0 as no attemptes.( This *ONLY* use in the Suicide-Attemptd Comparision)"
   ]
  },
  {
   "cell_type": "markdown",
   "id": "2a2bc1b4",
   "metadata": {},
   "source": [
    "#### 1.2.1 Suicide Attempts Ratio Comparison"
   ]
  },
  {
   "cell_type": "code",
   "execution_count": 12,
   "id": "4f12fbbc",
   "metadata": {
    "scrolled": true
   },
   "outputs": [
    {
     "data": {
      "text/plain": [
       "(210335, 3)"
      ]
     },
     "execution_count": 12,
     "metadata": {},
     "output_type": "execute_result"
    }
   ],
   "source": [
    "dfall = df[(df.sexid2 !=3)][['sexid2','q25','q28']]\n",
    "dfall = dfall.dropna()# I cleaned it because there could be a lot of none values.\n",
    "dfall['q28'] = np.where(dfall['q28'] > 1, 1, 0)\n",
    "dfall['q25'] = np.where(dfall['q25'] == 1, 1, 0)\n",
    "dfall['sexid2'] = np.where(dfall['sexid2'] == 1,'Heterosexual', 'LGBT')\n",
    "dfall.columns=['Identity','Hopeless or Sad','Suicided Attempted']\n",
    "dfall.shape"
   ]
  },
  {
   "cell_type": "code",
   "execution_count": 13,
   "id": "fce97f43",
   "metadata": {
    "scrolled": false
   },
   "outputs": [
    {
     "data": {
      "text/html": [
       "<div>\n",
       "<style scoped>\n",
       "    .dataframe tbody tr th:only-of-type {\n",
       "        vertical-align: middle;\n",
       "    }\n",
       "\n",
       "    .dataframe tbody tr th {\n",
       "        vertical-align: top;\n",
       "    }\n",
       "\n",
       "    .dataframe thead th {\n",
       "        text-align: right;\n",
       "    }\n",
       "</style>\n",
       "<table border=\"1\" class=\"dataframe\">\n",
       "  <thead>\n",
       "    <tr style=\"text-align: right;\">\n",
       "      <th></th>\n",
       "      <th>Hopeless or Sad</th>\n",
       "      <th>Suicided Attempted</th>\n",
       "      <th>Total</th>\n",
       "    </tr>\n",
       "    <tr>\n",
       "      <th>Identity</th>\n",
       "      <th></th>\n",
       "      <th></th>\n",
       "      <th></th>\n",
       "    </tr>\n",
       "  </thead>\n",
       "  <tbody>\n",
       "    <tr>\n",
       "      <th>Heterosexual</th>\n",
       "      <td>48385</td>\n",
       "      <td>12774</td>\n",
       "      <td>191879</td>\n",
       "    </tr>\n",
       "    <tr>\n",
       "      <th>LGBT</th>\n",
       "      <td>10879</td>\n",
       "      <td>4752</td>\n",
       "      <td>18456</td>\n",
       "    </tr>\n",
       "  </tbody>\n",
       "</table>\n",
       "</div>"
      ],
      "text/plain": [
       "              Hopeless or Sad  Suicided Attempted   Total\n",
       "Identity                                                 \n",
       "Heterosexual            48385               12774  191879\n",
       "LGBT                    10879                4752   18456"
      ]
     },
     "execution_count": 13,
     "metadata": {},
     "output_type": "execute_result"
    }
   ],
   "source": [
    "Comparision = dfall.groupby(['Identity']).agg({'Hopeless or Sad':['sum'],'Suicided Attempted':['sum','count']})\n",
    "Comparision.columns = ['Hopeless or Sad','Suicided Attempted','Total']\n",
    "Comparision"
   ]
  },
  {
   "cell_type": "code",
   "execution_count": 14,
   "id": "c4daf9e7",
   "metadata": {},
   "outputs": [
    {
     "data": {
      "text/html": [
       "<div>\n",
       "<style scoped>\n",
       "    .dataframe tbody tr th:only-of-type {\n",
       "        vertical-align: middle;\n",
       "    }\n",
       "\n",
       "    .dataframe tbody tr th {\n",
       "        vertical-align: top;\n",
       "    }\n",
       "\n",
       "    .dataframe thead th {\n",
       "        text-align: right;\n",
       "    }\n",
       "</style>\n",
       "<table border=\"1\" class=\"dataframe\">\n",
       "  <thead>\n",
       "    <tr style=\"text-align: right;\">\n",
       "      <th></th>\n",
       "      <th>Hopeless or Sad</th>\n",
       "      <th>Suicided Attempted</th>\n",
       "      <th>Total</th>\n",
       "      <th>% of sad</th>\n",
       "      <th>% of Suicided</th>\n",
       "    </tr>\n",
       "    <tr>\n",
       "      <th>Identity</th>\n",
       "      <th></th>\n",
       "      <th></th>\n",
       "      <th></th>\n",
       "      <th></th>\n",
       "      <th></th>\n",
       "    </tr>\n",
       "  </thead>\n",
       "  <tbody>\n",
       "    <tr>\n",
       "      <th>Heterosexual</th>\n",
       "      <td>48385</td>\n",
       "      <td>12774</td>\n",
       "      <td>191879</td>\n",
       "      <td>25.216412</td>\n",
       "      <td>6.657320</td>\n",
       "    </tr>\n",
       "    <tr>\n",
       "      <th>LGBT</th>\n",
       "      <td>10879</td>\n",
       "      <td>4752</td>\n",
       "      <td>18456</td>\n",
       "      <td>58.945600</td>\n",
       "      <td>25.747724</td>\n",
       "    </tr>\n",
       "  </tbody>\n",
       "</table>\n",
       "</div>"
      ],
      "text/plain": [
       "              Hopeless or Sad  Suicided Attempted   Total   % of sad  \\\n",
       "Identity                                                               \n",
       "Heterosexual            48385               12774  191879  25.216412   \n",
       "LGBT                    10879                4752   18456  58.945600   \n",
       "\n",
       "              % of Suicided  \n",
       "Identity                     \n",
       "Heterosexual       6.657320  \n",
       "LGBT              25.747724  "
      ]
     },
     "execution_count": 14,
     "metadata": {},
     "output_type": "execute_result"
    }
   ],
   "source": [
    "Comparision['% of sad'] = 100 * Comparision['Hopeless or Sad'] / Comparision.groupby('Identity')['Total'].transform('sum')\n",
    "Comparision['% of Suicided'] = 100 * Comparision['Suicided Attempted'] / Comparision.groupby('Identity')['Total'].transform('sum')\n",
    "Comparision"
   ]
  },
  {
   "cell_type": "code",
   "execution_count": 15,
   "id": "87e8f49f",
   "metadata": {
    "scrolled": true
   },
   "outputs": [
    {
     "data": {
      "text/html": [
       "<div>\n",
       "<style scoped>\n",
       "    .dataframe tbody tr th:only-of-type {\n",
       "        vertical-align: middle;\n",
       "    }\n",
       "\n",
       "    .dataframe tbody tr th {\n",
       "        vertical-align: top;\n",
       "    }\n",
       "\n",
       "    .dataframe thead th {\n",
       "        text-align: right;\n",
       "    }\n",
       "</style>\n",
       "<table border=\"1\" class=\"dataframe\">\n",
       "  <thead>\n",
       "    <tr style=\"text-align: right;\">\n",
       "      <th></th>\n",
       "      <th>% of sad</th>\n",
       "      <th>% of Suicided</th>\n",
       "    </tr>\n",
       "    <tr>\n",
       "      <th>Identity</th>\n",
       "      <th></th>\n",
       "      <th></th>\n",
       "    </tr>\n",
       "  </thead>\n",
       "  <tbody>\n",
       "    <tr>\n",
       "      <th>Heterosexual</th>\n",
       "      <td>25.216412</td>\n",
       "      <td>6.657320</td>\n",
       "    </tr>\n",
       "    <tr>\n",
       "      <th>LGBT</th>\n",
       "      <td>58.945600</td>\n",
       "      <td>25.747724</td>\n",
       "    </tr>\n",
       "  </tbody>\n",
       "</table>\n",
       "</div>"
      ],
      "text/plain": [
       "               % of sad  % of Suicided\n",
       "Identity                              \n",
       "Heterosexual  25.216412       6.657320\n",
       "LGBT          58.945600      25.747724"
      ]
     },
     "execution_count": 15,
     "metadata": {},
     "output_type": "execute_result"
    }
   ],
   "source": [
    "Comparision1 = Comparision[['% of sad','% of Suicided']]\n",
    "Comparision1"
   ]
  },
  {
   "cell_type": "code",
   "execution_count": 16,
   "id": "17252f8d",
   "metadata": {},
   "outputs": [
    {
     "data": {
      "text/html": [
       "<div>\n",
       "<style scoped>\n",
       "    .dataframe tbody tr th:only-of-type {\n",
       "        vertical-align: middle;\n",
       "    }\n",
       "\n",
       "    .dataframe tbody tr th {\n",
       "        vertical-align: top;\n",
       "    }\n",
       "\n",
       "    .dataframe thead th {\n",
       "        text-align: right;\n",
       "    }\n",
       "</style>\n",
       "<table border=\"1\" class=\"dataframe\">\n",
       "  <thead>\n",
       "    <tr style=\"text-align: right;\">\n",
       "      <th></th>\n",
       "      <th>Hopeless or Sad</th>\n",
       "      <th>Suicided Attempted</th>\n",
       "      <th>Total</th>\n",
       "    </tr>\n",
       "    <tr>\n",
       "      <th>Identity</th>\n",
       "      <th></th>\n",
       "      <th></th>\n",
       "      <th></th>\n",
       "    </tr>\n",
       "  </thead>\n",
       "  <tbody>\n",
       "    <tr>\n",
       "      <th>Heterosexual</th>\n",
       "      <td>48385</td>\n",
       "      <td>12774</td>\n",
       "      <td>191879</td>\n",
       "    </tr>\n",
       "    <tr>\n",
       "      <th>LGBT</th>\n",
       "      <td>10879</td>\n",
       "      <td>4752</td>\n",
       "      <td>18456</td>\n",
       "    </tr>\n",
       "  </tbody>\n",
       "</table>\n",
       "</div>"
      ],
      "text/plain": [
       "              Hopeless or Sad  Suicided Attempted   Total\n",
       "Identity                                                 \n",
       "Heterosexual            48385               12774  191879\n",
       "LGBT                    10879                4752   18456"
      ]
     },
     "execution_count": 16,
     "metadata": {},
     "output_type": "execute_result"
    }
   ],
   "source": [
    "Comparision2 = Comparision[['Hopeless or Sad', 'Suicided Attempted', 'Total']]\n",
    "Comparision2"
   ]
  },
  {
   "cell_type": "code",
   "execution_count": 17,
   "id": "536c5026",
   "metadata": {},
   "outputs": [
    {
     "data": {
      "image/png": "[encoded data removed]",
      "text/plain": [
       "<Figure size 432x288 with 1 Axes>"
      ]
     },
     "metadata": {
      "needs_background": "light"
     },
     "output_type": "display_data"
    }
   ],
   "source": [
    "ax = Comparision1.plot.bar(rot=0, color=['lightseagreen','pink'])\n",
    "plt.ylabel('% ')\n",
    "plt.xlabel('Identity')\n",
    "plt.legend(loc=0);\n",
    "for container in ax.containers:\n",
    "    ax.bar_label(container)"
   ]
  },
  {
   "cell_type": "code",
   "execution_count": 18,
   "id": "8c009dff",
   "metadata": {
    "scrolled": true
   },
   "outputs": [
    {
     "data": {
      "image/png": "[encoded data removed]",
      "text/plain": [
       "<Figure size 432x288 with 1 Axes>"
      ]
     },
     "metadata": {
      "needs_background": "light"
     },
     "output_type": "display_data"
    }
   ],
   "source": [
    "ax = Comparision2.plot.bar(rot=0, color=['lightseagreen','pink','skyblue'])\n",
    "plt.ylabel('Total')\n",
    "plt.xlabel('Identity')\n",
    "plt.legend(loc=0);\n",
    "for container in ax.containers:\n",
    "    ax.bar_label(container)"
   ]
  },
  {
   "cell_type": "markdown",
   "id": "63a997fa",
   "metadata": {},
   "source": [
    "<img src=\"https://cdn.dribbble.com/users/1769954/screenshots/3881945/media/c0fe4807ee4cacea279b5499f0438a99.png\" style = \"float:right; width:150px; height:100px;\">\n",
    "\n",
    "> **💓We can observe from the graph above that LGBT people have a significantly higher suicide rate and negative mood rate than straight people.💓**"
   ]
  },
  {
   "cell_type": "markdown",
   "id": "03907a70",
   "metadata": {},
   "source": [
    " #### 1.2.1 Suicide frequency Ratio Comparison"
   ]
  },
  {
   "cell_type": "code",
   "execution_count": 19,
   "id": "a6f2fdac",
   "metadata": {
    "scrolled": false
   },
   "outputs": [
    {
     "data": {
      "text/html": [
       "<div>\n",
       "<style scoped>\n",
       "    .dataframe tbody tr th:only-of-type {\n",
       "        vertical-align: middle;\n",
       "    }\n",
       "\n",
       "    .dataframe tbody tr th {\n",
       "        vertical-align: top;\n",
       "    }\n",
       "\n",
       "    .dataframe thead th {\n",
       "        text-align: right;\n",
       "    }\n",
       "</style>\n",
       "<table border=\"1\" class=\"dataframe\">\n",
       "  <thead>\n",
       "    <tr style=\"text-align: right;\">\n",
       "      <th></th>\n",
       "      <th>Identity</th>\n",
       "      <th>Hopeless or Sad</th>\n",
       "      <th>Suicided Attempts</th>\n",
       "    </tr>\n",
       "  </thead>\n",
       "  <tbody>\n",
       "    <tr>\n",
       "      <th>119065</th>\n",
       "      <td>Heterosexual</td>\n",
       "      <td>2.0</td>\n",
       "      <td>1.0</td>\n",
       "    </tr>\n",
       "    <tr>\n",
       "      <th>119066</th>\n",
       "      <td>Heterosexual</td>\n",
       "      <td>1.0</td>\n",
       "      <td>1.0</td>\n",
       "    </tr>\n",
       "    <tr>\n",
       "      <th>119067</th>\n",
       "      <td>Heterosexual</td>\n",
       "      <td>2.0</td>\n",
       "      <td>1.0</td>\n",
       "    </tr>\n",
       "    <tr>\n",
       "      <th>119068</th>\n",
       "      <td>Heterosexual</td>\n",
       "      <td>2.0</td>\n",
       "      <td>1.0</td>\n",
       "    </tr>\n",
       "    <tr>\n",
       "      <th>119070</th>\n",
       "      <td>Heterosexual</td>\n",
       "      <td>1.0</td>\n",
       "      <td>1.0</td>\n",
       "    </tr>\n",
       "    <tr>\n",
       "      <th>...</th>\n",
       "      <td>...</td>\n",
       "      <td>...</td>\n",
       "      <td>...</td>\n",
       "    </tr>\n",
       "    <tr>\n",
       "      <th>962918</th>\n",
       "      <td>Heterosexual</td>\n",
       "      <td>2.0</td>\n",
       "      <td>1.0</td>\n",
       "    </tr>\n",
       "    <tr>\n",
       "      <th>962919</th>\n",
       "      <td>Heterosexual</td>\n",
       "      <td>2.0</td>\n",
       "      <td>1.0</td>\n",
       "    </tr>\n",
       "    <tr>\n",
       "      <th>962921</th>\n",
       "      <td>Heterosexual</td>\n",
       "      <td>2.0</td>\n",
       "      <td>1.0</td>\n",
       "    </tr>\n",
       "    <tr>\n",
       "      <th>962923</th>\n",
       "      <td>Heterosexual</td>\n",
       "      <td>1.0</td>\n",
       "      <td>1.0</td>\n",
       "    </tr>\n",
       "    <tr>\n",
       "      <th>962924</th>\n",
       "      <td>Heterosexual</td>\n",
       "      <td>2.0</td>\n",
       "      <td>1.0</td>\n",
       "    </tr>\n",
       "  </tbody>\n",
       "</table>\n",
       "<p>210335 rows × 3 columns</p>\n",
       "</div>"
      ],
      "text/plain": [
       "            Identity  Hopeless or Sad  Suicided Attempts\n",
       "119065  Heterosexual              2.0                1.0\n",
       "119066  Heterosexual              1.0                1.0\n",
       "119067  Heterosexual              2.0                1.0\n",
       "119068  Heterosexual              2.0                1.0\n",
       "119070  Heterosexual              1.0                1.0\n",
       "...              ...              ...                ...\n",
       "962918  Heterosexual              2.0                1.0\n",
       "962919  Heterosexual              2.0                1.0\n",
       "962921  Heterosexual              2.0                1.0\n",
       "962923  Heterosexual              1.0                1.0\n",
       "962924  Heterosexual              2.0                1.0\n",
       "\n",
       "[210335 rows x 3 columns]"
      ]
     },
     "execution_count": 19,
     "metadata": {},
     "output_type": "execute_result"
    }
   ],
   "source": [
    "dfall2 = df[(df.sexid2 !=3)][['sexid2','q25','q28']]\n",
    "dfall2 = dfall2.dropna()# I cleaned it because there could be a lot of none values.\n",
    "dfall2['sexid2'] = np.where(dfall2['sexid2'] == 1,'Heterosexual', 'LGBT')\n",
    "dfall2.columns={'Identity','Hopeless or Sad', 'Suicided Attempts'}\n",
    "dfall2"
   ]
  },
  {
   "cell_type": "code",
   "execution_count": 20,
   "id": "0c794fba",
   "metadata": {
    "scrolled": false
   },
   "outputs": [
    {
     "data": {
      "text/html": [
       "<div>\n",
       "<style scoped>\n",
       "    .dataframe tbody tr th:only-of-type {\n",
       "        vertical-align: middle;\n",
       "    }\n",
       "\n",
       "    .dataframe tbody tr th {\n",
       "        vertical-align: top;\n",
       "    }\n",
       "\n",
       "    .dataframe thead th {\n",
       "        text-align: right;\n",
       "    }\n",
       "</style>\n",
       "<table border=\"1\" class=\"dataframe\">\n",
       "  <thead>\n",
       "    <tr style=\"text-align: right;\">\n",
       "      <th></th>\n",
       "      <th></th>\n",
       "      <th>%</th>\n",
       "    </tr>\n",
       "    <tr>\n",
       "      <th>Identity</th>\n",
       "      <th>Suicided Attempts</th>\n",
       "      <th></th>\n",
       "    </tr>\n",
       "  </thead>\n",
       "  <tbody>\n",
       "    <tr>\n",
       "      <th rowspan=\"5\" valign=\"top\">Heterosexual</th>\n",
       "      <th>1.0</th>\n",
       "      <td>93.342680</td>\n",
       "    </tr>\n",
       "    <tr>\n",
       "      <th>2.0</th>\n",
       "      <td>4.280302</td>\n",
       "    </tr>\n",
       "    <tr>\n",
       "      <th>3.0</th>\n",
       "      <td>1.592670</td>\n",
       "    </tr>\n",
       "    <tr>\n",
       "      <th>4.0</th>\n",
       "      <td>0.297062</td>\n",
       "    </tr>\n",
       "    <tr>\n",
       "      <th>5.0</th>\n",
       "      <td>0.487286</td>\n",
       "    </tr>\n",
       "    <tr>\n",
       "      <th rowspan=\"5\" valign=\"top\">LGBT</th>\n",
       "      <th>1.0</th>\n",
       "      <td>74.252276</td>\n",
       "    </tr>\n",
       "    <tr>\n",
       "      <th>2.0</th>\n",
       "      <td>12.472909</td>\n",
       "    </tr>\n",
       "    <tr>\n",
       "      <th>3.0</th>\n",
       "      <td>8.452536</td>\n",
       "    </tr>\n",
       "    <tr>\n",
       "      <th>4.0</th>\n",
       "      <td>1.966840</td>\n",
       "    </tr>\n",
       "    <tr>\n",
       "      <th>5.0</th>\n",
       "      <td>2.855440</td>\n",
       "    </tr>\n",
       "  </tbody>\n",
       "</table>\n",
       "</div>"
      ],
      "text/plain": [
       "                                        %\n",
       "Identity     Suicided Attempts           \n",
       "Heterosexual 1.0                93.342680\n",
       "             2.0                 4.280302\n",
       "             3.0                 1.592670\n",
       "             4.0                 0.297062\n",
       "             5.0                 0.487286\n",
       "LGBT         1.0                74.252276\n",
       "             2.0                12.472909\n",
       "             3.0                 8.452536\n",
       "             4.0                 1.966840\n",
       "             5.0                 2.855440"
      ]
     },
     "execution_count": 20,
     "metadata": {},
     "output_type": "execute_result"
    }
   ],
   "source": [
    "Comparision3 = dfall2.groupby(['Identity','Suicided Attempts']).count()\n",
    "Comparision3.columns = ['Total']\n",
    "Comparision3['%'] = 100 * Comparision3['Total'] / Comparision3.groupby('Identity')['Total'].transform('sum')\n",
    "Comparision3.drop(columns = 'Total',inplace = True)\n",
    "Comparision3"
   ]
  },
  {
   "cell_type": "code",
   "execution_count": 21,
   "id": "35e73fb0",
   "metadata": {},
   "outputs": [
    {
     "data": {
      "text/html": [
       "<div>\n",
       "<style scoped>\n",
       "    .dataframe tbody tr th:only-of-type {\n",
       "        vertical-align: middle;\n",
       "    }\n",
       "\n",
       "    .dataframe tbody tr th {\n",
       "        vertical-align: top;\n",
       "    }\n",
       "\n",
       "    .dataframe thead th {\n",
       "        text-align: right;\n",
       "    }\n",
       "</style>\n",
       "<table border=\"1\" class=\"dataframe\">\n",
       "  <thead>\n",
       "    <tr style=\"text-align: right;\">\n",
       "      <th></th>\n",
       "      <th>Heterosexual</th>\n",
       "      <th>LGBT</th>\n",
       "    </tr>\n",
       "  </thead>\n",
       "  <tbody>\n",
       "    <tr>\n",
       "      <th>0</th>\n",
       "      <td>93.342680</td>\n",
       "      <td>74.252276</td>\n",
       "    </tr>\n",
       "    <tr>\n",
       "      <th>1</th>\n",
       "      <td>4.280302</td>\n",
       "      <td>12.472909</td>\n",
       "    </tr>\n",
       "    <tr>\n",
       "      <th>2-3</th>\n",
       "      <td>1.592670</td>\n",
       "      <td>8.452536</td>\n",
       "    </tr>\n",
       "    <tr>\n",
       "      <th>4-5</th>\n",
       "      <td>0.297060</td>\n",
       "      <td>1.966840</td>\n",
       "    </tr>\n",
       "    <tr>\n",
       "      <th>&gt;=6</th>\n",
       "      <td>0.487286</td>\n",
       "      <td>2.855440</td>\n",
       "    </tr>\n",
       "  </tbody>\n",
       "</table>\n",
       "</div>"
      ],
      "text/plain": [
       "     Heterosexual       LGBT\n",
       "0       93.342680  74.252276\n",
       "1        4.280302  12.472909\n",
       "2-3      1.592670   8.452536\n",
       "4-5      0.297060   1.966840\n",
       ">=6      0.487286   2.855440"
      ]
     },
     "execution_count": 21,
     "metadata": {},
     "output_type": "execute_result"
    }
   ],
   "source": [
    "Heterosexual = [93.342680,4.280302,1.592670,0.29706,0.487286]\n",
    "LGBT = [74.252276,12.472909,8.452536,1.966840,2.855440]\n",
    "index = ['0', '1', '2-3', '4-5', '>=6']\n",
    "dfp = pd.DataFrame({'Heterosexual': Heterosexual,\n",
    "                   'LGBT': LGBT}, index=index)\n",
    "dfp"
   ]
  },
  {
   "cell_type": "code",
   "execution_count": 22,
   "id": "2c1a5655",
   "metadata": {
    "scrolled": true
   },
   "outputs": [
    {
     "data": {
      "text/plain": [
       "Text(0, 0.5, 'Percentage')"
      ]
     },
     "execution_count": 22,
     "metadata": {},
     "output_type": "execute_result"
    },
    {
     "data": {
      "text/plain": [
       "<Figure size 360x216 with 0 Axes>"
      ]
     },
     "metadata": {},
     "output_type": "display_data"
    },
    {
     "data": {
      "image/png": "[encoded data removed]",
      "text/plain": [
       "<Figure size 432x288 with 2 Axes>"
      ]
     },
     "metadata": {
      "needs_background": "light"
     },
     "output_type": "display_data"
    }
   ],
   "source": [
    "plt.figure(figsize=(5,3))\n",
    "ax = dfp.plot.bar(rot=0, subplots=True,color=['palevioletred','skyblue'])\n",
    "ax[1].legend(loc=2) \n",
    "plt.xlabel('Suicde Attempts')\n",
    "plt.ylabel('Percentage')"
   ]
  },
  {
   "cell_type": "markdown",
   "id": "f5fe1265",
   "metadata": {},
   "source": [
    "<img src=\"https://cdn.dribbble.com/users/1769954/screenshots/3881945/media/c0fe4807ee4cacea279b5499f0438a99.png\" style = \"float:right; width:150px; height:100px;\">\n",
    "\n",
    "> **💓We can see from the graph above that the LGBT community has a far higher suicide attempt frequency than the heterosexual community, implying that they attempted suicide more frequently.**\n",
    "\n",
    "**😭 <font color='palevioletred'>LGBT people attempt suicide at a higher rate and more frequently than heterosexual people.</font> 😭**"
   ]
  },
  {
   "cell_type": "markdown",
   "id": "2acf5661",
   "metadata": {},
   "source": [
    "## 2.Variables that show higher ratio in LGBT compared with heterosexual."
   ]
  },
  {
   "cell_type": "code",
   "execution_count": 23,
   "id": "10d6703c",
   "metadata": {
    "scrolled": true
   },
   "outputs": [
    {
     "name": "stderr",
     "output_type": "stream",
     "text": [
      "C:\\Users\\18552\\AppData\\Local\\Temp/ipykernel_2516/1346850550.py:1: FutureWarning: Dropping of nuisance columns in DataFrame reductions (with 'numeric_only=None') is deprecated; in a future version this will raise TypeError.  Select only valid columns before calling the reduction.\n",
      "  m=pd.DataFrame(dfLGBT.mean())\n",
      "C:\\Users\\18552\\AppData\\Local\\Temp/ipykernel_2516/1346850550.py:2: FutureWarning: Dropping of nuisance columns in DataFrame reductions (with 'numeric_only=None') is deprecated; in a future version this will raise TypeError.  Select only valid columns before calling the reduction.\n",
      "  n=pd.DataFrame(dfstraight.mean())\n"
     ]
    }
   ],
   "source": [
    "m=pd.DataFrame(dfLGBT.mean())\n",
    "n=pd.DataFrame(dfstraight.mean())"
   ]
  },
  {
   "cell_type": "code",
   "execution_count": 24,
   "id": "8f72ede1",
   "metadata": {
    "scrolled": true
   },
   "outputs": [
    {
     "data": {
      "text/html": [
       "<div>\n",
       "<style scoped>\n",
       "    .dataframe tbody tr th:only-of-type {\n",
       "        vertical-align: middle;\n",
       "    }\n",
       "\n",
       "    .dataframe tbody tr th {\n",
       "        vertical-align: top;\n",
       "    }\n",
       "\n",
       "    .dataframe thead th {\n",
       "        text-align: right;\n",
       "    }\n",
       "</style>\n",
       "<table border=\"1\" class=\"dataframe\">\n",
       "  <thead>\n",
       "    <tr style=\"text-align: right;\">\n",
       "      <th></th>\n",
       "      <th>Difference</th>\n",
       "    </tr>\n",
       "  </thead>\n",
       "  <tbody>\n",
       "    <tr>\n",
       "      <th>year</th>\n",
       "      <td>0.759506</td>\n",
       "    </tr>\n",
       "    <tr>\n",
       "      <th>survyear</th>\n",
       "      <td>0.379753</td>\n",
       "    </tr>\n",
       "    <tr>\n",
       "      <th>weight</th>\n",
       "      <td>0.601766</td>\n",
       "    </tr>\n",
       "    <tr>\n",
       "      <th>stratum</th>\n",
       "      <td>0.666891</td>\n",
       "    </tr>\n",
       "    <tr>\n",
       "      <th>record</th>\n",
       "      <td>60662.329863</td>\n",
       "    </tr>\n",
       "    <tr>\n",
       "      <th>stweight</th>\n",
       "      <td>0.737931</td>\n",
       "    </tr>\n",
       "    <tr>\n",
       "      <th>bmi</th>\n",
       "      <td>1.327924</td>\n",
       "    </tr>\n",
       "    <tr>\n",
       "      <th>bmipct</th>\n",
       "      <td>4.623759</td>\n",
       "    </tr>\n",
       "    <tr>\n",
       "      <th>q67</th>\n",
       "      <td>1.722400</td>\n",
       "    </tr>\n",
       "    <tr>\n",
       "      <th>q66</th>\n",
       "      <td>0.784161</td>\n",
       "    </tr>\n",
       "    <tr>\n",
       "      <th>sexid</th>\n",
       "      <td>1.722400</td>\n",
       "    </tr>\n",
       "    <tr>\n",
       "      <th>sexid2</th>\n",
       "      <td>1.000000</td>\n",
       "    </tr>\n",
       "    <tr>\n",
       "      <th>sexpart</th>\n",
       "      <td>0.950088</td>\n",
       "    </tr>\n",
       "    <tr>\n",
       "      <th>sexpart2</th>\n",
       "      <td>0.639440</td>\n",
       "    </tr>\n",
       "    <tr>\n",
       "      <th>q17</th>\n",
       "      <td>0.331382</td>\n",
       "    </tr>\n",
       "    <tr>\n",
       "      <th>q20</th>\n",
       "      <td>0.327707</td>\n",
       "    </tr>\n",
       "    <tr>\n",
       "      <th>q25</th>\n",
       "      <td>0.329485</td>\n",
       "    </tr>\n",
       "    <tr>\n",
       "      <th>q28</th>\n",
       "      <td>0.388018</td>\n",
       "    </tr>\n",
       "    <tr>\n",
       "      <th>q29</th>\n",
       "      <td>0.323571</td>\n",
       "    </tr>\n",
       "    <tr>\n",
       "      <th>q31</th>\n",
       "      <td>0.540210</td>\n",
       "    </tr>\n",
       "    <tr>\n",
       "      <th>q32</th>\n",
       "      <td>0.428323</td>\n",
       "    </tr>\n",
       "    <tr>\n",
       "      <th>q33</th>\n",
       "      <td>0.350008</td>\n",
       "    </tr>\n",
       "    <tr>\n",
       "      <th>q40</th>\n",
       "      <td>0.543324</td>\n",
       "    </tr>\n",
       "    <tr>\n",
       "      <th>q41</th>\n",
       "      <td>0.319888</td>\n",
       "    </tr>\n",
       "    <tr>\n",
       "      <th>q43</th>\n",
       "      <td>0.582742</td>\n",
       "    </tr>\n",
       "    <tr>\n",
       "      <th>q45</th>\n",
       "      <td>0.385056</td>\n",
       "    </tr>\n",
       "    <tr>\n",
       "      <th>q46</th>\n",
       "      <td>0.756727</td>\n",
       "    </tr>\n",
       "    <tr>\n",
       "      <th>q47</th>\n",
       "      <td>0.635130</td>\n",
       "    </tr>\n",
       "    <tr>\n",
       "      <th>q48</th>\n",
       "      <td>0.390142</td>\n",
       "    </tr>\n",
       "    <tr>\n",
       "      <th>q50</th>\n",
       "      <td>0.325019</td>\n",
       "    </tr>\n",
       "    <tr>\n",
       "      <th>q56</th>\n",
       "      <td>0.315763</td>\n",
       "    </tr>\n",
       "    <tr>\n",
       "      <th>q60</th>\n",
       "      <td>0.446043</td>\n",
       "    </tr>\n",
       "    <tr>\n",
       "      <th>q61</th>\n",
       "      <td>0.569274</td>\n",
       "    </tr>\n",
       "    <tr>\n",
       "      <th>q62</th>\n",
       "      <td>0.362457</td>\n",
       "    </tr>\n",
       "    <tr>\n",
       "      <th>q65</th>\n",
       "      <td>0.372168</td>\n",
       "    </tr>\n",
       "    <tr>\n",
       "      <th>q77</th>\n",
       "      <td>0.309189</td>\n",
       "    </tr>\n",
       "    <tr>\n",
       "      <th>q78</th>\n",
       "      <td>0.942147</td>\n",
       "    </tr>\n",
       "    <tr>\n",
       "      <th>q79</th>\n",
       "      <td>1.002895</td>\n",
       "    </tr>\n",
       "    <tr>\n",
       "      <th>q81</th>\n",
       "      <td>0.446179</td>\n",
       "    </tr>\n",
       "    <tr>\n",
       "      <th>q83</th>\n",
       "      <td>0.339351</td>\n",
       "    </tr>\n",
       "    <tr>\n",
       "      <th>q88</th>\n",
       "      <td>0.531939</td>\n",
       "    </tr>\n",
       "    <tr>\n",
       "      <th>q89</th>\n",
       "      <td>0.314425</td>\n",
       "    </tr>\n",
       "    <tr>\n",
       "      <th>qcelldriving</th>\n",
       "      <td>0.471483</td>\n",
       "    </tr>\n",
       "    <tr>\n",
       "      <th>qpropertydamage</th>\n",
       "      <td>0.356624</td>\n",
       "    </tr>\n",
       "    <tr>\n",
       "      <th>qbullygay</th>\n",
       "      <td>0.340552</td>\n",
       "    </tr>\n",
       "    <tr>\n",
       "      <th>qtypealcohol</th>\n",
       "      <td>1.175175</td>\n",
       "    </tr>\n",
       "    <tr>\n",
       "      <th>qhallucdrug</th>\n",
       "      <td>0.330708</td>\n",
       "    </tr>\n",
       "    <tr>\n",
       "      <th>qgenderexp</th>\n",
       "      <td>0.762115</td>\n",
       "    </tr>\n",
       "    <tr>\n",
       "      <th>qwater</th>\n",
       "      <td>0.419957</td>\n",
       "    </tr>\n",
       "    <tr>\n",
       "      <th>qmusclestrength</th>\n",
       "      <td>0.691435</td>\n",
       "    </tr>\n",
       "    <tr>\n",
       "      <th>qsunburn</th>\n",
       "      <td>0.371953</td>\n",
       "    </tr>\n",
       "  </tbody>\n",
       "</table>\n",
       "</div>"
      ],
      "text/plain": [
       "                   Difference\n",
       "year                 0.759506\n",
       "survyear             0.379753\n",
       "weight               0.601766\n",
       "stratum              0.666891\n",
       "record           60662.329863\n",
       "stweight             0.737931\n",
       "bmi                  1.327924\n",
       "bmipct               4.623759\n",
       "q67                  1.722400\n",
       "q66                  0.784161\n",
       "sexid                1.722400\n",
       "sexid2               1.000000\n",
       "sexpart              0.950088\n",
       "sexpart2             0.639440\n",
       "q17                  0.331382\n",
       "q20                  0.327707\n",
       "q25                  0.329485\n",
       "q28                  0.388018\n",
       "q29                  0.323571\n",
       "q31                  0.540210\n",
       "q32                  0.428323\n",
       "q33                  0.350008\n",
       "q40                  0.543324\n",
       "q41                  0.319888\n",
       "q43                  0.582742\n",
       "q45                  0.385056\n",
       "q46                  0.756727\n",
       "q47                  0.635130\n",
       "q48                  0.390142\n",
       "q50                  0.325019\n",
       "q56                  0.315763\n",
       "q60                  0.446043\n",
       "q61                  0.569274\n",
       "q62                  0.362457\n",
       "q65                  0.372168\n",
       "q77                  0.309189\n",
       "q78                  0.942147\n",
       "q79                  1.002895\n",
       "q81                  0.446179\n",
       "q83                  0.339351\n",
       "q88                  0.531939\n",
       "q89                  0.314425\n",
       "qcelldriving         0.471483\n",
       "qpropertydamage      0.356624\n",
       "qbullygay            0.340552\n",
       "qtypealcohol         1.175175\n",
       "qhallucdrug          0.330708\n",
       "qgenderexp           0.762115\n",
       "qwater               0.419957\n",
       "qmusclestrength      0.691435\n",
       "qsunburn             0.371953"
      ]
     },
     "execution_count": 24,
     "metadata": {},
     "output_type": "execute_result"
    }
   ],
   "source": [
    "M= abs(m-n)\n",
    "M.columns={'Difference'}\n",
    "M.loc[M.Difference >0.3]"
   ]
  },
  {
   "cell_type": "markdown",
   "id": "a24d0df7",
   "metadata": {},
   "source": [
    "<img src=\"https://cdn.dribbble.com/users/1769954/screenshots/3881945/media/c0fe4807ee4cacea279b5499f0438a99.png\" style = \"float:right; width:150px; height:100px;\">\n",
    "\n",
    "**⚠️Explanation⚠️**\n",
    "\n",
    ">  To quickly distinguish the distinct variables from 150 variables, I just utilize basic difference computations between LGBT and Straight, which is not very strict. And I will do further reasearch about it. \n",
    ">\n",
    ">  And after going over all of the variable definitions, I picked 'q17', 'q23', 'q22', 'q32', 'q46', 'q79', 'bmipct', 'q78', 'q88', 'q81', based on normal sense, data remaining after cleaning, high difference."
   ]
  },
  {
   "cell_type": "code",
   "execution_count": 25,
   "id": "7fd92d5e",
   "metadata": {},
   "outputs": [
    {
     "data": {
      "text/plain": [
       "(5473, 10)"
      ]
     },
     "execution_count": 25,
     "metadata": {},
     "output_type": "execute_result"
    }
   ],
   "source": [
    "dfLGBT1=dfLGBT[['q17','q23','q22','q32','q46','q79','bmipct','q78','q88','q81']]\n",
    "dfLGBT1 = dfLGBT1.dropna()\n",
    "dfLGBT1.shape"
   ]
  },
  {
   "cell_type": "code",
   "execution_count": 26,
   "id": "39f1371b",
   "metadata": {},
   "outputs": [
    {
     "data": {
      "text/plain": [
       "(57947, 10)"
      ]
     },
     "execution_count": 26,
     "metadata": {},
     "output_type": "execute_result"
    }
   ],
   "source": [
    "dfstraight1=dfstraight[['q17','q23','q22','q32','q46','q79','bmipct','q78','q88','q81']]\n",
    "dfstraight1=dfstraight1.dropna() \n",
    "dfstraight1.shape"
   ]
  },
  {
   "cell_type": "markdown",
   "id": "e86efbad",
   "metadata": {},
   "source": [
    "<img src=\"https://www.whitesourcesoftware.com/wp-content/media/2021/06/Pride-Blog-01-1.png\" style = \"float:right; width:500px; height:350px;\">\n",
    "\n",
    ">-`q17`:Physical fighting\n",
    ">\n",
    ">-`q23`:Bullying at school\n",
    ">\n",
    ">-`q22`:Physical dating violence\n",
    ">\n",
    ">-`q32`:Current cigarette use\n",
    ">\n",
    ">-`q46`:Ever marijuana use\n",
    ">\n",
    ">-`q79`:Physical activity >= 5 days\n",
    ">\n",
    ">-`bmipct`:Student’s BMI percentile\n",
    ">\n",
    ">-`q78`:Breakfast eating\n",
    ">\n",
    ">-`q88`:Sleep\n",
    ">\n",
    ">-`q81`:Computer use"
   ]
  },
  {
   "cell_type": "code",
   "execution_count": 27,
   "id": "1fd85d00",
   "metadata": {},
   "outputs": [],
   "source": [
    "dfstraighttest=dfstraight1.drop(columns=['bmipct','q32'])"
   ]
  },
  {
   "cell_type": "code",
   "execution_count": 28,
   "id": "d5a009cf",
   "metadata": {
    "scrolled": true
   },
   "outputs": [],
   "source": [
    "dfLGBTtest=dfLGBT1.drop(columns=['bmipct','q32'])"
   ]
  },
  {
   "cell_type": "markdown",
   "id": "e48a73ac",
   "metadata": {},
   "source": [
    "**⚠️Explanation⚠️**\n",
    "> I removed two variables since the 'bmipct' range is too broad and the 'q23' range is too narrow, both of which have an impact on the visualization of others."
   ]
  },
  {
   "cell_type": "code",
   "execution_count": 29,
   "id": "79b82841",
   "metadata": {
    "scrolled": true
   },
   "outputs": [
    {
     "data": {
      "image/png": "[encoded data removed]",
      "text/plain": [
       "<Figure size 432x288 with 1 Axes>"
      ]
     },
     "metadata": {
      "needs_background": "light"
     },
     "output_type": "display_data"
    }
   ],
   "source": [
    "labels = ['q17','q23','q22','q46','q79','q78','q88','q81']\n",
    "plt.boxplot(dfLGBTtest, vert=True, patch_artist=True, labels=labels) \n",
    "plt.ylabel('Scale')\n",
    "plt.xlabel('Variables')\n",
    "plt.title('Multiple Box Plot :LGBT')\n",
    "plt.show()"
   ]
  },
  {
   "cell_type": "code",
   "execution_count": 30,
   "id": "293082e5",
   "metadata": {
    "scrolled": true
   },
   "outputs": [
    {
     "data": {
      "image/png": "[encoded data removed]",
      "text/plain": [
       "<Figure size 432x288 with 1 Axes>"
      ]
     },
     "metadata": {
      "needs_background": "light"
     },
     "output_type": "display_data"
    }
   ],
   "source": [
    "labels = ['q17','q23','q22','q46','q79','q78','q88','q81']\n",
    "plt.boxplot(dfstraighttest, vert=True, patch_artist=True, labels=labels) \n",
    "\n",
    "plt.ylabel('Scale')\n",
    "plt.xlabel('Variables')\n",
    "plt.title('Multiple Box Plot : Straight')\n",
    "plt.show()"
   ]
  },
  {
   "cell_type": "markdown",
   "id": "da100061",
   "metadata": {},
   "source": [
    "<img src=\"https://cdn.dribbble.com/users/1769954/screenshots/3881945/media/c0fe4807ee4cacea279b5499f0438a99.png\" style = \"float:right; width:150px; height:100px;\">\n",
    "\n",
    "**❤️<font color='palevioletred'>From the box chart, we could find that LBGT has a lower scale and mean on `Q79`(Physical activity >= 5 days), `Q78`(Breakfast eating), but higher scale and mean on `Q17`(Physical fighting), `Q23`(Bullying at school), `Q46`(Ever marijuana use), `Q88`(Sleep),and `Q81`(Computer use).**\n",
    "\n",
    "><font color='palevioletred'>It's a good idea to skip `Q22` because the two images are so similar."
   ]
  },
  {
   "cell_type": "code",
   "execution_count": 31,
   "id": "beee47fd",
   "metadata": {},
   "outputs": [],
   "source": [
    "a=dfLGBT1[['bmipct','q32']]\n",
    "a.insert(2, \"Identity\", 'LGBT')\n",
    "b=dfstraight1[['bmipct','q32']]\n",
    "b.insert(2, \"Identity\", 'Heterosexual')\n",
    "l=pd.concat([a, b])"
   ]
  },
  {
   "cell_type": "code",
   "execution_count": 32,
   "id": "969b6dbe",
   "metadata": {
    "scrolled": true
   },
   "outputs": [
    {
     "data": {
      "text/plain": [
       "<seaborn.axisgrid.FacetGrid at 0x1f985ecc7c0>"
      ]
     },
     "execution_count": 32,
     "metadata": {},
     "output_type": "execute_result"
    },
    {
     "data": {
      "image/png": "[encoded data removed]",
      "text/plain": [
       "<Figure size 462x360 with 1 Axes>"
      ]
     },
     "metadata": {
      "needs_background": "light"
     },
     "output_type": "display_data"
    }
   ],
   "source": [
    "sns.displot(l,x='bmipct',hue='Identity',kind='kde')"
   ]
  },
  {
   "cell_type": "code",
   "execution_count": 33,
   "id": "e32da008",
   "metadata": {
    "scrolled": true
   },
   "outputs": [
    {
     "data": {
      "text/html": [
       "<div>\n",
       "<style scoped>\n",
       "    .dataframe tbody tr th:only-of-type {\n",
       "        vertical-align: middle;\n",
       "    }\n",
       "\n",
       "    .dataframe tbody tr th {\n",
       "        vertical-align: top;\n",
       "    }\n",
       "\n",
       "    .dataframe thead th {\n",
       "        text-align: right;\n",
       "    }\n",
       "</style>\n",
       "<table border=\"1\" class=\"dataframe\">\n",
       "  <thead>\n",
       "    <tr style=\"text-align: right;\">\n",
       "      <th></th>\n",
       "      <th></th>\n",
       "      <th>%</th>\n",
       "    </tr>\n",
       "    <tr>\n",
       "      <th>Identity</th>\n",
       "      <th>q32</th>\n",
       "      <th></th>\n",
       "    </tr>\n",
       "  </thead>\n",
       "  <tbody>\n",
       "    <tr>\n",
       "      <th rowspan=\"7\" valign=\"top\">Heterosexual</th>\n",
       "      <th>1.0</th>\n",
       "      <td>27.687240</td>\n",
       "    </tr>\n",
       "    <tr>\n",
       "      <th>2.0</th>\n",
       "      <td>0.916724</td>\n",
       "    </tr>\n",
       "    <tr>\n",
       "      <th>3.0</th>\n",
       "      <td>0.378363</td>\n",
       "    </tr>\n",
       "    <tr>\n",
       "      <th>4.0</th>\n",
       "      <td>0.268398</td>\n",
       "    </tr>\n",
       "    <tr>\n",
       "      <th>5.0</th>\n",
       "      <td>0.275695</td>\n",
       "    </tr>\n",
       "    <tr>\n",
       "      <th>6.0</th>\n",
       "      <td>0.191266</td>\n",
       "    </tr>\n",
       "    <tr>\n",
       "      <th>7.0</th>\n",
       "      <td>0.482075</td>\n",
       "    </tr>\n",
       "    <tr>\n",
       "      <th rowspan=\"7\" valign=\"top\">LGBT</th>\n",
       "      <th>1.0</th>\n",
       "      <td>24.051799</td>\n",
       "    </tr>\n",
       "    <tr>\n",
       "      <th>2.0</th>\n",
       "      <td>1.804291</td>\n",
       "    </tr>\n",
       "    <tr>\n",
       "      <th>3.0</th>\n",
       "      <td>0.910273</td>\n",
       "    </tr>\n",
       "    <tr>\n",
       "      <th>4.0</th>\n",
       "      <td>0.601430</td>\n",
       "    </tr>\n",
       "    <tr>\n",
       "      <th>5.0</th>\n",
       "      <td>0.606849</td>\n",
       "    </tr>\n",
       "    <tr>\n",
       "      <th>6.0</th>\n",
       "      <td>0.406372</td>\n",
       "    </tr>\n",
       "    <tr>\n",
       "      <th>7.0</th>\n",
       "      <td>1.273299</td>\n",
       "    </tr>\n",
       "  </tbody>\n",
       "</table>\n",
       "</div>"
      ],
      "text/plain": [
       "                          %\n",
       "Identity     q32           \n",
       "Heterosexual 1.0  27.687240\n",
       "             2.0   0.916724\n",
       "             3.0   0.378363\n",
       "             4.0   0.268398\n",
       "             5.0   0.275695\n",
       "             6.0   0.191266\n",
       "             7.0   0.482075\n",
       "LGBT         1.0  24.051799\n",
       "             2.0   1.804291\n",
       "             3.0   0.910273\n",
       "             4.0   0.601430\n",
       "             5.0   0.606849\n",
       "             6.0   0.406372\n",
       "             7.0   1.273299"
      ]
     },
     "execution_count": 33,
     "metadata": {},
     "output_type": "execute_result"
    }
   ],
   "source": [
    "u = l.groupby(['Identity','q32']).count()\n",
    "u.columns = ['Total']\n",
    "u['%'] = 100 * u['Total'] / Comparision.groupby('Identity')['Total'].transform('sum')\n",
    "u = u.drop(columns = 'Total')\n",
    "u"
   ]
  },
  {
   "cell_type": "code",
   "execution_count": 34,
   "id": "dc98d150",
   "metadata": {},
   "outputs": [
    {
     "data": {
      "text/html": [
       "<div>\n",
       "<style scoped>\n",
       "    .dataframe tbody tr th:only-of-type {\n",
       "        vertical-align: middle;\n",
       "    }\n",
       "\n",
       "    .dataframe tbody tr th {\n",
       "        vertical-align: top;\n",
       "    }\n",
       "\n",
       "    .dataframe thead th {\n",
       "        text-align: right;\n",
       "    }\n",
       "</style>\n",
       "<table border=\"1\" class=\"dataframe\">\n",
       "  <thead>\n",
       "    <tr style=\"text-align: right;\">\n",
       "      <th></th>\n",
       "      <th>Heterosexual</th>\n",
       "      <th>LGBT</th>\n",
       "    </tr>\n",
       "  </thead>\n",
       "  <tbody>\n",
       "    <tr>\n",
       "      <th>0</th>\n",
       "      <td>27.687240</td>\n",
       "      <td>24.051799</td>\n",
       "    </tr>\n",
       "    <tr>\n",
       "      <th>1 or 2 days</th>\n",
       "      <td>0.916724</td>\n",
       "      <td>1.804292</td>\n",
       "    </tr>\n",
       "    <tr>\n",
       "      <th>3 to 5 days</th>\n",
       "      <td>0.378363</td>\n",
       "      <td>0.910273</td>\n",
       "    </tr>\n",
       "    <tr>\n",
       "      <th>6 to 9 days</th>\n",
       "      <td>0.268398</td>\n",
       "      <td>0.601430</td>\n",
       "    </tr>\n",
       "    <tr>\n",
       "      <th>10 to 19 days</th>\n",
       "      <td>0.275695</td>\n",
       "      <td>0.606849</td>\n",
       "    </tr>\n",
       "    <tr>\n",
       "      <th>20 to 29 days</th>\n",
       "      <td>0.191266</td>\n",
       "      <td>0.406372</td>\n",
       "    </tr>\n",
       "    <tr>\n",
       "      <th>All 30 days</th>\n",
       "      <td>0.482075</td>\n",
       "      <td>1.273299</td>\n",
       "    </tr>\n",
       "  </tbody>\n",
       "</table>\n",
       "</div>"
      ],
      "text/plain": [
       "               Heterosexual       LGBT\n",
       "0                 27.687240  24.051799\n",
       "1 or 2 days        0.916724   1.804292\n",
       "3 to 5 days        0.378363   0.910273\n",
       "6 to 9 days        0.268398   0.601430\n",
       "10 to 19 days      0.275695   0.606849\n",
       "20 to 29 days      0.191266   0.406372\n",
       "All 30 days        0.482075   1.273299"
      ]
     },
     "execution_count": 34,
     "metadata": {},
     "output_type": "execute_result"
    }
   ],
   "source": [
    "Heterosexual = [27.687240,0.916724,0.378363,0.268398,0.275695,0.191266,0.482075]\n",
    "LGBT = [24.051799,1.8042919,0.910273,0.6014300,0.606849,0.406372,1.273299]\n",
    "index = ['0', '1 or 2 days', '3 to 5 days', '6 to 9 days', '10 to 19 days','20 to 29 days','All 30 days']\n",
    "k = pd.DataFrame({'Heterosexual': Heterosexual,\n",
    "                   'LGBT': LGBT}, index=index)\n",
    "k"
   ]
  },
  {
   "cell_type": "code",
   "execution_count": 35,
   "id": "f9ba827e",
   "metadata": {},
   "outputs": [
    {
     "data": {
      "image/png": "[encoded data removed]",
      "text/plain": [
       "<Figure size 1080x576 with 1 Axes>"
      ]
     },
     "metadata": {
      "needs_background": "light"
     },
     "output_type": "display_data"
    }
   ],
   "source": [
    "ax = k.plot.bar(rot=0, color=['lightseagreen','pink','skyblue'],figsize=(15,8))\n",
    "plt.ylabel('Total')\n",
    "plt.xlabel('Identity')\n",
    "plt.legend(loc=0);\n",
    "for container in ax.containers:\n",
    "    ax.bar_label(container)"
   ]
  },
  {
   "cell_type": "markdown",
   "id": "3a263b3c",
   "metadata": {},
   "source": [
    "<img src=\"https://cdn.dribbble.com/users/1769954/screenshots/3881945/media/c0fe4807ee4cacea279b5499f0438a99.png\" style = \"float:right; width:150px; height:100px;\">\n",
    "\n",
    "**❤️<font color='palevioletred'>`Q32` LGBT has a higher smoking frequency than Straight.\n",
    "Although the `bmipct` is not particularly clear, it still shows that Straight people have a higher bmi health score than LGBT people.**"
   ]
  },
  {
   "cell_type": "markdown",
   "id": "4d02a5b8",
   "metadata": {},
   "source": [
    "## 3.Classification"
   ]
  },
  {
   "cell_type": "markdown",
   "id": "00d6f856",
   "metadata": {},
   "source": [
    "**⚠️Explanation⚠️**\n",
    ">-  I just chose several elements to credit for the fact that LGBT people attempt suicide at a higher rate than Straight people, but the relationship between the two is yet unknown.\n",
    ">\n",
    ">- I run regression to determine if there is a classification relationship between the factors I specified and the Suicide attempted numbers (which are 0 and 1).."
   ]
  },
  {
   "cell_type": "code",
   "execution_count": 36,
   "id": "6194ab34",
   "metadata": {},
   "outputs": [],
   "source": [
    "import matplotlib.pylab as plt\n",
    "%matplotlib inline \n",
    "\n",
    "from sklearn import datasets\n",
    "from sklearn import preprocessing\n",
    "from sklearn.model_selection import train_test_split, cross_validate, cross_val_score\n",
    "from sklearn.metrics import confusion_matrix, classification_report, precision_score, accuracy_score, recall_score, f1_score"
   ]
  },
  {
   "cell_type": "code",
   "execution_count": 37,
   "id": "08ac1d45",
   "metadata": {},
   "outputs": [
    {
     "name": "stdout",
     "output_type": "stream",
     "text": [
      "<class 'pandas.core.frame.DataFrame'>\n",
      "Int64Index: 5891 entries, 221624 to 962916\n",
      "Data columns (total 10 columns):\n",
      " #   Column  Non-Null Count  Dtype  \n",
      "---  ------  --------------  -----  \n",
      " 0   q17     5891 non-null   float64\n",
      " 1   q23     5891 non-null   float64\n",
      " 2   q32     5891 non-null   float64\n",
      " 3   q46     5891 non-null   float64\n",
      " 4   q79     5891 non-null   float64\n",
      " 5   bmipct  5891 non-null   float64\n",
      " 6   q78     5891 non-null   float64\n",
      " 7   q88     5891 non-null   float64\n",
      " 8   q81     5891 non-null   float64\n",
      " 9   q28     5891 non-null   int32  \n",
      "dtypes: float64(9), int32(1)\n",
      "memory usage: 483.2 KB\n"
     ]
    }
   ],
   "source": [
    "dfLGBT2=dfLGBT[['q17','q23','q32','q46','q79','bmipct','q78','q88','q81','q28']]\n",
    "dfLGBT2['q28'] = np.where(dfLGBT2['q28'] > 1, 1, 0)\n",
    "dfLGBT2 = dfLGBT2.dropna()\n",
    "dfLGBT2.info()"
   ]
  },
  {
   "cell_type": "code",
   "execution_count": 38,
   "id": "bab3d4da",
   "metadata": {
    "scrolled": true
   },
   "outputs": [
    {
     "data": {
      "text/plain": [
       "0    4731\n",
       "1    1160\n",
       "Name: q28, dtype: int64"
      ]
     },
     "execution_count": 38,
     "metadata": {},
     "output_type": "execute_result"
    }
   ],
   "source": [
    "dfLGBT2['q28'].value_counts()"
   ]
  },
  {
   "cell_type": "code",
   "execution_count": 39,
   "id": "32855527",
   "metadata": {},
   "outputs": [
    {
     "data": {
      "image/png": "[encoded data removed]",
      "text/plain": [
       "<Figure size 792x648 with 2 Axes>"
      ]
     },
     "metadata": {
      "needs_background": "light"
     },
     "output_type": "display_data"
    }
   ],
   "source": [
    "corrmat=dfLGBT2.corr()\n",
    "mask = np.zeros_like(corrmat, dtype=bool)\n",
    "mask[np.triu_indices_from(mask)] = True\n",
    "f, ax = plt.subplots(figsize=(11,9))\n",
    "cmap = sns.diverging_palette(220,10,as_cmap=True)\n",
    "sns.heatmap(corrmat,mask=mask,cmap=cmap,vmax=1,center=0,square=True,annot=True,\n",
    "            linewidth=.5, cbar_kws={'shrink': .5})\n",
    "ax.set_title('HeatMap')\n",
    "plt.savefig('correlation2.png')"
   ]
  },
  {
   "cell_type": "markdown",
   "id": "210e2880",
   "metadata": {},
   "source": [
    "<img src=\"https://cdn.dribbble.com/users/1769954/screenshots/3881945/media/c0fe4807ee4cacea279b5499f0438a99.png\" style = \"float:right; width:150px; height:100px;\">\n",
    "\n",
    "**❤️<font color='palevioletred'>From the heat map, I could see that there is no correlation over 0.7. `Q17`, `Q23`, `Q32`,`Q46`, `Q88` has a high correlation with `Q28`.**"
   ]
  },
  {
   "cell_type": "markdown",
   "id": "94db1d02",
   "metadata": {},
   "source": [
    "### 3.1 KNN-Classification"
   ]
  },
  {
   "cell_type": "markdown",
   "id": "27e28296",
   "metadata": {},
   "source": [
    "#### 3.1.1 Model Split and Feature Selection"
   ]
  },
  {
   "cell_type": "code",
   "execution_count": 40,
   "id": "f94a22ae",
   "metadata": {},
   "outputs": [
    {
     "name": "stdout",
     "output_type": "stream",
     "text": [
      "(3534, 9) (3534,)\n",
      "(2945, 9) (2945,)\n",
      "(2946, 9) (2946,)\n"
     ]
    }
   ],
   "source": [
    "random_state =  np.random.RandomState(42)\n",
    "X = dfLGBT2.iloc[:,0:9].values\n",
    "Y = dfLGBT2.iloc[:,9].values\n",
    "X_train, X_temp, Y_train, Y_temp  = train_test_split(X, Y, test_size=0.4, random_state=random_state)\n",
    "X_val, X_test, Y_val, Y_test  = train_test_split(X, Y, test_size=0.5, random_state=random_state)\n",
    "print(X_train.shape, Y_train.shape)\n",
    "print(X_val.shape, Y_val.shape)\n",
    "print(X_test.shape, Y_test.shape)"
   ]
  },
  {
   "cell_type": "code",
   "execution_count": 41,
   "id": "1ddf0655",
   "metadata": {
    "scrolled": true
   },
   "outputs": [
    {
     "name": "stdout",
     "output_type": "stream",
     "text": [
      "[0 1]\n",
      "[2836  698]\n"
     ]
    }
   ],
   "source": [
    "unique_elements, counts_elements = np.unique(Y_train, return_counts=True)\n",
    "print(unique_elements)\n",
    "print(counts_elements)"
   ]
  },
  {
   "cell_type": "code",
   "execution_count": 42,
   "id": "850691f9",
   "metadata": {},
   "outputs": [
    {
     "name": "stdout",
     "output_type": "stream",
     "text": [
      "[0 1]\n",
      "[2370  575]\n"
     ]
    }
   ],
   "source": [
    "unique_elements, counts_elements = np.unique(Y_val, return_counts=True)\n",
    "print(unique_elements)\n",
    "print(counts_elements)"
   ]
  },
  {
   "cell_type": "code",
   "execution_count": 43,
   "id": "73dbaf35",
   "metadata": {},
   "outputs": [
    {
     "name": "stdout",
     "output_type": "stream",
     "text": [
      "[0 1]\n",
      "[2361  585]\n"
     ]
    }
   ],
   "source": [
    "unique_elements, counts_elements = np.unique(Y_test, return_counts=True)\n",
    "print(unique_elements)\n",
    "print(counts_elements)"
   ]
  },
  {
   "cell_type": "code",
   "execution_count": 44,
   "id": "49ce124a",
   "metadata": {},
   "outputs": [],
   "source": [
    "from sklearn.feature_selection import SelectKBest, chi2"
   ]
  },
  {
   "cell_type": "code",
   "execution_count": 45,
   "id": "ccf1f259",
   "metadata": {},
   "outputs": [],
   "source": [
    "ch2 = SelectKBest(chi2, k=5) \n",
    "X_train = ch2.fit_transform(X_train, Y_train)\n",
    "X_val = ch2.transform(X_val)\n",
    "X_test = ch2.transform(X_test)"
   ]
  },
  {
   "cell_type": "code",
   "execution_count": 46,
   "id": "cf3cdec7",
   "metadata": {
    "scrolled": true
   },
   "outputs": [
    {
     "data": {
      "text/plain": [
       "Index(['q17', 'q32', 'q46', 'q78', 'q88'], dtype='object')"
      ]
     },
     "execution_count": 46,
     "metadata": {},
     "output_type": "execute_result"
    }
   ],
   "source": [
    "cols = ch2.get_support(indices=True)\n",
    "dfLGBT2.iloc[:,cols].columns"
   ]
  },
  {
   "cell_type": "markdown",
   "id": "f04c1342",
   "metadata": {},
   "source": [
    "**❤️<font color='palevioletred'>`Q17`, `Q23`, `Q32`,`Q46`, `Q88`has a good feature.**`"
   ]
  },
  {
   "cell_type": "code",
   "execution_count": 47,
   "id": "394688eb",
   "metadata": {},
   "outputs": [],
   "source": [
    "from sklearn.preprocessing import StandardScaler\n",
    "sc = StandardScaler()\n",
    "X_train = sc.fit_transform(X_train)\n",
    "X_val = sc.transform(X_val)\n",
    "X_test = sc.transform(X_test)"
   ]
  },
  {
   "cell_type": "markdown",
   "id": "a905bb57",
   "metadata": {},
   "source": [
    "#### 3.1.2 Tuning Hyperparameters"
   ]
  },
  {
   "cell_type": "code",
   "execution_count": 48,
   "id": "b9b9903d",
   "metadata": {},
   "outputs": [],
   "source": [
    "from sklearn.metrics import plot_roc_curve, roc_auc_score\n",
    "from sklearn.neighbors import KNeighborsClassifier"
   ]
  },
  {
   "cell_type": "code",
   "execution_count": 49,
   "id": "073602f3",
   "metadata": {},
   "outputs": [
    {
     "data": {
      "text/html": [
       "<div>\n",
       "<style scoped>\n",
       "    .dataframe tbody tr th:only-of-type {\n",
       "        vertical-align: middle;\n",
       "    }\n",
       "\n",
       "    .dataframe tbody tr th {\n",
       "        vertical-align: top;\n",
       "    }\n",
       "\n",
       "    .dataframe thead th {\n",
       "        text-align: right;\n",
       "    }\n",
       "</style>\n",
       "<table border=\"1\" class=\"dataframe\">\n",
       "  <thead>\n",
       "    <tr style=\"text-align: right;\">\n",
       "      <th></th>\n",
       "      <th></th>\n",
       "      <th>accuracy</th>\n",
       "      <th>F1</th>\n",
       "      <th>ROC_area</th>\n",
       "    </tr>\n",
       "    <tr>\n",
       "      <th>neighbors</th>\n",
       "      <th>weight</th>\n",
       "      <th></th>\n",
       "      <th></th>\n",
       "      <th></th>\n",
       "    </tr>\n",
       "  </thead>\n",
       "  <tbody>\n",
       "    <tr>\n",
       "      <th rowspan=\"2\" valign=\"top\">1</th>\n",
       "      <th>uniform</th>\n",
       "      <td>0.804754</td>\n",
       "      <td>0.800675</td>\n",
       "      <td>0.669917</td>\n",
       "    </tr>\n",
       "    <tr>\n",
       "      <th>distance</th>\n",
       "      <td>0.804754</td>\n",
       "      <td>0.800675</td>\n",
       "      <td>0.669917</td>\n",
       "    </tr>\n",
       "    <tr>\n",
       "      <th rowspan=\"2\" valign=\"top\">2</th>\n",
       "      <th>uniform</th>\n",
       "      <td>0.817317</td>\n",
       "      <td>0.769990</td>\n",
       "      <td>0.690592</td>\n",
       "    </tr>\n",
       "    <tr>\n",
       "      <th>distance</th>\n",
       "      <td>0.840407</td>\n",
       "      <td>0.819389</td>\n",
       "      <td>0.721216</td>\n",
       "    </tr>\n",
       "    <tr>\n",
       "      <th rowspan=\"2\" valign=\"top\">3</th>\n",
       "      <th>uniform</th>\n",
       "      <td>0.807470</td>\n",
       "      <td>0.784957</td>\n",
       "      <td>0.684935</td>\n",
       "    </tr>\n",
       "    <tr>\n",
       "      <th>distance</th>\n",
       "      <td>0.835993</td>\n",
       "      <td>0.818806</td>\n",
       "      <td>0.736786</td>\n",
       "    </tr>\n",
       "    <tr>\n",
       "      <th rowspan=\"2\" valign=\"top\">4</th>\n",
       "      <th>uniform</th>\n",
       "      <td>0.808829</td>\n",
       "      <td>0.756288</td>\n",
       "      <td>0.679122</td>\n",
       "    </tr>\n",
       "    <tr>\n",
       "      <th>distance</th>\n",
       "      <td>0.839728</td>\n",
       "      <td>0.817545</td>\n",
       "      <td>0.746869</td>\n",
       "    </tr>\n",
       "    <tr>\n",
       "      <th rowspan=\"2\" valign=\"top\">5</th>\n",
       "      <th>uniform</th>\n",
       "      <td>0.797284</td>\n",
       "      <td>0.763552</td>\n",
       "      <td>0.683538</td>\n",
       "    </tr>\n",
       "    <tr>\n",
       "      <th>distance</th>\n",
       "      <td>0.836333</td>\n",
       "      <td>0.816475</td>\n",
       "      <td>0.760013</td>\n",
       "    </tr>\n",
       "  </tbody>\n",
       "</table>\n",
       "</div>"
      ],
      "text/plain": [
       "                    accuracy        F1  ROC_area\n",
       "neighbors weight                                \n",
       "1         uniform   0.804754  0.800675  0.669917\n",
       "          distance  0.804754  0.800675  0.669917\n",
       "2         uniform   0.817317  0.769990  0.690592\n",
       "          distance  0.840407  0.819389  0.721216\n",
       "3         uniform   0.807470  0.784957  0.684935\n",
       "          distance  0.835993  0.818806  0.736786\n",
       "4         uniform   0.808829  0.756288  0.679122\n",
       "          distance  0.839728  0.817545  0.746869\n",
       "5         uniform   0.797284  0.763552  0.683538\n",
       "          distance  0.836333  0.816475  0.760013"
      ]
     },
     "execution_count": 49,
     "metadata": {},
     "output_type": "execute_result"
    }
   ],
   "source": [
    "dfLGBT2_knn = pd.DataFrame(columns=['neighbors','weight', 'accuracy', 'F1', 'ROC_area'])\n",
    "\n",
    "for neighbor_count in range (1,6):\n",
    "    for weight_metric in ['uniform', 'distance']:    \n",
    "        knn_ht = KNeighborsClassifier(n_neighbors=neighbor_count, weights=weight_metric) # initialize a KNN classifier\n",
    "        knn_ht.fit(X_train, Y_train)\n",
    "\n",
    "        Y_pred_prob_ht = knn_ht.predict_proba(X_val)[:, 1]\n",
    "       \n",
    "        accuracy = knn_ht.score(X_val,Y_val)\n",
    "        f1 = f1_score(Y_val,knn_ht.predict(X_val),average='weighted')\n",
    "        roc = roc_auc_score(Y_val, Y_pred_prob_ht)       \n",
    "        \n",
    "        dict_values = {'neighbors': neighbor_count, 'weight': weight_metric,'accuracy':accuracy,'F1' : f1, 'ROC_area':roc}\n",
    "        row_to_add = pd.Series(dict_values)\n",
    "        \n",
    "        dfLGBT2_knn = dfLGBT2_knn.append(row_to_add, ignore_index=True)\n",
    "\n",
    "dfLGBT2_knn.set_index(['neighbors','weight'], inplace=True)\n",
    "dfLGBT2_knn"
   ]
  },
  {
   "cell_type": "code",
   "execution_count": 50,
   "id": "ea56cb72",
   "metadata": {},
   "outputs": [
    {
     "data": {
      "image/png": "[encoded data removed]",
      "text/plain": [
       "<Figure size 504x324 with 1 Axes>"
      ]
     },
     "metadata": {
      "needs_background": "light"
     },
     "output_type": "display_data"
    }
   ],
   "source": [
    "dfLGBT2_knn.plot(figsize = (7,4.5),color=['gold','grey','hotpink']);"
   ]
  },
  {
   "cell_type": "markdown",
   "id": "f0ff63f7",
   "metadata": {},
   "source": [
    "\n",
    "**❤️<font color='palevioletred'> It is easy to choose(5, distance) because it has relatively higher accuracy, F1, ROC_area.**"
   ]
  },
  {
   "cell_type": "code",
   "execution_count": 51,
   "id": "a97dd569",
   "metadata": {},
   "outputs": [
    {
     "data": {
      "text/plain": [
       "KNeighborsClassifier(weights='distance')"
      ]
     },
     "execution_count": 51,
     "metadata": {},
     "output_type": "execute_result"
    }
   ],
   "source": [
    "knn = KNeighborsClassifier(n_neighbors=5, weights='distance') \n",
    "knn.fit(X_train, Y_train) "
   ]
  },
  {
   "cell_type": "markdown",
   "id": "c76f430e",
   "metadata": {},
   "source": [
    "#### 3.1.3 Report----Confusion Matrix"
   ]
  },
  {
   "cell_type": "code",
   "execution_count": 52,
   "id": "1e58d74e",
   "metadata": {},
   "outputs": [],
   "source": [
    "Y_train_predicted = knn.predict(X_train) "
   ]
  },
  {
   "cell_type": "code",
   "execution_count": 53,
   "id": "68e8b45c",
   "metadata": {},
   "outputs": [
    {
     "name": "stdout",
     "output_type": "stream",
     "text": [
      "Training Classification accuracy: 0.8817204301075269\n",
      "\n",
      "\n",
      "Training Confusion matrix: \n",
      "[[2790   46]\n",
      " [ 372  326]]\n",
      "\n",
      "\n",
      "Training Classification Report:\n",
      "               precision    recall  f1-score   support\n",
      "\n",
      "           0       0.88      0.98      0.93      2836\n",
      "           1       0.88      0.47      0.61       698\n",
      "\n",
      "    accuracy                           0.88      3534\n",
      "   macro avg       0.88      0.73      0.77      3534\n",
      "weighted avg       0.88      0.88      0.87      3534\n",
      "\n"
     ]
    }
   ],
   "source": [
    "print(\"Training Classification accuracy:\", knn.score(X_train, Y_train))\n",
    "print(\"\\n\")\n",
    "print (\"Training Confusion matrix: \\n\" + str(confusion_matrix(Y_train, Y_train_predicted)))\n",
    "print(\"\\n\")\n",
    "print(\"Training Classification Report:\\n\",classification_report(Y_train, Y_train_predicted))"
   ]
  },
  {
   "cell_type": "code",
   "execution_count": 54,
   "id": "ac2857d5",
   "metadata": {},
   "outputs": [
    {
     "name": "stdout",
     "output_type": "stream",
     "text": [
      "************K-NEAREST NEIGHBOR************\n",
      "Test Classification accuracy: 0.8346911065852003\n",
      "\n",
      "\n",
      "Test Confusion matrix: \n",
      "[[2257  104]\n",
      " [ 383  202]]\n",
      "\n",
      "\n",
      "Test Classification Report:\n",
      "               precision    recall  f1-score   support\n",
      "\n",
      "           0       0.85      0.96      0.90      2361\n",
      "           1       0.66      0.35      0.45       585\n",
      "\n",
      "    accuracy                           0.83      2946\n",
      "   macro avg       0.76      0.65      0.68      2946\n",
      "weighted avg       0.82      0.83      0.81      2946\n",
      "\n"
     ]
    }
   ],
   "source": [
    "Y_test_predicted = knn.predict(X_test)\n",
    "conf_matrix_knn = confusion_matrix(Y_test, Y_test_predicted)\n",
    "print('************K-NEAREST NEIGHBOR************')\n",
    "print(\"Test Classification accuracy:\", knn.score(X_test,Y_test))\n",
    "print(\"\\n\")\n",
    "print (\"Test Confusion matrix: \\n\" + str(conf_matrix_knn))\n",
    "print(\"\\n\")\n",
    "print(\"Test Classification Report:\\n\",classification_report(Y_test, Y_test_predicted))"
   ]
  },
  {
   "cell_type": "code",
   "execution_count": 55,
   "id": "e0fb2f8c",
   "metadata": {
    "scrolled": true
   },
   "outputs": [
    {
     "name": "stdout",
     "output_type": "stream",
     "text": [
      "[[2257  104]\n",
      " [ 383  202]]\n"
     ]
    },
    {
     "data": {
      "image/png": "[encoded data removed]",
      "text/plain": [
       "<Figure size 432x288 with 2 Axes>"
      ]
     },
     "metadata": {
      "needs_background": "light"
     },
     "output_type": "display_data"
    }
   ],
   "source": [
    "from sklearn.metrics import plot_confusion_matrix\n",
    "disp = plot_confusion_matrix(knn, X_test, Y_test,\n",
    "                                 display_labels=['No suicide Attempts','suicide Attempted'],\n",
    "                                 cmap=plt.cm.RdPu,\n",
    "                                 normalize=None)\n",
    "print(disp.confusion_matrix)"
   ]
  },
  {
   "cell_type": "markdown",
   "id": "e3a1ef80",
   "metadata": {},
   "source": [
    "#### 3.1.4 Report -----ROC Curve"
   ]
  },
  {
   "cell_type": "code",
   "execution_count": 56,
   "id": "29e42c32",
   "metadata": {
    "scrolled": true
   },
   "outputs": [
    {
     "name": "stdout",
     "output_type": "stream",
     "text": [
      "Area under the ROC: 0.7685932731676061\n"
     ]
    },
    {
     "data": {
      "image/png": "[encoded data removed]",
      "text/plain": [
       "<Figure size 432x288 with 1 Axes>"
      ]
     },
     "metadata": {
      "needs_background": "light"
     },
     "output_type": "display_data"
    }
   ],
   "source": [
    "viz = plot_roc_curve(knn, X_test, Y_test)\n",
    "print('Area under the ROC:', viz.roc_auc)   \n",
    "plt.plot([0, 1], [0, 1])\n",
    "plt.xlim([0.0, 1.0]) \n",
    "plt.ylim([0.0, 1.0])\n",
    "plt.show();"
   ]
  },
  {
   "cell_type": "markdown",
   "id": "362e7557",
   "metadata": {},
   "source": [
    "**❤️<font color='palevioletred'> The ROC is 0.77 and I think it is accecptable.**"
   ]
  },
  {
   "cell_type": "markdown",
   "id": "d40d2b81",
   "metadata": {},
   "source": [
    "### 3.2  Desicion Tree"
   ]
  },
  {
   "cell_type": "markdown",
   "id": "5605a3fb",
   "metadata": {},
   "source": [
    "**⚠️Explanation⚠️**\n",
    "> I tried to do decision tree because I want to get more straight visualization about classfication."
   ]
  },
  {
   "cell_type": "code",
   "execution_count": 57,
   "id": "7e06339a",
   "metadata": {},
   "outputs": [],
   "source": [
    "from sklearn.tree import DecisionTreeRegressor, DecisionTreeClassifier, export_graphviz\n",
    "from sklearn.ensemble import BaggingClassifier, RandomForestClassifier, BaggingRegressor, RandomForestRegressor, GradientBoostingRegressor\n",
    "from sklearn.metrics import confusion_matrix, classification_report, mean_squared_error\n",
    "pd.set_option('display.notebook_repr_html', True)\n",
    "from sklearn import tree\n",
    "import graphviz"
   ]
  },
  {
   "cell_type": "code",
   "execution_count": 58,
   "id": "f67e1c3e",
   "metadata": {},
   "outputs": [],
   "source": [
    "def print_tree(d_tree, f_names, c_names=None):\n",
    "    dot_data = tree.export_graphviz(d_tree, out_file=None, feature_names=f_names, class_names=c_names, \n",
    "                                    filled=True, rounded=True, special_characters=True)  \n",
    "    graph = graphviz.Source(dot_data)  \n",
    "    return graph "
   ]
  },
  {
   "cell_type": "code",
   "execution_count": 59,
   "id": "f7601740",
   "metadata": {},
   "outputs": [
    {
     "data": {
      "text/plain": [
       "pandas.core.frame.DataFrame"
      ]
     },
     "execution_count": 59,
     "metadata": {},
     "output_type": "execute_result"
    }
   ],
   "source": [
    "from sklearn import tree\n",
    "type(dfLGBT2)"
   ]
  },
  {
   "cell_type": "code",
   "execution_count": 60,
   "id": "a9e93761",
   "metadata": {},
   "outputs": [
    {
     "data": {
      "text/html": [
       "<div>\n",
       "<style scoped>\n",
       "    .dataframe tbody tr th:only-of-type {\n",
       "        vertical-align: middle;\n",
       "    }\n",
       "\n",
       "    .dataframe tbody tr th {\n",
       "        vertical-align: top;\n",
       "    }\n",
       "\n",
       "    .dataframe thead th {\n",
       "        text-align: right;\n",
       "    }\n",
       "</style>\n",
       "<table border=\"1\" class=\"dataframe\">\n",
       "  <thead>\n",
       "    <tr style=\"text-align: right;\">\n",
       "      <th></th>\n",
       "      <th>q17</th>\n",
       "      <th>q23</th>\n",
       "      <th>q32</th>\n",
       "      <th>q46</th>\n",
       "      <th>q79</th>\n",
       "      <th>bmipct</th>\n",
       "      <th>q78</th>\n",
       "      <th>q88</th>\n",
       "      <th>q81</th>\n",
       "      <th>q28</th>\n",
       "    </tr>\n",
       "  </thead>\n",
       "  <tbody>\n",
       "    <tr>\n",
       "      <th>221624</th>\n",
       "      <td>1.0</td>\n",
       "      <td>2.0</td>\n",
       "      <td>1.0</td>\n",
       "      <td>1.0</td>\n",
       "      <td>6.0</td>\n",
       "      <td>93.495283</td>\n",
       "      <td>8.0</td>\n",
       "      <td>3.0</td>\n",
       "      <td>4.0</td>\n",
       "      <td>0</td>\n",
       "    </tr>\n",
       "    <tr>\n",
       "      <th>221690</th>\n",
       "      <td>1.0</td>\n",
       "      <td>2.0</td>\n",
       "      <td>1.0</td>\n",
       "      <td>1.0</td>\n",
       "      <td>1.0</td>\n",
       "      <td>78.317474</td>\n",
       "      <td>8.0</td>\n",
       "      <td>4.0</td>\n",
       "      <td>6.0</td>\n",
       "      <td>0</td>\n",
       "    </tr>\n",
       "    <tr>\n",
       "      <th>221707</th>\n",
       "      <td>6.0</td>\n",
       "      <td>2.0</td>\n",
       "      <td>6.0</td>\n",
       "      <td>6.0</td>\n",
       "      <td>8.0</td>\n",
       "      <td>19.436253</td>\n",
       "      <td>8.0</td>\n",
       "      <td>2.0</td>\n",
       "      <td>1.0</td>\n",
       "      <td>0</td>\n",
       "    </tr>\n",
       "    <tr>\n",
       "      <th>221737</th>\n",
       "      <td>1.0</td>\n",
       "      <td>2.0</td>\n",
       "      <td>1.0</td>\n",
       "      <td>1.0</td>\n",
       "      <td>8.0</td>\n",
       "      <td>94.421474</td>\n",
       "      <td>1.0</td>\n",
       "      <td>6.0</td>\n",
       "      <td>3.0</td>\n",
       "      <td>1</td>\n",
       "    </tr>\n",
       "    <tr>\n",
       "      <th>221800</th>\n",
       "      <td>1.0</td>\n",
       "      <td>2.0</td>\n",
       "      <td>1.0</td>\n",
       "      <td>1.0</td>\n",
       "      <td>2.0</td>\n",
       "      <td>81.394716</td>\n",
       "      <td>7.0</td>\n",
       "      <td>3.0</td>\n",
       "      <td>5.0</td>\n",
       "      <td>0</td>\n",
       "    </tr>\n",
       "    <tr>\n",
       "      <th>...</th>\n",
       "      <td>...</td>\n",
       "      <td>...</td>\n",
       "      <td>...</td>\n",
       "      <td>...</td>\n",
       "      <td>...</td>\n",
       "      <td>...</td>\n",
       "      <td>...</td>\n",
       "      <td>...</td>\n",
       "      <td>...</td>\n",
       "      <td>...</td>\n",
       "    </tr>\n",
       "    <tr>\n",
       "      <th>962842</th>\n",
       "      <td>1.0</td>\n",
       "      <td>2.0</td>\n",
       "      <td>7.0</td>\n",
       "      <td>2.0</td>\n",
       "      <td>3.0</td>\n",
       "      <td>79.456875</td>\n",
       "      <td>2.0</td>\n",
       "      <td>2.0</td>\n",
       "      <td>2.0</td>\n",
       "      <td>0</td>\n",
       "    </tr>\n",
       "    <tr>\n",
       "      <th>962868</th>\n",
       "      <td>1.0</td>\n",
       "      <td>2.0</td>\n",
       "      <td>1.0</td>\n",
       "      <td>5.0</td>\n",
       "      <td>1.0</td>\n",
       "      <td>84.253780</td>\n",
       "      <td>5.0</td>\n",
       "      <td>2.0</td>\n",
       "      <td>1.0</td>\n",
       "      <td>1</td>\n",
       "    </tr>\n",
       "    <tr>\n",
       "      <th>962888</th>\n",
       "      <td>1.0</td>\n",
       "      <td>2.0</td>\n",
       "      <td>1.0</td>\n",
       "      <td>4.0</td>\n",
       "      <td>3.0</td>\n",
       "      <td>96.318389</td>\n",
       "      <td>8.0</td>\n",
       "      <td>6.0</td>\n",
       "      <td>1.0</td>\n",
       "      <td>0</td>\n",
       "    </tr>\n",
       "    <tr>\n",
       "      <th>962898</th>\n",
       "      <td>1.0</td>\n",
       "      <td>2.0</td>\n",
       "      <td>1.0</td>\n",
       "      <td>1.0</td>\n",
       "      <td>1.0</td>\n",
       "      <td>36.048922</td>\n",
       "      <td>3.0</td>\n",
       "      <td>1.0</td>\n",
       "      <td>1.0</td>\n",
       "      <td>0</td>\n",
       "    </tr>\n",
       "    <tr>\n",
       "      <th>962916</th>\n",
       "      <td>1.0</td>\n",
       "      <td>2.0</td>\n",
       "      <td>7.0</td>\n",
       "      <td>3.0</td>\n",
       "      <td>1.0</td>\n",
       "      <td>7.767943</td>\n",
       "      <td>1.0</td>\n",
       "      <td>1.0</td>\n",
       "      <td>4.0</td>\n",
       "      <td>1</td>\n",
       "    </tr>\n",
       "  </tbody>\n",
       "</table>\n",
       "<p>5891 rows × 10 columns</p>\n",
       "</div>"
      ],
      "text/plain": [
       "        q17  q23  q32  q46  q79     bmipct  q78  q88  q81  q28\n",
       "221624  1.0  2.0  1.0  1.0  6.0  93.495283  8.0  3.0  4.0    0\n",
       "221690  1.0  2.0  1.0  1.0  1.0  78.317474  8.0  4.0  6.0    0\n",
       "221707  6.0  2.0  6.0  6.0  8.0  19.436253  8.0  2.0  1.0    0\n",
       "221737  1.0  2.0  1.0  1.0  8.0  94.421474  1.0  6.0  3.0    1\n",
       "221800  1.0  2.0  1.0  1.0  2.0  81.394716  7.0  3.0  5.0    0\n",
       "...     ...  ...  ...  ...  ...        ...  ...  ...  ...  ...\n",
       "962842  1.0  2.0  7.0  2.0  3.0  79.456875  2.0  2.0  2.0    0\n",
       "962868  1.0  2.0  1.0  5.0  1.0  84.253780  5.0  2.0  1.0    1\n",
       "962888  1.0  2.0  1.0  4.0  3.0  96.318389  8.0  6.0  1.0    0\n",
       "962898  1.0  2.0  1.0  1.0  1.0  36.048922  3.0  1.0  1.0    0\n",
       "962916  1.0  2.0  7.0  3.0  1.0   7.767943  1.0  1.0  4.0    1\n",
       "\n",
       "[5891 rows x 10 columns]"
      ]
     },
     "execution_count": 60,
     "metadata": {},
     "output_type": "execute_result"
    }
   ],
   "source": [
    "dfLGBT2"
   ]
  },
  {
   "cell_type": "code",
   "execution_count": 61,
   "id": "7bf8eb1b",
   "metadata": {},
   "outputs": [],
   "source": [
    "random_state =  np.random.RandomState(42)\n",
    "X1 = dfLGBT2.drop('q28', axis=1) \n",
    "y1 = dfLGBT2.q28\n",
    "X_train_temp, X_test, y_train_temp, y_test = train_test_split(X1, y1, test_size=0.15, random_state=23)\n",
    "X_train, X_val, y_train, y_val = train_test_split(X_train_temp, y_train_temp, test_size=0.2, random_state=23)"
   ]
  },
  {
   "cell_type": "code",
   "execution_count": 62,
   "id": "0a408539",
   "metadata": {},
   "outputs": [
    {
     "name": "stdout",
     "output_type": "stream",
     "text": [
      "X_train Shape: (4005, 9)\n",
      "X_test Shape: (884, 9)\n",
      "X_val Shape: (1002, 9)\n",
      "\n",
      "Y_train Shape: (4005,)\n",
      "Y_test Shape: (884,)\n",
      "Y_val Shape: (1002,)\n"
     ]
    }
   ],
   "source": [
    "print('X_train Shape:',X_train.shape)\n",
    "print('X_test Shape:',X_test.shape)\n",
    "print('X_val Shape:',X_val.shape)\n",
    "print('')\n",
    "print('Y_train Shape:',y_train.shape)\n",
    "print('Y_test Shape:',y_test.shape)\n",
    "print('Y_val Shape:',y_val.shape)"
   ]
  },
  {
   "cell_type": "code",
   "execution_count": 63,
   "id": "feaf7bef",
   "metadata": {},
   "outputs": [
    {
     "data": {
      "text/plain": [
       "DecisionTreeClassifier(max_features=5, max_leaf_nodes=6, random_state=23)"
      ]
     },
     "execution_count": 63,
     "metadata": {},
     "output_type": "execute_result"
    }
   ],
   "source": [
    "clftree = DecisionTreeClassifier(max_leaf_nodes=6, max_features=5, random_state=23)\n",
    "clftree.fit(X_train,y_train)"
   ]
  },
  {
   "cell_type": "code",
   "execution_count": 64,
   "id": "22a6531e",
   "metadata": {
    "scrolled": true
   },
   "outputs": [
    {
     "data": {
      "image/svg+xml": [
       "<?xml version=\"1.0\" encoding=\"UTF-8\" standalone=\"no\"?>\r\n",
       "<!DOCTYPE svg PUBLIC \"-//W3C//DTD SVG 1.1//EN\"\r\n",
       " \"http://www.w3.org/Graphics/SVG/1.1/DTD/svg11.dtd\">\r\n",
       "<!-- Generated by graphviz version 2.38.0 (20140413.2041)\r\n",
       " -->\r\n",
       "<!-- Title: Tree Pages: 1 -->\r\n",
       "<svg width=\"658pt\" height=\"433pt\"\r\n",
       " viewBox=\"0.00 0.00 658.00 433.00\" xmlns=\"http://www.w3.org/2000/svg\" xmlns:xlink=\"http://www.w3.org/1999/xlink\">\r\n",
       "<g id=\"graph0\" class=\"graph\" transform=\"scale(1 1) rotate(0) translate(4 429)\">\r\n",
       "<title>Tree</title>\r\n",
       "<polygon fill=\"white\" stroke=\"none\" points=\"-4,4 -4,-429 654,-429 654,4 -4,4\"/>\r\n",
       "<!-- 0 -->\r\n",
       "<g id=\"node1\" class=\"node\"><title>0</title>\r\n",
       "<path fill=\"#eb9f68\" stroke=\"black\" d=\"M345,-425C345,-425 231,-425 231,-425 225,-425 219,-419 219,-413 219,-413 219,-354 219,-354 219,-348 225,-342 231,-342 231,-342 345,-342 345,-342 351,-342 357,-348 357,-354 357,-354 357,-413 357,-413 357,-419 351,-425 345,-425\"/>\r\n",
       "<text text-anchor=\"start\" x=\"257.5\" y=\"-409.8\" font-family=\"Helvetica,sans-Serif\" font-size=\"14.00\">q23 ≤ 1.5</text>\r\n",
       "<text text-anchor=\"start\" x=\"250.5\" y=\"-394.8\" font-family=\"Helvetica,sans-Serif\" font-size=\"14.00\">gini = 0.308</text>\r\n",
       "<text text-anchor=\"start\" x=\"236.5\" y=\"-379.8\" font-family=\"Helvetica,sans-Serif\" font-size=\"14.00\">samples = 4005</text>\r\n",
       "<text text-anchor=\"start\" x=\"227\" y=\"-364.8\" font-family=\"Helvetica,sans-Serif\" font-size=\"14.00\">value = [3243, 762]</text>\r\n",
       "<text text-anchor=\"start\" x=\"254.5\" y=\"-349.8\" font-family=\"Helvetica,sans-Serif\" font-size=\"14.00\">class = No</text>\r\n",
       "</g>\r\n",
       "<!-- 1 -->\r\n",
       "<g id=\"node2\" class=\"node\"><title>1</title>\r\n",
       "<path fill=\"#f0b68c\" stroke=\"black\" d=\"M265,-306C265,-306 159,-306 159,-306 153,-306 147,-300 147,-294 147,-294 147,-235 147,-235 147,-229 153,-223 159,-223 159,-223 265,-223 265,-223 271,-223 277,-229 277,-235 277,-235 277,-294 277,-294 277,-300 271,-306 265,-306\"/>\r\n",
       "<text text-anchor=\"start\" x=\"181.5\" y=\"-290.8\" font-family=\"Helvetica,sans-Serif\" font-size=\"14.00\">q46 ≤ 3.5</text>\r\n",
       "<text text-anchor=\"start\" x=\"174.5\" y=\"-275.8\" font-family=\"Helvetica,sans-Serif\" font-size=\"14.00\">gini = 0.416</text>\r\n",
       "<text text-anchor=\"start\" x=\"160.5\" y=\"-260.8\" font-family=\"Helvetica,sans-Serif\" font-size=\"14.00\">samples = 1368</text>\r\n",
       "<text text-anchor=\"start\" x=\"155\" y=\"-245.8\" font-family=\"Helvetica,sans-Serif\" font-size=\"14.00\">value = [965, 403]</text>\r\n",
       "<text text-anchor=\"start\" x=\"178.5\" y=\"-230.8\" font-family=\"Helvetica,sans-Serif\" font-size=\"14.00\">class = No</text>\r\n",
       "</g>\r\n",
       "<!-- 0&#45;&gt;1 -->\r\n",
       "<g id=\"edge1\" class=\"edge\"><title>0&#45;&gt;1</title>\r\n",
       "<path fill=\"none\" stroke=\"black\" d=\"M261.632,-341.907C255.914,-333.105 249.807,-323.703 243.902,-314.612\"/>\r\n",
       "<polygon fill=\"black\" stroke=\"black\" points=\"246.704,-312.5 238.321,-306.021 240.833,-316.313 246.704,-312.5\"/>\r\n",
       "<text text-anchor=\"middle\" x=\"233.126\" y=\"-326.775\" font-family=\"Helvetica,sans-Serif\" font-size=\"14.00\">True</text>\r\n",
       "</g>\r\n",
       "<!-- 2 -->\r\n",
       "<g id=\"node7\" class=\"node\"><title>2</title>\r\n",
       "<path fill=\"#e99558\" stroke=\"black\" d=\"M421,-306C421,-306 307,-306 307,-306 301,-306 295,-300 295,-294 295,-294 295,-235 295,-235 295,-229 301,-223 307,-223 307,-223 421,-223 421,-223 427,-223 433,-229 433,-235 433,-235 433,-294 433,-294 433,-300 427,-306 421,-306\"/>\r\n",
       "<text text-anchor=\"start\" x=\"333.5\" y=\"-290.8\" font-family=\"Helvetica,sans-Serif\" font-size=\"14.00\">q88 ≤ 1.5</text>\r\n",
       "<text text-anchor=\"start\" x=\"326.5\" y=\"-275.8\" font-family=\"Helvetica,sans-Serif\" font-size=\"14.00\">gini = 0.235</text>\r\n",
       "<text text-anchor=\"start\" x=\"312.5\" y=\"-260.8\" font-family=\"Helvetica,sans-Serif\" font-size=\"14.00\">samples = 2637</text>\r\n",
       "<text text-anchor=\"start\" x=\"303\" y=\"-245.8\" font-family=\"Helvetica,sans-Serif\" font-size=\"14.00\">value = [2278, 359]</text>\r\n",
       "<text text-anchor=\"start\" x=\"330.5\" y=\"-230.8\" font-family=\"Helvetica,sans-Serif\" font-size=\"14.00\">class = No</text>\r\n",
       "</g>\r\n",
       "<!-- 0&#45;&gt;2 -->\r\n",
       "<g id=\"edge6\" class=\"edge\"><title>0&#45;&gt;2</title>\r\n",
       "<path fill=\"none\" stroke=\"black\" d=\"M314.368,-341.907C320.086,-333.105 326.193,-323.703 332.098,-314.612\"/>\r\n",
       "<polygon fill=\"black\" stroke=\"black\" points=\"335.167,-316.313 337.679,-306.021 329.296,-312.5 335.167,-316.313\"/>\r\n",
       "<text text-anchor=\"middle\" x=\"342.874\" y=\"-326.775\" font-family=\"Helvetica,sans-Serif\" font-size=\"14.00\">False</text>\r\n",
       "</g>\r\n",
       "<!-- 3 -->\r\n",
       "<g id=\"node3\" class=\"node\"><title>3</title>\r\n",
       "<path fill=\"#eda876\" stroke=\"black\" d=\"M118,-179.5C118,-179.5 12,-179.5 12,-179.5 6,-179.5 0,-173.5 0,-167.5 0,-167.5 0,-123.5 0,-123.5 0,-117.5 6,-111.5 12,-111.5 12,-111.5 118,-111.5 118,-111.5 124,-111.5 130,-117.5 130,-123.5 130,-123.5 130,-167.5 130,-167.5 130,-173.5 124,-179.5 118,-179.5\"/>\r\n",
       "<text text-anchor=\"start\" x=\"27.5\" y=\"-164.3\" font-family=\"Helvetica,sans-Serif\" font-size=\"14.00\">gini = 0.361</text>\r\n",
       "<text text-anchor=\"start\" x=\"17.5\" y=\"-149.3\" font-family=\"Helvetica,sans-Serif\" font-size=\"14.00\">samples = 938</text>\r\n",
       "<text text-anchor=\"start\" x=\"8\" y=\"-134.3\" font-family=\"Helvetica,sans-Serif\" font-size=\"14.00\">value = [716, 222]</text>\r\n",
       "<text text-anchor=\"start\" x=\"31.5\" y=\"-119.3\" font-family=\"Helvetica,sans-Serif\" font-size=\"14.00\">class = No</text>\r\n",
       "</g>\r\n",
       "<!-- 1&#45;&gt;3 -->\r\n",
       "<g id=\"edge2\" class=\"edge\"><title>1&#45;&gt;3</title>\r\n",
       "<path fill=\"none\" stroke=\"black\" d=\"M160.999,-222.907C146.026,-210.99 129.675,-197.976 114.779,-186.12\"/>\r\n",
       "<polygon fill=\"black\" stroke=\"black\" points=\"116.675,-183.156 106.671,-179.667 112.316,-188.633 116.675,-183.156\"/>\r\n",
       "</g>\r\n",
       "<!-- 4 -->\r\n",
       "<g id=\"node4\" class=\"node\"><title>4</title>\r\n",
       "<path fill=\"#f8ddc9\" stroke=\"black\" d=\"M266,-187C266,-187 160,-187 160,-187 154,-187 148,-181 148,-175 148,-175 148,-116 148,-116 148,-110 154,-104 160,-104 160,-104 266,-104 266,-104 272,-104 278,-110 278,-116 278,-116 278,-175 278,-175 278,-181 272,-187 266,-187\"/>\r\n",
       "<text text-anchor=\"start\" x=\"182.5\" y=\"-171.8\" font-family=\"Helvetica,sans-Serif\" font-size=\"14.00\">q17 ≤ 4.5</text>\r\n",
       "<text text-anchor=\"start\" x=\"175.5\" y=\"-156.8\" font-family=\"Helvetica,sans-Serif\" font-size=\"14.00\">gini = 0.487</text>\r\n",
       "<text text-anchor=\"start\" x=\"165.5\" y=\"-141.8\" font-family=\"Helvetica,sans-Serif\" font-size=\"14.00\">samples = 430</text>\r\n",
       "<text text-anchor=\"start\" x=\"156\" y=\"-126.8\" font-family=\"Helvetica,sans-Serif\" font-size=\"14.00\">value = [249, 181]</text>\r\n",
       "<text text-anchor=\"start\" x=\"179.5\" y=\"-111.8\" font-family=\"Helvetica,sans-Serif\" font-size=\"14.00\">class = No</text>\r\n",
       "</g>\r\n",
       "<!-- 1&#45;&gt;4 -->\r\n",
       "<g id=\"edge3\" class=\"edge\"><title>1&#45;&gt;4</title>\r\n",
       "<path fill=\"none\" stroke=\"black\" d=\"M212.347,-222.907C212.418,-214.649 212.493,-205.864 212.566,-197.302\"/>\r\n",
       "<polygon fill=\"black\" stroke=\"black\" points=\"216.068,-197.05 212.654,-187.021 209.068,-196.99 216.068,-197.05\"/>\r\n",
       "</g>\r\n",
       "<!-- 9 -->\r\n",
       "<g id=\"node5\" class=\"node\"><title>9</title>\r\n",
       "<path fill=\"#f6d4bb\" stroke=\"black\" d=\"M167,-68C167,-68 61,-68 61,-68 55,-68 49,-62 49,-56 49,-56 49,-12 49,-12 49,-6 55,-0 61,-0 61,-0 167,-0 167,-0 173,-0 179,-6 179,-12 179,-12 179,-56 179,-56 179,-62 173,-68 167,-68\"/>\r\n",
       "<text text-anchor=\"start\" x=\"76.5\" y=\"-52.8\" font-family=\"Helvetica,sans-Serif\" font-size=\"14.00\">gini = 0.478</text>\r\n",
       "<text text-anchor=\"start\" x=\"66.5\" y=\"-37.8\" font-family=\"Helvetica,sans-Serif\" font-size=\"14.00\">samples = 389</text>\r\n",
       "<text text-anchor=\"start\" x=\"57\" y=\"-22.8\" font-family=\"Helvetica,sans-Serif\" font-size=\"14.00\">value = [235, 154]</text>\r\n",
       "<text text-anchor=\"start\" x=\"80.5\" y=\"-7.8\" font-family=\"Helvetica,sans-Serif\" font-size=\"14.00\">class = No</text>\r\n",
       "</g>\r\n",
       "<!-- 4&#45;&gt;9 -->\r\n",
       "<g id=\"edge4\" class=\"edge\"><title>4&#45;&gt;9</title>\r\n",
       "<path fill=\"none\" stroke=\"black\" d=\"M176.136,-103.726C167.89,-94.6054 159.142,-84.93 150.895,-75.8078\"/>\r\n",
       "<polygon fill=\"black\" stroke=\"black\" points=\"153.409,-73.3701 144.106,-68.2996 148.217,-78.0647 153.409,-73.3701\"/>\r\n",
       "</g>\r\n",
       "<!-- 10 -->\r\n",
       "<g id=\"node6\" class=\"node\"><title>10</title>\r\n",
       "<path fill=\"#a0d0f2\" stroke=\"black\" d=\"M298.5,-68C298.5,-68 209.5,-68 209.5,-68 203.5,-68 197.5,-62 197.5,-56 197.5,-56 197.5,-12 197.5,-12 197.5,-6 203.5,-0 209.5,-0 209.5,-0 298.5,-0 298.5,-0 304.5,-0 310.5,-6 310.5,-12 310.5,-12 310.5,-56 310.5,-56 310.5,-62 304.5,-68 298.5,-68\"/>\r\n",
       "<text text-anchor=\"start\" x=\"220.5\" y=\"-52.8\" font-family=\"Helvetica,sans-Serif\" font-size=\"14.00\">gini = 0.45</text>\r\n",
       "<text text-anchor=\"start\" x=\"210.5\" y=\"-37.8\" font-family=\"Helvetica,sans-Serif\" font-size=\"14.00\">samples = 41</text>\r\n",
       "<text text-anchor=\"start\" x=\"205.5\" y=\"-22.8\" font-family=\"Helvetica,sans-Serif\" font-size=\"14.00\">value = [14, 27]</text>\r\n",
       "<text text-anchor=\"start\" x=\"205.5\" y=\"-7.8\" font-family=\"Helvetica,sans-Serif\" font-size=\"14.00\">class = Suicide</text>\r\n",
       "</g>\r\n",
       "<!-- 4&#45;&gt;10 -->\r\n",
       "<g id=\"edge5\" class=\"edge\"><title>4&#45;&gt;10</title>\r\n",
       "<path fill=\"none\" stroke=\"black\" d=\"M228.267,-103.726C231.443,-95.2439 234.799,-86.2819 238,-77.7312\"/>\r\n",
       "<polygon fill=\"black\" stroke=\"black\" points=\"241.303,-78.892 241.532,-68.2996 234.747,-76.4373 241.303,-78.892\"/>\r\n",
       "</g>\r\n",
       "<!-- 5 -->\r\n",
       "<g id=\"node8\" class=\"node\"><title>5</title>\r\n",
       "<path fill=\"#eeae7f\" stroke=\"black\" d=\"M416,-179.5C416,-179.5 310,-179.5 310,-179.5 304,-179.5 298,-173.5 298,-167.5 298,-167.5 298,-123.5 298,-123.5 298,-117.5 304,-111.5 310,-111.5 310,-111.5 416,-111.5 416,-111.5 422,-111.5 428,-117.5 428,-123.5 428,-123.5 428,-167.5 428,-167.5 428,-173.5 422,-179.5 416,-179.5\"/>\r\n",
       "<text text-anchor=\"start\" x=\"325.5\" y=\"-164.3\" font-family=\"Helvetica,sans-Serif\" font-size=\"14.00\">gini = 0.386</text>\r\n",
       "<text text-anchor=\"start\" x=\"315.5\" y=\"-149.3\" font-family=\"Helvetica,sans-Serif\" font-size=\"14.00\">samples = 409</text>\r\n",
       "<text text-anchor=\"start\" x=\"306\" y=\"-134.3\" font-family=\"Helvetica,sans-Serif\" font-size=\"14.00\">value = [302, 107]</text>\r\n",
       "<text text-anchor=\"start\" x=\"329.5\" y=\"-119.3\" font-family=\"Helvetica,sans-Serif\" font-size=\"14.00\">class = No</text>\r\n",
       "</g>\r\n",
       "<!-- 2&#45;&gt;5 -->\r\n",
       "<g id=\"edge7\" class=\"edge\"><title>2&#45;&gt;5</title>\r\n",
       "<path fill=\"none\" stroke=\"black\" d=\"M363.653,-222.907C363.562,-212.204 363.463,-200.615 363.37,-189.776\"/>\r\n",
       "<polygon fill=\"black\" stroke=\"black\" points=\"366.869,-189.637 363.283,-179.667 359.869,-189.697 366.869,-189.637\"/>\r\n",
       "</g>\r\n",
       "<!-- 6 -->\r\n",
       "<g id=\"node9\" class=\"node\"><title>6</title>\r\n",
       "<path fill=\"#e89152\" stroke=\"black\" d=\"M572,-187C572,-187 458,-187 458,-187 452,-187 446,-181 446,-175 446,-175 446,-116 446,-116 446,-110 452,-104 458,-104 458,-104 572,-104 572,-104 578,-104 584,-110 584,-116 584,-116 584,-175 584,-175 584,-181 578,-187 572,-187\"/>\r\n",
       "<text text-anchor=\"start\" x=\"484.5\" y=\"-171.8\" font-family=\"Helvetica,sans-Serif\" font-size=\"14.00\">q32 ≤ 1.5</text>\r\n",
       "<text text-anchor=\"start\" x=\"477.5\" y=\"-156.8\" font-family=\"Helvetica,sans-Serif\" font-size=\"14.00\">gini = 0.201</text>\r\n",
       "<text text-anchor=\"start\" x=\"463.5\" y=\"-141.8\" font-family=\"Helvetica,sans-Serif\" font-size=\"14.00\">samples = 2228</text>\r\n",
       "<text text-anchor=\"start\" x=\"454\" y=\"-126.8\" font-family=\"Helvetica,sans-Serif\" font-size=\"14.00\">value = [1976, 252]</text>\r\n",
       "<text text-anchor=\"start\" x=\"481.5\" y=\"-111.8\" font-family=\"Helvetica,sans-Serif\" font-size=\"14.00\">class = No</text>\r\n",
       "</g>\r\n",
       "<!-- 2&#45;&gt;6 -->\r\n",
       "<g id=\"edge8\" class=\"edge\"><title>2&#45;&gt;6</title>\r\n",
       "<path fill=\"none\" stroke=\"black\" d=\"M416.389,-222.907C428.687,-213.379 441.89,-203.148 454.51,-193.37\"/>\r\n",
       "<polygon fill=\"black\" stroke=\"black\" points=\"456.943,-195.912 462.704,-187.021 452.655,-190.379 456.943,-195.912\"/>\r\n",
       "</g>\r\n",
       "<!-- 7 -->\r\n",
       "<g id=\"node10\" class=\"node\"><title>7</title>\r\n",
       "<path fill=\"#e88e4d\" stroke=\"black\" d=\"M498,-68C498,-68 384,-68 384,-68 378,-68 372,-62 372,-56 372,-56 372,-12 372,-12 372,-6 378,-0 384,-0 384,-0 498,-0 498,-0 504,-0 510,-6 510,-12 510,-12 510,-56 510,-56 510,-62 504,-68 498,-68\"/>\r\n",
       "<text text-anchor=\"start\" x=\"403.5\" y=\"-52.8\" font-family=\"Helvetica,sans-Serif\" font-size=\"14.00\">gini = 0.168</text>\r\n",
       "<text text-anchor=\"start\" x=\"389.5\" y=\"-37.8\" font-family=\"Helvetica,sans-Serif\" font-size=\"14.00\">samples = 1850</text>\r\n",
       "<text text-anchor=\"start\" x=\"380\" y=\"-22.8\" font-family=\"Helvetica,sans-Serif\" font-size=\"14.00\">value = [1679, 171]</text>\r\n",
       "<text text-anchor=\"start\" x=\"407.5\" y=\"-7.8\" font-family=\"Helvetica,sans-Serif\" font-size=\"14.00\">class = No</text>\r\n",
       "</g>\r\n",
       "<!-- 6&#45;&gt;7 -->\r\n",
       "<g id=\"edge9\" class=\"edge\"><title>6&#45;&gt;7</title>\r\n",
       "<path fill=\"none\" stroke=\"black\" d=\"M487.445,-103.726C481.466,-94.879 475.135,-85.51 469.134,-76.6303\"/>\r\n",
       "<polygon fill=\"black\" stroke=\"black\" points=\"472.003,-74.6253 463.504,-68.2996 466.203,-78.5448 472.003,-74.6253\"/>\r\n",
       "</g>\r\n",
       "<!-- 8 -->\r\n",
       "<g id=\"node11\" class=\"node\"><title>8</title>\r\n",
       "<path fill=\"#eca36f\" stroke=\"black\" d=\"M638,-68C638,-68 540,-68 540,-68 534,-68 528,-62 528,-56 528,-56 528,-12 528,-12 528,-6 534,-0 540,-0 540,-0 638,-0 638,-0 644,-0 650,-6 650,-12 650,-12 650,-56 650,-56 650,-62 644,-68 638,-68\"/>\r\n",
       "<text text-anchor=\"start\" x=\"551.5\" y=\"-52.8\" font-family=\"Helvetica,sans-Serif\" font-size=\"14.00\">gini = 0.337</text>\r\n",
       "<text text-anchor=\"start\" x=\"541.5\" y=\"-37.8\" font-family=\"Helvetica,sans-Serif\" font-size=\"14.00\">samples = 378</text>\r\n",
       "<text text-anchor=\"start\" x=\"536\" y=\"-22.8\" font-family=\"Helvetica,sans-Serif\" font-size=\"14.00\">value = [297, 81]</text>\r\n",
       "<text text-anchor=\"start\" x=\"555.5\" y=\"-7.8\" font-family=\"Helvetica,sans-Serif\" font-size=\"14.00\">class = No</text>\r\n",
       "</g>\r\n",
       "<!-- 6&#45;&gt;8 -->\r\n",
       "<g id=\"edge10\" class=\"edge\"><title>6&#45;&gt;8</title>\r\n",
       "<path fill=\"none\" stroke=\"black\" d=\"M542.555,-103.726C548.534,-94.879 554.865,-85.51 560.866,-76.6303\"/>\r\n",
       "<polygon fill=\"black\" stroke=\"black\" points=\"563.797,-78.5448 566.496,-68.2996 557.997,-74.6253 563.797,-78.5448\"/>\r\n",
       "</g>\r\n",
       "</g>\r\n",
       "</svg>\r\n"
      ],
      "text/plain": [
       "<graphviz.files.Source at 0x1f9e0e4f2e0>"
      ]
     },
     "execution_count": 64,
     "metadata": {},
     "output_type": "execute_result"
    }
   ],
   "source": [
    "graphClf = print_tree(d_tree=clftree, f_names=X1.columns, c_names=['No', 'Suicide'])\n",
    "graphClf"
   ]
  },
  {
   "cell_type": "code",
   "execution_count": 65,
   "id": "7fae4c12",
   "metadata": {},
   "outputs": [
    {
     "name": "stdout",
     "output_type": "stream",
     "text": [
      "Validation Set Classification Accuracy: 0.7954091816367266\n",
      "Confusion Matrix:\n"
     ]
    },
    {
     "data": {
      "text/html": [
       "<div>\n",
       "<style scoped>\n",
       "    .dataframe tbody tr th:only-of-type {\n",
       "        vertical-align: middle;\n",
       "    }\n",
       "\n",
       "    .dataframe tbody tr th {\n",
       "        vertical-align: top;\n",
       "    }\n",
       "\n",
       "    .dataframe thead th {\n",
       "        text-align: right;\n",
       "    }\n",
       "</style>\n",
       "<table border=\"1\" class=\"dataframe\">\n",
       "  <thead>\n",
       "    <tr style=\"text-align: right;\">\n",
       "      <th>Predicted</th>\n",
       "      <th>No</th>\n",
       "      <th>Yes</th>\n",
       "    </tr>\n",
       "    <tr>\n",
       "      <th>Actual</th>\n",
       "      <th></th>\n",
       "      <th></th>\n",
       "    </tr>\n",
       "  </thead>\n",
       "  <tbody>\n",
       "    <tr>\n",
       "      <th>No</th>\n",
       "      <td>792</td>\n",
       "      <td>4</td>\n",
       "    </tr>\n",
       "    <tr>\n",
       "      <th>Yes</th>\n",
       "      <td>201</td>\n",
       "      <td>5</td>\n",
       "    </tr>\n",
       "  </tbody>\n",
       "</table>\n",
       "</div>"
      ],
      "text/plain": [
       "Predicted   No  Yes\n",
       "Actual             \n",
       "No         792    4\n",
       "Yes        201    5"
      ]
     },
     "metadata": {},
     "output_type": "display_data"
    },
    {
     "name": "stdout",
     "output_type": "stream",
     "text": [
      "Classification Report:\n",
      "              precision    recall  f1-score   support\n",
      "\n",
      "           0       0.80      0.99      0.89       796\n",
      "           1       0.56      0.02      0.05       206\n",
      "\n",
      "    accuracy                           0.80      1002\n",
      "   macro avg       0.68      0.51      0.47      1002\n",
      "weighted avg       0.75      0.80      0.71      1002\n",
      "\n"
     ]
    }
   ],
   "source": [
    "print(\"Validation Set Classification Accuracy:\", clftree.score(X_val,y_val))\n",
    "print(\"Confusion Matrix:\")\n",
    "cm = pd.DataFrame(confusion_matrix(y_val, clftree.predict(X_val)), index=['No', 'Yes'], columns=['No', 'Yes'])\n",
    "cm.index.name = 'Actual'\n",
    "cm.columns.name = 'Predicted'\n",
    "display(cm)\n",
    "print(\"Classification Report:\")\n",
    "print(classification_report(y_val, clftree.predict(X_val)))"
   ]
  },
  {
   "cell_type": "code",
   "execution_count": 66,
   "id": "6eb1295f",
   "metadata": {},
   "outputs": [
    {
     "data": {
      "text/plain": [
       "DecisionTreeClassifier(max_features=9, max_leaf_nodes=6, random_state=23)"
      ]
     },
     "execution_count": 66,
     "metadata": {},
     "output_type": "execute_result"
    }
   ],
   "source": [
    "clftree_2 = DecisionTreeClassifier(max_leaf_nodes=6, max_features=9, random_state=23)\n",
    "clftree_2.fit(X_train,y_train)"
   ]
  },
  {
   "cell_type": "code",
   "execution_count": 67,
   "id": "637cfc45",
   "metadata": {},
   "outputs": [
    {
     "data": {
      "image/svg+xml": [
       "<?xml version=\"1.0\" encoding=\"UTF-8\" standalone=\"no\"?>\r\n",
       "<!DOCTYPE svg PUBLIC \"-//W3C//DTD SVG 1.1//EN\"\r\n",
       " \"http://www.w3.org/Graphics/SVG/1.1/DTD/svg11.dtd\">\r\n",
       "<!-- Generated by graphviz version 2.38.0 (20140413.2041)\r\n",
       " -->\r\n",
       "<!-- Title: Tree Pages: 1 -->\r\n",
       "<svg width=\"691pt\" height=\"433pt\"\r\n",
       " viewBox=\"0.00 0.00 691.00 433.00\" xmlns=\"http://www.w3.org/2000/svg\" xmlns:xlink=\"http://www.w3.org/1999/xlink\">\r\n",
       "<g id=\"graph0\" class=\"graph\" transform=\"scale(1 1) rotate(0) translate(4 429)\">\r\n",
       "<title>Tree</title>\r\n",
       "<polygon fill=\"white\" stroke=\"none\" points=\"-4,4 -4,-429 687,-429 687,4 -4,4\"/>\r\n",
       "<!-- 0 -->\r\n",
       "<g id=\"node1\" class=\"node\"><title>0</title>\r\n",
       "<path fill=\"#eb9f68\" stroke=\"black\" d=\"M344,-425C344,-425 230,-425 230,-425 224,-425 218,-419 218,-413 218,-413 218,-354 218,-354 218,-348 224,-342 230,-342 230,-342 344,-342 344,-342 350,-342 356,-348 356,-354 356,-354 356,-413 356,-413 356,-419 350,-425 344,-425\"/>\r\n",
       "<text text-anchor=\"start\" x=\"256.5\" y=\"-409.8\" font-family=\"Helvetica,sans-Serif\" font-size=\"14.00\">q23 ≤ 1.5</text>\r\n",
       "<text text-anchor=\"start\" x=\"249.5\" y=\"-394.8\" font-family=\"Helvetica,sans-Serif\" font-size=\"14.00\">gini = 0.308</text>\r\n",
       "<text text-anchor=\"start\" x=\"235.5\" y=\"-379.8\" font-family=\"Helvetica,sans-Serif\" font-size=\"14.00\">samples = 4005</text>\r\n",
       "<text text-anchor=\"start\" x=\"226\" y=\"-364.8\" font-family=\"Helvetica,sans-Serif\" font-size=\"14.00\">value = [3243, 762]</text>\r\n",
       "<text text-anchor=\"start\" x=\"253.5\" y=\"-349.8\" font-family=\"Helvetica,sans-Serif\" font-size=\"14.00\">class = No</text>\r\n",
       "</g>\r\n",
       "<!-- 1 -->\r\n",
       "<g id=\"node2\" class=\"node\"><title>1</title>\r\n",
       "<path fill=\"#f0b68c\" stroke=\"black\" d=\"M264,-306C264,-306 158,-306 158,-306 152,-306 146,-300 146,-294 146,-294 146,-235 146,-235 146,-229 152,-223 158,-223 158,-223 264,-223 264,-223 270,-223 276,-229 276,-235 276,-235 276,-294 276,-294 276,-300 270,-306 264,-306\"/>\r\n",
       "<text text-anchor=\"start\" x=\"180.5\" y=\"-290.8\" font-family=\"Helvetica,sans-Serif\" font-size=\"14.00\">q46 ≤ 3.5</text>\r\n",
       "<text text-anchor=\"start\" x=\"173.5\" y=\"-275.8\" font-family=\"Helvetica,sans-Serif\" font-size=\"14.00\">gini = 0.416</text>\r\n",
       "<text text-anchor=\"start\" x=\"159.5\" y=\"-260.8\" font-family=\"Helvetica,sans-Serif\" font-size=\"14.00\">samples = 1368</text>\r\n",
       "<text text-anchor=\"start\" x=\"154\" y=\"-245.8\" font-family=\"Helvetica,sans-Serif\" font-size=\"14.00\">value = [965, 403]</text>\r\n",
       "<text text-anchor=\"start\" x=\"177.5\" y=\"-230.8\" font-family=\"Helvetica,sans-Serif\" font-size=\"14.00\">class = No</text>\r\n",
       "</g>\r\n",
       "<!-- 0&#45;&gt;1 -->\r\n",
       "<g id=\"edge1\" class=\"edge\"><title>0&#45;&gt;1</title>\r\n",
       "<path fill=\"none\" stroke=\"black\" d=\"M260.632,-341.907C254.914,-333.105 248.807,-323.703 242.902,-314.612\"/>\r\n",
       "<polygon fill=\"black\" stroke=\"black\" points=\"245.704,-312.5 237.321,-306.021 239.833,-316.313 245.704,-312.5\"/>\r\n",
       "<text text-anchor=\"middle\" x=\"232.126\" y=\"-326.775\" font-family=\"Helvetica,sans-Serif\" font-size=\"14.00\">True</text>\r\n",
       "</g>\r\n",
       "<!-- 2 -->\r\n",
       "<g id=\"node7\" class=\"node\"><title>2</title>\r\n",
       "<path fill=\"#e99558\" stroke=\"black\" d=\"M420,-306C420,-306 306,-306 306,-306 300,-306 294,-300 294,-294 294,-294 294,-235 294,-235 294,-229 300,-223 306,-223 306,-223 420,-223 420,-223 426,-223 432,-229 432,-235 432,-235 432,-294 432,-294 432,-300 426,-306 420,-306\"/>\r\n",
       "<text text-anchor=\"start\" x=\"332.5\" y=\"-290.8\" font-family=\"Helvetica,sans-Serif\" font-size=\"14.00\">q88 ≤ 1.5</text>\r\n",
       "<text text-anchor=\"start\" x=\"325.5\" y=\"-275.8\" font-family=\"Helvetica,sans-Serif\" font-size=\"14.00\">gini = 0.235</text>\r\n",
       "<text text-anchor=\"start\" x=\"311.5\" y=\"-260.8\" font-family=\"Helvetica,sans-Serif\" font-size=\"14.00\">samples = 2637</text>\r\n",
       "<text text-anchor=\"start\" x=\"302\" y=\"-245.8\" font-family=\"Helvetica,sans-Serif\" font-size=\"14.00\">value = [2278, 359]</text>\r\n",
       "<text text-anchor=\"start\" x=\"329.5\" y=\"-230.8\" font-family=\"Helvetica,sans-Serif\" font-size=\"14.00\">class = No</text>\r\n",
       "</g>\r\n",
       "<!-- 0&#45;&gt;2 -->\r\n",
       "<g id=\"edge6\" class=\"edge\"><title>0&#45;&gt;2</title>\r\n",
       "<path fill=\"none\" stroke=\"black\" d=\"M313.368,-341.907C319.086,-333.105 325.193,-323.703 331.098,-314.612\"/>\r\n",
       "<polygon fill=\"black\" stroke=\"black\" points=\"334.167,-316.313 336.679,-306.021 328.296,-312.5 334.167,-316.313\"/>\r\n",
       "<text text-anchor=\"middle\" x=\"341.874\" y=\"-326.775\" font-family=\"Helvetica,sans-Serif\" font-size=\"14.00\">False</text>\r\n",
       "</g>\r\n",
       "<!-- 3 -->\r\n",
       "<g id=\"node3\" class=\"node\"><title>3</title>\r\n",
       "<path fill=\"#eda876\" stroke=\"black\" d=\"M118,-179.5C118,-179.5 12,-179.5 12,-179.5 6,-179.5 0,-173.5 0,-167.5 0,-167.5 0,-123.5 0,-123.5 0,-117.5 6,-111.5 12,-111.5 12,-111.5 118,-111.5 118,-111.5 124,-111.5 130,-117.5 130,-123.5 130,-123.5 130,-167.5 130,-167.5 130,-173.5 124,-179.5 118,-179.5\"/>\r\n",
       "<text text-anchor=\"start\" x=\"27.5\" y=\"-164.3\" font-family=\"Helvetica,sans-Serif\" font-size=\"14.00\">gini = 0.361</text>\r\n",
       "<text text-anchor=\"start\" x=\"17.5\" y=\"-149.3\" font-family=\"Helvetica,sans-Serif\" font-size=\"14.00\">samples = 938</text>\r\n",
       "<text text-anchor=\"start\" x=\"8\" y=\"-134.3\" font-family=\"Helvetica,sans-Serif\" font-size=\"14.00\">value = [716, 222]</text>\r\n",
       "<text text-anchor=\"start\" x=\"31.5\" y=\"-119.3\" font-family=\"Helvetica,sans-Serif\" font-size=\"14.00\">class = No</text>\r\n",
       "</g>\r\n",
       "<!-- 1&#45;&gt;3 -->\r\n",
       "<g id=\"edge2\" class=\"edge\"><title>1&#45;&gt;3</title>\r\n",
       "<path fill=\"none\" stroke=\"black\" d=\"M160.346,-222.907C145.475,-210.99 129.235,-197.976 114.44,-186.12\"/>\r\n",
       "<polygon fill=\"black\" stroke=\"black\" points=\"116.38,-183.189 106.388,-179.667 112.003,-188.652 116.38,-183.189\"/>\r\n",
       "</g>\r\n",
       "<!-- 4 -->\r\n",
       "<g id=\"node4\" class=\"node\"><title>4</title>\r\n",
       "<path fill=\"#f8ddc9\" stroke=\"black\" d=\"M266,-187C266,-187 160,-187 160,-187 154,-187 148,-181 148,-175 148,-175 148,-116 148,-116 148,-110 154,-104 160,-104 160,-104 266,-104 266,-104 272,-104 278,-110 278,-116 278,-116 278,-175 278,-175 278,-181 272,-187 266,-187\"/>\r\n",
       "<text text-anchor=\"start\" x=\"182.5\" y=\"-171.8\" font-family=\"Helvetica,sans-Serif\" font-size=\"14.00\">q78 ≤ 1.5</text>\r\n",
       "<text text-anchor=\"start\" x=\"175.5\" y=\"-156.8\" font-family=\"Helvetica,sans-Serif\" font-size=\"14.00\">gini = 0.487</text>\r\n",
       "<text text-anchor=\"start\" x=\"165.5\" y=\"-141.8\" font-family=\"Helvetica,sans-Serif\" font-size=\"14.00\">samples = 430</text>\r\n",
       "<text text-anchor=\"start\" x=\"156\" y=\"-126.8\" font-family=\"Helvetica,sans-Serif\" font-size=\"14.00\">value = [249, 181]</text>\r\n",
       "<text text-anchor=\"start\" x=\"179.5\" y=\"-111.8\" font-family=\"Helvetica,sans-Serif\" font-size=\"14.00\">class = No</text>\r\n",
       "</g>\r\n",
       "<!-- 1&#45;&gt;4 -->\r\n",
       "<g id=\"edge3\" class=\"edge\"><title>1&#45;&gt;4</title>\r\n",
       "<path fill=\"none\" stroke=\"black\" d=\"M211.694,-222.907C211.837,-214.558 211.989,-205.671 212.136,-197.02\"/>\r\n",
       "<polygon fill=\"black\" stroke=\"black\" points=\"215.636,-197.079 212.307,-187.021 208.637,-196.959 215.636,-197.079\"/>\r\n",
       "</g>\r\n",
       "<!-- 9 -->\r\n",
       "<g id=\"node5\" class=\"node\"><title>9</title>\r\n",
       "<path fill=\"#cbe5f8\" stroke=\"black\" d=\"M187.5,-68C187.5,-68 98.5,-68 98.5,-68 92.5,-68 86.5,-62 86.5,-56 86.5,-56 86.5,-12 86.5,-12 86.5,-6 92.5,-0 98.5,-0 98.5,-0 187.5,-0 187.5,-0 193.5,-0 199.5,-6 199.5,-12 199.5,-12 199.5,-56 199.5,-56 199.5,-62 193.5,-68 187.5,-68\"/>\r\n",
       "<text text-anchor=\"start\" x=\"105.5\" y=\"-52.8\" font-family=\"Helvetica,sans-Serif\" font-size=\"14.00\">gini = 0.488</text>\r\n",
       "<text text-anchor=\"start\" x=\"95.5\" y=\"-37.8\" font-family=\"Helvetica,sans-Serif\" font-size=\"14.00\">samples = 118</text>\r\n",
       "<text text-anchor=\"start\" x=\"94.5\" y=\"-22.8\" font-family=\"Helvetica,sans-Serif\" font-size=\"14.00\">value = [50, 68]</text>\r\n",
       "<text text-anchor=\"start\" x=\"106\" y=\"-7.8\" font-family=\"Helvetica,sans-Serif\" font-size=\"14.00\">class = Yes</text>\r\n",
       "</g>\r\n",
       "<!-- 4&#45;&gt;9 -->\r\n",
       "<g id=\"edge4\" class=\"edge\"><title>4&#45;&gt;9</title>\r\n",
       "<path fill=\"none\" stroke=\"black\" d=\"M186.935,-103.726C181.337,-94.9703 175.413,-85.7032 169.789,-76.9051\"/>\r\n",
       "<polygon fill=\"black\" stroke=\"black\" points=\"172.623,-74.8399 164.287,-68.2996 166.725,-78.6103 172.623,-74.8399\"/>\r\n",
       "</g>\r\n",
       "<!-- 10 -->\r\n",
       "<g id=\"node6\" class=\"node\"><title>10</title>\r\n",
       "<path fill=\"#f4c9a9\" stroke=\"black\" d=\"M336,-68C336,-68 230,-68 230,-68 224,-68 218,-62 218,-56 218,-56 218,-12 218,-12 218,-6 224,-0 230,-0 230,-0 336,-0 336,-0 342,-0 348,-6 348,-12 348,-12 348,-56 348,-56 348,-62 342,-68 336,-68\"/>\r\n",
       "<text text-anchor=\"start\" x=\"245.5\" y=\"-52.8\" font-family=\"Helvetica,sans-Serif\" font-size=\"14.00\">gini = 0.462</text>\r\n",
       "<text text-anchor=\"start\" x=\"235.5\" y=\"-37.8\" font-family=\"Helvetica,sans-Serif\" font-size=\"14.00\">samples = 312</text>\r\n",
       "<text text-anchor=\"start\" x=\"226\" y=\"-22.8\" font-family=\"Helvetica,sans-Serif\" font-size=\"14.00\">value = [199, 113]</text>\r\n",
       "<text text-anchor=\"start\" x=\"249.5\" y=\"-7.8\" font-family=\"Helvetica,sans-Serif\" font-size=\"14.00\">class = No</text>\r\n",
       "</g>\r\n",
       "<!-- 4&#45;&gt;10 -->\r\n",
       "<g id=\"edge5\" class=\"edge\"><title>4&#45;&gt;10</title>\r\n",
       "<path fill=\"none\" stroke=\"black\" d=\"M239.065,-103.726C244.663,-94.9703 250.587,-85.7032 256.211,-76.9051\"/>\r\n",
       "<polygon fill=\"black\" stroke=\"black\" points=\"259.275,-78.6103 261.713,-68.2996 253.377,-74.8399 259.275,-78.6103\"/>\r\n",
       "</g>\r\n",
       "<!-- 5 -->\r\n",
       "<g id=\"node8\" class=\"node\"><title>5</title>\r\n",
       "<path fill=\"#eeae7f\" stroke=\"black\" d=\"M414,-179.5C414,-179.5 308,-179.5 308,-179.5 302,-179.5 296,-173.5 296,-167.5 296,-167.5 296,-123.5 296,-123.5 296,-117.5 302,-111.5 308,-111.5 308,-111.5 414,-111.5 414,-111.5 420,-111.5 426,-117.5 426,-123.5 426,-123.5 426,-167.5 426,-167.5 426,-173.5 420,-179.5 414,-179.5\"/>\r\n",
       "<text text-anchor=\"start\" x=\"323.5\" y=\"-164.3\" font-family=\"Helvetica,sans-Serif\" font-size=\"14.00\">gini = 0.386</text>\r\n",
       "<text text-anchor=\"start\" x=\"313.5\" y=\"-149.3\" font-family=\"Helvetica,sans-Serif\" font-size=\"14.00\">samples = 409</text>\r\n",
       "<text text-anchor=\"start\" x=\"304\" y=\"-134.3\" font-family=\"Helvetica,sans-Serif\" font-size=\"14.00\">value = [302, 107]</text>\r\n",
       "<text text-anchor=\"start\" x=\"327.5\" y=\"-119.3\" font-family=\"Helvetica,sans-Serif\" font-size=\"14.00\">class = No</text>\r\n",
       "</g>\r\n",
       "<!-- 2&#45;&gt;5 -->\r\n",
       "<g id=\"edge7\" class=\"edge\"><title>2&#45;&gt;5</title>\r\n",
       "<path fill=\"none\" stroke=\"black\" d=\"M362.306,-222.907C362.123,-212.204 361.925,-200.615 361.74,-189.776\"/>\r\n",
       "<polygon fill=\"black\" stroke=\"black\" points=\"365.237,-189.606 361.567,-179.667 358.238,-189.725 365.237,-189.606\"/>\r\n",
       "</g>\r\n",
       "<!-- 6 -->\r\n",
       "<g id=\"node9\" class=\"node\"><title>6</title>\r\n",
       "<path fill=\"#e89152\" stroke=\"black\" d=\"M570,-187C570,-187 456,-187 456,-187 450,-187 444,-181 444,-175 444,-175 444,-116 444,-116 444,-110 450,-104 456,-104 456,-104 570,-104 570,-104 576,-104 582,-110 582,-116 582,-116 582,-175 582,-175 582,-181 576,-187 570,-187\"/>\r\n",
       "<text text-anchor=\"start\" x=\"482.5\" y=\"-171.8\" font-family=\"Helvetica,sans-Serif\" font-size=\"14.00\">q32 ≤ 1.5</text>\r\n",
       "<text text-anchor=\"start\" x=\"475.5\" y=\"-156.8\" font-family=\"Helvetica,sans-Serif\" font-size=\"14.00\">gini = 0.201</text>\r\n",
       "<text text-anchor=\"start\" x=\"461.5\" y=\"-141.8\" font-family=\"Helvetica,sans-Serif\" font-size=\"14.00\">samples = 2228</text>\r\n",
       "<text text-anchor=\"start\" x=\"452\" y=\"-126.8\" font-family=\"Helvetica,sans-Serif\" font-size=\"14.00\">value = [1976, 252]</text>\r\n",
       "<text text-anchor=\"start\" x=\"479.5\" y=\"-111.8\" font-family=\"Helvetica,sans-Serif\" font-size=\"14.00\">class = No</text>\r\n",
       "</g>\r\n",
       "<!-- 2&#45;&gt;6 -->\r\n",
       "<g id=\"edge8\" class=\"edge\"><title>2&#45;&gt;6</title>\r\n",
       "<path fill=\"none\" stroke=\"black\" d=\"M415.042,-222.907C427.258,-213.379 440.374,-203.148 452.911,-193.37\"/>\r\n",
       "<polygon fill=\"black\" stroke=\"black\" points=\"455.318,-195.931 461.05,-187.021 451.013,-190.411 455.318,-195.931\"/>\r\n",
       "</g>\r\n",
       "<!-- 7 -->\r\n",
       "<g id=\"node10\" class=\"node\"><title>7</title>\r\n",
       "<path fill=\"#e88e4d\" stroke=\"black\" d=\"M531,-68C531,-68 417,-68 417,-68 411,-68 405,-62 405,-56 405,-56 405,-12 405,-12 405,-6 411,-0 417,-0 417,-0 531,-0 531,-0 537,-0 543,-6 543,-12 543,-12 543,-56 543,-56 543,-62 537,-68 531,-68\"/>\r\n",
       "<text text-anchor=\"start\" x=\"436.5\" y=\"-52.8\" font-family=\"Helvetica,sans-Serif\" font-size=\"14.00\">gini = 0.168</text>\r\n",
       "<text text-anchor=\"start\" x=\"422.5\" y=\"-37.8\" font-family=\"Helvetica,sans-Serif\" font-size=\"14.00\">samples = 1850</text>\r\n",
       "<text text-anchor=\"start\" x=\"413\" y=\"-22.8\" font-family=\"Helvetica,sans-Serif\" font-size=\"14.00\">value = [1679, 171]</text>\r\n",
       "<text text-anchor=\"start\" x=\"440.5\" y=\"-7.8\" font-family=\"Helvetica,sans-Serif\" font-size=\"14.00\">class = No</text>\r\n",
       "</g>\r\n",
       "<!-- 6&#45;&gt;7 -->\r\n",
       "<g id=\"edge9\" class=\"edge\"><title>6&#45;&gt;7</title>\r\n",
       "<path fill=\"none\" stroke=\"black\" d=\"M498.478,-103.726C495.457,-95.2439 492.265,-86.2819 489.219,-77.7312\"/>\r\n",
       "<polygon fill=\"black\" stroke=\"black\" points=\"492.513,-76.5456 485.86,-68.2996 485.918,-78.8943 492.513,-76.5456\"/>\r\n",
       "</g>\r\n",
       "<!-- 8 -->\r\n",
       "<g id=\"node11\" class=\"node\"><title>8</title>\r\n",
       "<path fill=\"#eca36f\" stroke=\"black\" d=\"M671,-68C671,-68 573,-68 573,-68 567,-68 561,-62 561,-56 561,-56 561,-12 561,-12 561,-6 567,-0 573,-0 573,-0 671,-0 671,-0 677,-0 683,-6 683,-12 683,-12 683,-56 683,-56 683,-62 677,-68 671,-68\"/>\r\n",
       "<text text-anchor=\"start\" x=\"584.5\" y=\"-52.8\" font-family=\"Helvetica,sans-Serif\" font-size=\"14.00\">gini = 0.337</text>\r\n",
       "<text text-anchor=\"start\" x=\"574.5\" y=\"-37.8\" font-family=\"Helvetica,sans-Serif\" font-size=\"14.00\">samples = 378</text>\r\n",
       "<text text-anchor=\"start\" x=\"569\" y=\"-22.8\" font-family=\"Helvetica,sans-Serif\" font-size=\"14.00\">value = [297, 81]</text>\r\n",
       "<text text-anchor=\"start\" x=\"588.5\" y=\"-7.8\" font-family=\"Helvetica,sans-Serif\" font-size=\"14.00\">class = No</text>\r\n",
       "</g>\r\n",
       "<!-- 6&#45;&gt;8 -->\r\n",
       "<g id=\"edge10\" class=\"edge\"><title>6&#45;&gt;8</title>\r\n",
       "<path fill=\"none\" stroke=\"black\" d=\"M553.588,-103.726C562.758,-94.5142 572.491,-84.7364 581.651,-75.5343\"/>\r\n",
       "<polygon fill=\"black\" stroke=\"black\" points=\"584.278,-77.8561 588.852,-68.2996 579.317,-72.9176 584.278,-77.8561\"/>\r\n",
       "</g>\r\n",
       "</g>\r\n",
       "</svg>\r\n"
      ],
      "text/plain": [
       "<graphviz.files.Source at 0x1f9e0e37610>"
      ]
     },
     "execution_count": 67,
     "metadata": {},
     "output_type": "execute_result"
    }
   ],
   "source": [
    "graphClf_2 = print_tree(d_tree=clftree_2, f_names=X1.columns, c_names=['No', 'Yes'])\n",
    "graphClf_2"
   ]
  },
  {
   "cell_type": "code",
   "execution_count": 68,
   "id": "58d9547b",
   "metadata": {
    "scrolled": true
   },
   "outputs": [
    {
     "name": "stdout",
     "output_type": "stream",
     "text": [
      "Validation Set Classification Accuracy: 0.7874251497005988\n",
      "Confusion Matrix:\n"
     ]
    },
    {
     "data": {
      "text/html": [
       "<div>\n",
       "<style scoped>\n",
       "    .dataframe tbody tr th:only-of-type {\n",
       "        vertical-align: middle;\n",
       "    }\n",
       "\n",
       "    .dataframe tbody tr th {\n",
       "        vertical-align: top;\n",
       "    }\n",
       "\n",
       "    .dataframe thead th {\n",
       "        text-align: right;\n",
       "    }\n",
       "</style>\n",
       "<table border=\"1\" class=\"dataframe\">\n",
       "  <thead>\n",
       "    <tr style=\"text-align: right;\">\n",
       "      <th>Predicted</th>\n",
       "      <th>No</th>\n",
       "      <th>Yes</th>\n",
       "    </tr>\n",
       "    <tr>\n",
       "      <th>Actual</th>\n",
       "      <th></th>\n",
       "      <th></th>\n",
       "    </tr>\n",
       "  </thead>\n",
       "  <tbody>\n",
       "    <tr>\n",
       "      <th>No</th>\n",
       "      <td>780</td>\n",
       "      <td>16</td>\n",
       "    </tr>\n",
       "    <tr>\n",
       "      <th>Yes</th>\n",
       "      <td>197</td>\n",
       "      <td>9</td>\n",
       "    </tr>\n",
       "  </tbody>\n",
       "</table>\n",
       "</div>"
      ],
      "text/plain": [
       "Predicted   No  Yes\n",
       "Actual             \n",
       "No         780   16\n",
       "Yes        197    9"
      ]
     },
     "metadata": {},
     "output_type": "display_data"
    },
    {
     "name": "stdout",
     "output_type": "stream",
     "text": [
      "Classification Report:\n",
      "              precision    recall  f1-score   support\n",
      "\n",
      "           0       0.80      0.98      0.88       796\n",
      "           1       0.36      0.04      0.08       206\n",
      "\n",
      "    accuracy                           0.79      1002\n",
      "   macro avg       0.58      0.51      0.48      1002\n",
      "weighted avg       0.71      0.79      0.71      1002\n",
      "\n"
     ]
    }
   ],
   "source": [
    "print(\"Validation Set Classification Accuracy:\", clftree_2.score(X_val,y_val))\n",
    "\n",
    "# confusion matrix\n",
    "print(\"Confusion Matrix:\")\n",
    "cm_2 = pd.DataFrame(confusion_matrix(y_val, clftree_2.predict(X_val)), index=['No', 'Yes'], columns=['No', 'Yes'])\n",
    "cm_2.index.name = 'Actual'\n",
    "cm_2.columns.name = 'Predicted'\n",
    "display(cm_2)\n",
    "\n",
    "# Classification Report\n",
    "print(\"Classification Report:\")\n",
    "print(classification_report(y_val, clftree_2.predict(X_val)))"
   ]
  },
  {
   "cell_type": "markdown",
   "id": "9e2521da",
   "metadata": {},
   "source": [
    "**❤️<font color='palevioletred'> Compared two models, I perfer the first one to do my test model because it has lower gini number.**"
   ]
  },
  {
   "cell_type": "code",
   "execution_count": 69,
   "id": "7d97b6e5",
   "metadata": {},
   "outputs": [
    {
     "name": "stdout",
     "output_type": "stream",
     "text": [
      "Test Set Classification Accuracy: 0.7918552036199095\n",
      "Confusion Matrix:\n"
     ]
    },
    {
     "data": {
      "text/html": [
       "<div>\n",
       "<style scoped>\n",
       "    .dataframe tbody tr th:only-of-type {\n",
       "        vertical-align: middle;\n",
       "    }\n",
       "\n",
       "    .dataframe tbody tr th {\n",
       "        vertical-align: top;\n",
       "    }\n",
       "\n",
       "    .dataframe thead th {\n",
       "        text-align: right;\n",
       "    }\n",
       "</style>\n",
       "<table border=\"1\" class=\"dataframe\">\n",
       "  <thead>\n",
       "    <tr style=\"text-align: right;\">\n",
       "      <th>Predicted</th>\n",
       "      <th>No</th>\n",
       "      <th>Yes</th>\n",
       "    </tr>\n",
       "    <tr>\n",
       "      <th>Actual</th>\n",
       "      <th></th>\n",
       "      <th></th>\n",
       "    </tr>\n",
       "  </thead>\n",
       "  <tbody>\n",
       "    <tr>\n",
       "      <th>No</th>\n",
       "      <td>691</td>\n",
       "      <td>1</td>\n",
       "    </tr>\n",
       "    <tr>\n",
       "      <th>Yes</th>\n",
       "      <td>183</td>\n",
       "      <td>9</td>\n",
       "    </tr>\n",
       "  </tbody>\n",
       "</table>\n",
       "</div>"
      ],
      "text/plain": [
       "Predicted   No  Yes\n",
       "Actual             \n",
       "No         691    1\n",
       "Yes        183    9"
      ]
     },
     "metadata": {},
     "output_type": "display_data"
    },
    {
     "name": "stdout",
     "output_type": "stream",
     "text": [
      "Classification Report:\n",
      "              precision    recall  f1-score   support\n",
      "\n",
      "           0       0.79      1.00      0.88       692\n",
      "           1       0.90      0.05      0.09       192\n",
      "\n",
      "    accuracy                           0.79       884\n",
      "   macro avg       0.85      0.52      0.49       884\n",
      "weighted avg       0.81      0.79      0.71       884\n",
      "\n"
     ]
    }
   ],
   "source": [
    "\n",
    "print(\"Test Set Classification Accuracy:\", clftree.score(X_test,y_test))\n",
    "\n",
    "print(\"Confusion Matrix:\")\n",
    "cm_final = pd.DataFrame(confusion_matrix(y_test, clftree.predict(X_test)), index=['No', 'Yes'], columns=['No', 'Yes'])\n",
    "cm_final.index.name = 'Actual'\n",
    "cm_final.columns.name = 'Predicted'\n",
    "display(cm_final)\n",
    "\n",
    "print(\"Classification Report:\")\n",
    "print(classification_report(y_test, clftree.predict(X_test)))"
   ]
  },
  {
   "cell_type": "markdown",
   "id": "fa7bd58a",
   "metadata": {},
   "source": [
    "## 4.Regression"
   ]
  },
  {
   "cell_type": "markdown",
   "id": "b9312618",
   "metadata": {},
   "source": [
    "**⚠️Explanation⚠️**\n",
    "> I utilize suicide attempts to run regression to see whether there is a relationship between the factors I chose and the Suicide Frequency."
   ]
  },
  {
   "cell_type": "code",
   "execution_count": 70,
   "id": "6c98131e",
   "metadata": {
    "scrolled": false
   },
   "outputs": [
    {
     "name": "stdout",
     "output_type": "stream",
     "text": [
      "<class 'pandas.core.frame.DataFrame'>\n",
      "Int64Index: 22237 entries, 119074 to 962916\n",
      "Columns: 150 entries, sitecode to qtransgender\n",
      "dtypes: float64(141), int64(6), object(3)\n",
      "memory usage: 25.6+ MB\n"
     ]
    }
   ],
   "source": [
    "dfLGBT3=dfLGBT[['q17','q23','q32','q46','q79','bmipct','q78','q88','q81','q28']]\n",
    "dfLGBT3 = dfLGBT3.dropna()\n",
    "dfLGBT.info()"
   ]
  },
  {
   "cell_type": "markdown",
   "id": "6fa50ddf",
   "metadata": {},
   "source": [
    "### 4.1 Heat Map"
   ]
  },
  {
   "cell_type": "code",
   "execution_count": 71,
   "id": "3a71db7e",
   "metadata": {
    "scrolled": true
   },
   "outputs": [
    {
     "data": {
      "image/png": "[encoded data removed]",
      "text/plain": [
       "<Figure size 792x648 with 2 Axes>"
      ]
     },
     "metadata": {
      "needs_background": "light"
     },
     "output_type": "display_data"
    }
   ],
   "source": [
    "corrmat=dfLGBT3.corr()\n",
    "mask = np.zeros_like(corrmat, dtype=bool)\n",
    "mask[np.triu_indices_from(mask)] = True\n",
    "f, ax = plt.subplots(figsize=(11,9))\n",
    "cmap = sns.diverging_palette(220,10,as_cmap=True)\n",
    "sns.heatmap(corrmat,mask=mask,cmap=cmap,vmax=1,center=0,square=True,annot=True,\n",
    "            linewidth=.5, cbar_kws={'shrink': .5})\n",
    "ax.set_title('HeatMap')\n",
    "plt.savefig('correlation2.png')"
   ]
  },
  {
   "cell_type": "markdown",
   "id": "b9295849",
   "metadata": {},
   "source": [
    "<img src=\"https://cdn.dribbble.com/users/1769954/screenshots/3881945/media/c0fe4807ee4cacea279b5499f0438a99.png\" style = \"float:right; width:150px; height:100px;\">\n",
    "\n",
    "**❤️<font color='palevioletred'>From the heat map, I could see that there is no correlation over 0.7. `Q17`, `Q23`, `Q32`,`Q46`, `Q88` has a high correlation with `Q28`.**"
   ]
  },
  {
   "cell_type": "markdown",
   "id": "b7587912",
   "metadata": {},
   "source": [
    "### 4.2 Mutiple Regression"
   ]
  },
  {
   "cell_type": "code",
   "execution_count": 72,
   "id": "767df088",
   "metadata": {},
   "outputs": [],
   "source": [
    "from sklearn import metrics\n",
    "from sklearn.model_selection import train_test_split"
   ]
  },
  {
   "cell_type": "code",
   "execution_count": 73,
   "id": "f905b206",
   "metadata": {},
   "outputs": [
    {
     "data": {
      "text/plain": [
       "LinearRegression()"
      ]
     },
     "execution_count": 73,
     "metadata": {},
     "output_type": "execute_result"
    }
   ],
   "source": [
    "import sklearn.linear_model as sklm\n",
    "m_reg=sklm.LinearRegression() \n",
    "X_m = dfLGBT3[['q17','q23','q32','q46','q88']]\n",
    "Y_m = dfLGBT3.q28\n",
    "X_train_m, X_test_m, Y_train_m, Y_test_m = train_test_split(X_m, Y_m, test_size=0.8, random_state=42)\n",
    "m_reg.fit(X_train_m, Y_train_m)"
   ]
  },
  {
   "cell_type": "code",
   "execution_count": 74,
   "id": "73fcaa35",
   "metadata": {},
   "outputs": [
    {
     "name": "stdout",
     "output_type": "stream",
     "text": [
      "Intercept: 1.7379004302651198\n"
     ]
    },
    {
     "data": {
      "text/html": [
       "<div>\n",
       "<style scoped>\n",
       "    .dataframe tbody tr th:only-of-type {\n",
       "        vertical-align: middle;\n",
       "    }\n",
       "\n",
       "    .dataframe tbody tr th {\n",
       "        vertical-align: top;\n",
       "    }\n",
       "\n",
       "    .dataframe thead th {\n",
       "        text-align: right;\n",
       "    }\n",
       "</style>\n",
       "<table border=\"1\" class=\"dataframe\">\n",
       "  <thead>\n",
       "    <tr style=\"text-align: right;\">\n",
       "      <th></th>\n",
       "      <th>Coefficient</th>\n",
       "    </tr>\n",
       "  </thead>\n",
       "  <tbody>\n",
       "    <tr>\n",
       "      <th>q17</th>\n",
       "      <td>0.111281</td>\n",
       "    </tr>\n",
       "    <tr>\n",
       "      <th>q23</th>\n",
       "      <td>-0.334104</td>\n",
       "    </tr>\n",
       "    <tr>\n",
       "      <th>q32</th>\n",
       "      <td>0.058547</td>\n",
       "    </tr>\n",
       "    <tr>\n",
       "      <th>q46</th>\n",
       "      <td>0.032049</td>\n",
       "    </tr>\n",
       "    <tr>\n",
       "      <th>q88</th>\n",
       "      <td>-0.045856</td>\n",
       "    </tr>\n",
       "  </tbody>\n",
       "</table>\n",
       "</div>"
      ],
      "text/plain": [
       "     Coefficient\n",
       "q17     0.111281\n",
       "q23    -0.334104\n",
       "q32     0.058547\n",
       "q46     0.032049\n",
       "q88    -0.045856"
      ]
     },
     "execution_count": 74,
     "metadata": {},
     "output_type": "execute_result"
    }
   ],
   "source": [
    "print('Intercept:', m_reg.intercept_)\n",
    "coeff_df = pd.DataFrame(m_reg.coef_, X_m.columns, columns=['Coefficient'])\n",
    "coeff_df"
   ]
  },
  {
   "cell_type": "code",
   "execution_count": 75,
   "id": "480bb17d",
   "metadata": {},
   "outputs": [
    {
     "data": {
      "text/html": [
       "<div>\n",
       "<style scoped>\n",
       "    .dataframe tbody tr th:only-of-type {\n",
       "        vertical-align: middle;\n",
       "    }\n",
       "\n",
       "    .dataframe tbody tr th {\n",
       "        vertical-align: top;\n",
       "    }\n",
       "\n",
       "    .dataframe thead th {\n",
       "        text-align: right;\n",
       "    }\n",
       "</style>\n",
       "<table border=\"1\" class=\"dataframe\">\n",
       "  <thead>\n",
       "    <tr style=\"text-align: right;\">\n",
       "      <th></th>\n",
       "      <th>Actual</th>\n",
       "      <th>Predicted</th>\n",
       "    </tr>\n",
       "  </thead>\n",
       "  <tbody>\n",
       "    <tr>\n",
       "      <th>910615</th>\n",
       "      <td>1.0</td>\n",
       "      <td>1.216342</td>\n",
       "    </tr>\n",
       "    <tr>\n",
       "      <th>379945</th>\n",
       "      <td>1.0</td>\n",
       "      <td>1.042288</td>\n",
       "    </tr>\n",
       "    <tr>\n",
       "      <th>380588</th>\n",
       "      <td>1.0</td>\n",
       "      <td>1.330537</td>\n",
       "    </tr>\n",
       "    <tr>\n",
       "      <th>916935</th>\n",
       "      <td>1.0</td>\n",
       "      <td>1.211906</td>\n",
       "    </tr>\n",
       "    <tr>\n",
       "      <th>408501</th>\n",
       "      <td>1.0</td>\n",
       "      <td>1.088144</td>\n",
       "    </tr>\n",
       "    <tr>\n",
       "      <th>...</th>\n",
       "      <td>...</td>\n",
       "      <td>...</td>\n",
       "    </tr>\n",
       "    <tr>\n",
       "      <th>911297</th>\n",
       "      <td>1.0</td>\n",
       "      <td>0.996432</td>\n",
       "    </tr>\n",
       "    <tr>\n",
       "      <th>943833</th>\n",
       "      <td>1.0</td>\n",
       "      <td>1.179857</td>\n",
       "    </tr>\n",
       "    <tr>\n",
       "      <th>947206</th>\n",
       "      <td>1.0</td>\n",
       "      <td>1.731638</td>\n",
       "    </tr>\n",
       "    <tr>\n",
       "      <th>326522</th>\n",
       "      <td>1.0</td>\n",
       "      <td>1.151127</td>\n",
       "    </tr>\n",
       "    <tr>\n",
       "      <th>429001</th>\n",
       "      <td>1.0</td>\n",
       "      <td>1.088144</td>\n",
       "    </tr>\n",
       "  </tbody>\n",
       "</table>\n",
       "<p>3896 rows × 2 columns</p>\n",
       "</div>"
      ],
      "text/plain": [
       "        Actual  Predicted\n",
       "910615     1.0   1.216342\n",
       "379945     1.0   1.042288\n",
       "380588     1.0   1.330537\n",
       "916935     1.0   1.211906\n",
       "408501     1.0   1.088144\n",
       "...        ...        ...\n",
       "911297     1.0   0.996432\n",
       "943833     1.0   1.179857\n",
       "947206     1.0   1.731638\n",
       "326522     1.0   1.151127\n",
       "429001     1.0   1.088144\n",
       "\n",
       "[3896 rows x 2 columns]"
      ]
     },
     "execution_count": 75,
     "metadata": {},
     "output_type": "execute_result"
    }
   ],
   "source": [
    "Y_predict_m = m_reg.predict(X_test_m)\n",
    "\n",
    "# compare actual values with the predicted\n",
    "df_m = pd.DataFrame({'Actual': Y_test_m, 'Predicted': Y_predict_m})\n",
    "df_m"
   ]
  },
  {
   "cell_type": "code",
   "execution_count": 76,
   "id": "1aaf9f3b",
   "metadata": {
    "scrolled": false
   },
   "outputs": [
    {
     "name": "stdout",
     "output_type": "stream",
     "text": [
      "Mean Absolute Error: 0.5300251381143998\n",
      "Mean Squared Error (MSE): 0.5969135483419071\n",
      "Root Mean Squared Error: 0.7726018045163415\n",
      "R-Squared: 0.12270962654531015\n"
     ]
    }
   ],
   "source": [
    "print('Mean Absolute Error:', metrics.mean_absolute_error(Y_test_m, Y_predict_m))\n",
    "print('Mean Squared Error (MSE):', metrics.mean_squared_error(Y_test_m, Y_predict_m))\n",
    "print('Root Mean Squared Error:', np.sqrt(metrics.mean_squared_error(Y_test_m, Y_predict_m)))\n",
    "print(\"R-Squared:\", metrics.r2_score(Y_test_m, Y_predict_m))"
   ]
  },
  {
   "cell_type": "markdown",
   "id": "c68c38a9",
   "metadata": {},
   "source": [
    "<img src=\"https://cdn.dribbble.com/users/1769954/screenshots/3881945/media/c0fe4807ee4cacea279b5499f0438a99.png\" style = \"float:right; width:150px; height:100px;\">\n",
    "\n",
    "**❤️<font color='palevioletred'> I can see that r suquare is quite low; it's possible that the factors I chose have a slight effect on suicide frequency, but this isn't well explained.**"
   ]
  },
  {
   "cell_type": "markdown",
   "id": "c2baef16",
   "metadata": {},
   "source": [
    "# 5. Summary"
   ]
  },
  {
   "cell_type": "markdown",
   "id": "470f9d4b",
   "metadata": {},
   "source": [
    "<img src=\"https://media.istockphoto.com/illustrations/two-young-men-holding-rainbow-flags-lgbt-parade-concept-clipart-illustration-id1205753703?k=20&m=1205753703&s=612x612&w=0&h=6t7ezY1-_5XbsIPUbgvZr6fxaV-1EJeEtRfIovThG4A=\" style = \"float:left; width:250px; height:200px;\">\n",
    "\n",
    "\n",
    "💑**<font color='grey'>Q17, Q23, Q32, Q46, Q88 have a high association with Q28 in terms of suicide attempt percentage and suicide attempt frequency. `Physical fighting`, `bullying at school`, `current cigarette usage`, `previous marijuana use`, and `sleep` are all factors.**\n",
    "\n",
    "**<font color='palevioletred'>That is something that should be taken into consideration.**💑"
   ]
  },
  {
   "cell_type": "markdown",
   "id": "cac37d3e",
   "metadata": {},
   "source": [
    "### 5.1 Physical Fighting"
   ]
  },
  {
   "cell_type": "code",
   "execution_count": 77,
   "id": "e873b7d5",
   "metadata": {
    "scrolled": true
   },
   "outputs": [],
   "source": [
    "i=df[['q17','sex']]\n",
    "i=i.dropna()\n",
    "i1 = i.loc[i['sex'] == 1]# sex1 is female\n",
    "i2 = i.loc[i['sex'] == 2]# sex2 is male"
   ]
  },
  {
   "cell_type": "code",
   "execution_count": 78,
   "id": "58c1053a",
   "metadata": {},
   "outputs": [
    {
     "data": {
      "text/plain": [
       "1.4424357214709818"
      ]
     },
     "execution_count": 78,
     "metadata": {},
     "output_type": "execute_result"
    }
   ],
   "source": [
    "i1.q17.mean()"
   ]
  },
  {
   "cell_type": "code",
   "execution_count": 79,
   "id": "d0015b3c",
   "metadata": {},
   "outputs": [
    {
     "data": {
      "text/plain": [
       "1.8562963645578952"
      ]
     },
     "execution_count": 79,
     "metadata": {},
     "output_type": "execute_result"
    }
   ],
   "source": [
    "i2.q17.mean()"
   ]
  },
  {
   "cell_type": "code",
   "execution_count": 80,
   "id": "ef2c248e",
   "metadata": {},
   "outputs": [
    {
     "data": {
      "text/html": [
       "<div>\n",
       "<style scoped>\n",
       "    .dataframe tbody tr th:only-of-type {\n",
       "        vertical-align: middle;\n",
       "    }\n",
       "\n",
       "    .dataframe tbody tr th {\n",
       "        vertical-align: top;\n",
       "    }\n",
       "\n",
       "    .dataframe thead th {\n",
       "        text-align: right;\n",
       "    }\n",
       "</style>\n",
       "<table border=\"1\" class=\"dataframe\">\n",
       "  <thead>\n",
       "    <tr style=\"text-align: right;\">\n",
       "      <th></th>\n",
       "      <th>female</th>\n",
       "      <th>male</th>\n",
       "    </tr>\n",
       "  </thead>\n",
       "  <tbody>\n",
       "    <tr>\n",
       "      <th>mean</th>\n",
       "      <td>1.44</td>\n",
       "      <td>1.85</td>\n",
       "    </tr>\n",
       "  </tbody>\n",
       "</table>\n",
       "</div>"
      ],
      "text/plain": [
       "      female  male\n",
       "mean    1.44  1.85"
      ]
     },
     "execution_count": 80,
     "metadata": {},
     "output_type": "execute_result"
    }
   ],
   "source": [
    "male = [1.85]\n",
    "female = [1.44]\n",
    "index = ['mean']\n",
    "r = pd.DataFrame({'female': female,\n",
    "                   'male': male}, index=index)\n",
    "r"
   ]
  },
  {
   "cell_type": "code",
   "execution_count": 81,
   "id": "a8ef8eb6",
   "metadata": {},
   "outputs": [
    {
     "data": {
      "image/png": "[encoded data removed]",
      "text/plain": [
       "<Figure size 432x360 with 1 Axes>"
      ]
     },
     "metadata": {
      "needs_background": "light"
     },
     "output_type": "display_data"
    }
   ],
   "source": [
    "ax = r.plot.bar(rot = 0,color=['salmon','yellowgreen'],figsize=(6,5))\n",
    "plt.legend(loc=0);\n",
    "for container in ax.containers:\n",
    "    ax.bar_label(container)"
   ]
  },
  {
   "cell_type": "markdown",
   "id": "ca17adf6",
   "metadata": {},
   "source": [
    "💑**<font color='palevioletred'>This to see that male has a higher Pysical Fighting than female.**"
   ]
  },
  {
   "cell_type": "code",
   "execution_count": 82,
   "id": "c4ef5578",
   "metadata": {},
   "outputs": [
    {
     "data": {
      "text/plain": [
       "1.5097614177361838"
      ]
     },
     "execution_count": 82,
     "metadata": {},
     "output_type": "execute_result"
    }
   ],
   "source": [
    "dfstraight.sex.mean()"
   ]
  },
  {
   "cell_type": "code",
   "execution_count": 83,
   "id": "3d255e98",
   "metadata": {},
   "outputs": [
    {
     "data": {
      "text/plain": [
       "1.3011068754879898"
      ]
     },
     "execution_count": 83,
     "metadata": {},
     "output_type": "execute_result"
    }
   ],
   "source": [
    "dfLGBT.sex.mean()"
   ]
  },
  {
   "cell_type": "code",
   "execution_count": 84,
   "id": "21818539",
   "metadata": {},
   "outputs": [
    {
     "data": {
      "text/plain": [
       "1.4362539647980366"
      ]
     },
     "execution_count": 84,
     "metadata": {},
     "output_type": "execute_result"
    }
   ],
   "source": [
    "dfstraight.q17.mean()"
   ]
  },
  {
   "cell_type": "code",
   "execution_count": 85,
   "id": "a14abac6",
   "metadata": {},
   "outputs": [
    {
     "data": {
      "text/plain": [
       "1.7676359039190899"
      ]
     },
     "execution_count": 85,
     "metadata": {},
     "output_type": "execute_result"
    }
   ],
   "source": [
    "dfLGBT.q17.mean()"
   ]
  },
  {
   "cell_type": "code",
   "execution_count": 86,
   "id": "eb4bb1f0",
   "metadata": {},
   "outputs": [
    {
     "data": {
      "text/html": [
       "<div>\n",
       "<style scoped>\n",
       "    .dataframe tbody tr th:only-of-type {\n",
       "        vertical-align: middle;\n",
       "    }\n",
       "\n",
       "    .dataframe tbody tr th {\n",
       "        vertical-align: top;\n",
       "    }\n",
       "\n",
       "    .dataframe thead th {\n",
       "        text-align: right;\n",
       "    }\n",
       "</style>\n",
       "<table border=\"1\" class=\"dataframe\">\n",
       "  <thead>\n",
       "    <tr style=\"text-align: right;\">\n",
       "      <th></th>\n",
       "      <th>Heterosexual</th>\n",
       "      <th>LGBT</th>\n",
       "    </tr>\n",
       "  </thead>\n",
       "  <tbody>\n",
       "    <tr>\n",
       "      <th>sex</th>\n",
       "      <td>1.50</td>\n",
       "      <td>1.30</td>\n",
       "    </tr>\n",
       "    <tr>\n",
       "      <th>q17</th>\n",
       "      <td>1.44</td>\n",
       "      <td>1.77</td>\n",
       "    </tr>\n",
       "  </tbody>\n",
       "</table>\n",
       "</div>"
      ],
      "text/plain": [
       "     Heterosexual  LGBT\n",
       "sex          1.50  1.30\n",
       "q17          1.44  1.77"
      ]
     },
     "execution_count": 86,
     "metadata": {},
     "output_type": "execute_result"
    }
   ],
   "source": [
    "Heterosexual = [1.5,1.44]\n",
    "LGBT = [1.3,1.77]\n",
    "index = ['sex','q17']\n",
    "p = pd.DataFrame({'Heterosexual': Heterosexual,\n",
    "                   'LGBT': LGBT}, index=index)\n",
    "p"
   ]
  },
  {
   "cell_type": "code",
   "execution_count": 87,
   "id": "22c9b46e",
   "metadata": {
    "scrolled": true
   },
   "outputs": [
    {
     "data": {
      "image/png": "[encoded data removed]",
      "text/plain": [
       "<Figure size 432x360 with 1 Axes>"
      ]
     },
     "metadata": {
      "needs_background": "light"
     },
     "output_type": "display_data"
    }
   ],
   "source": [
    "ax = p.plot.bar(rot = 0,color=['pink','skyblue'],figsize=(6,5))\n",
    "plt.ylabel('%')\n",
    "plt.xlabel('Identity')\n",
    "plt.legend(loc=0);\n",
    "for container in ax.containers:\n",
    "    ax.bar_label(container)"
   ]
  },
  {
   "cell_type": "code",
   "execution_count": 88,
   "id": "413614fe",
   "metadata": {},
   "outputs": [
    {
     "data": {
      "text/plain": [
       "0.5423666235923943"
      ]
     },
     "execution_count": 88,
     "metadata": {},
     "output_type": "execute_result"
    }
   ],
   "source": [
    "dfe = dfLGBT[['q17','q23']]\n",
    "dfe = dfe.dropna()\n",
    "dfe['q17'] = np.where(dfe['q17'] > 1, 1, 0)\n",
    "dfe['q23'] = np.where(dfe['q23'] > 1, 1, 0)\n",
    "dfe = dfe.loc[dfe['q17'] == 1]\n",
    "sum(dfe['q23'] == 1)/sum(dfe['q17'])"
   ]
  },
  {
   "cell_type": "code",
   "execution_count": 89,
   "id": "4498858f",
   "metadata": {},
   "outputs": [
    {
     "ename": "NameError",
     "evalue": "name 'dfm' is not defined",
     "output_type": "error",
     "traceback": [
      "\u001b[1;31m---------------------------------------------------------------------------\u001b[0m",
      "\u001b[1;31mNameError\u001b[0m                                 Traceback (most recent call last)",
      "\u001b[1;32m~\\AppData\\Local\\Temp/ipykernel_2516/2125425631.py\u001b[0m in \u001b[0;36m<module>\u001b[1;34m\u001b[0m\n\u001b[0;32m      1\u001b[0m \u001b[0mdfg\u001b[0m \u001b[1;33m=\u001b[0m \u001b[0mdfe\u001b[0m\u001b[1;33m.\u001b[0m\u001b[0mloc\u001b[0m\u001b[1;33m[\u001b[0m\u001b[0mdfe\u001b[0m\u001b[1;33m[\u001b[0m\u001b[1;34m'q23'\u001b[0m\u001b[1;33m]\u001b[0m \u001b[1;33m==\u001b[0m \u001b[1;36m2\u001b[0m\u001b[1;33m]\u001b[0m\u001b[1;33m\u001b[0m\u001b[1;33m\u001b[0m\u001b[0m\n\u001b[1;32m----> 2\u001b[1;33m \u001b[0msum\u001b[0m\u001b[1;33m(\u001b[0m\u001b[0mdfm\u001b[0m\u001b[1;33m[\u001b[0m\u001b[1;34m'qbullygay'\u001b[0m\u001b[1;33m]\u001b[0m \u001b[1;33m==\u001b[0m \u001b[1;36m1\u001b[0m\u001b[1;33m)\u001b[0m\u001b[1;33m/\u001b[0m\u001b[0msum\u001b[0m\u001b[1;33m(\u001b[0m\u001b[0mdfm\u001b[0m\u001b[1;33m[\u001b[0m\u001b[1;34m'qbullygay'\u001b[0m\u001b[1;33m]\u001b[0m\u001b[1;33m)\u001b[0m\u001b[1;33m\u001b[0m\u001b[1;33m\u001b[0m\u001b[0m\n\u001b[0m",
      "\u001b[1;31mNameError\u001b[0m: name 'dfm' is not defined"
     ]
    }
   ],
   "source": [
    "dfg = dfe.loc[dfe['q23'] == 2]\n",
    "sum(dfm['qbullygay'] == 1)/sum(dfm['qbullygay'])"
   ]
  },
  {
   "cell_type": "markdown",
   "id": "b44aefe6",
   "metadata": {},
   "source": [
    "<img src=\"https://cdn.dribbble.com/users/1769954/screenshots/3881945/media/c0fe4807ee4cacea279b5499f0438a99.png\" style = \"float:right; width:200px; height:150px;\">\n",
    "\n",
    "**❤️<font color='palevioletred'>To be hoest, I was think of the high pyscial fighting may be cause be sex biased because boys tend to involved in a pysical fighting than girls. However, this case is having more female in LGBT group but tend to involve pysical fighting more frequently.**\n",
    "\n",
    "**<font color='metalblue'>There could be some reason that they felt discriminted and fight it but still need further study. Other document will support it, and I will explain on Powerpoint.**"
   ]
  },
  {
   "cell_type": "markdown",
   "id": "cf661169",
   "metadata": {},
   "source": [
    "### 5.2  Bullying at School"
   ]
  },
  {
   "cell_type": "markdown",
   "id": "3c347665",
   "metadata": {},
   "source": [
    "**⚠️Explanation⚠️**\n",
    "> There is one variable which is `qnbullygay`, and I did not use it because it has over 20k data missing which really affects my other variables usage and classfication analysis. However, I intend to take it alone to analyze."
   ]
  },
  {
   "cell_type": "code",
   "execution_count": null,
   "id": "471bcc2f",
   "metadata": {},
   "outputs": [],
   "source": [
    "dfm = dfLGBT[['q23','qbullygay']]\n",
    "dfm = dfm.dropna()"
   ]
  },
  {
   "cell_type": "code",
   "execution_count": null,
   "id": "7b0dfc30",
   "metadata": {},
   "outputs": [],
   "source": [
    "dfg = dfm.loc[dfm['q23'] == 2]\n",
    "sum(dfm['qbullygay'] == 1)/sum(dfm['qbullygay'])"
   ]
  },
  {
   "cell_type": "markdown",
   "id": "53ac7cc8",
   "metadata": {},
   "source": [
    "**❤️<font color='palevioletred'>According to research, 26 percent of LGBT students who report being bullied at school are bullied because of their sexual orientation, which might be avoided.**"
   ]
  },
  {
   "cell_type": "markdown",
   "id": "2fb43b06",
   "metadata": {},
   "source": [
    "### 5.3 Current Cigarette Usage"
   ]
  },
  {
   "cell_type": "markdown",
   "id": "f95db1ea",
   "metadata": {},
   "source": [
    "**⚠️Explanation⚠️**\n",
    "> There is one variable which is `qcigschool`, and it is variable about smoking at school times over 30 days."
   ]
  },
  {
   "cell_type": "code",
   "execution_count": null,
   "id": "a184086b",
   "metadata": {
    "scrolled": true
   },
   "outputs": [],
   "source": [
    "dfc = dfLGBT[['q32','qcigschool']]\n",
    "dfc = dfc.dropna()\n",
    "dfc = dfc.loc[dfc['q32'] > 1]# just to select q32>1 which is LGBT has cigratte over last month.\n",
    "dfd = dfc.loc[dfc['qcigschool'] > 1]# just to select LGBT who has cigratte at school over last month in the cigarte before case\n",
    "dfd.qcigschool.count()/dfc.q32.count()"
   ]
  },
  {
   "cell_type": "markdown",
   "id": "3dc9737e",
   "metadata": {},
   "source": [
    "**❤️<font color='palevioletred'>According to surveys, 41% of LGBT students who had smoked a cigarette earlier also smoked in school.**\n",
    "    \n",
    "**❤️<font color='palevioletred'> Similarly, we cannot argue that their high suicide attempts are due to smoking, and that their high smoking may be caused by LGBT discrimination.**\n",
    "   \n",
    "**🥰<font color='palevioletred'> At least, students that smoke frequently at school should be given special attention by their teachers.**"
   ]
  },
  {
   "cell_type": "markdown",
   "id": "64ebaf2e",
   "metadata": {},
   "source": [
    "### 5.4 Previous Marijuana"
   ]
  },
  {
   "cell_type": "markdown",
   "id": "dc33cc6c",
   "metadata": {},
   "source": [
    "<img src=\"https://i.pinimg.com/originals/37/ed/c6/37edc62f62e81166e47ffa9ef7223016.png\" style = \"float:right; width:250px; height:250px;\">\n",
    "\n",
    "**⚠️Explanation⚠️**\n",
    "\n",
    "> High previsou Marijuana may be caused by bad mood. I use`qmarijuanaschool`which is the marijuana use in 30 days and compare with bad mood in `all sexual identity` and concludes that bad mood has a good relationship with marijuana use. \n",
    ">\n",
    ">Before, I know that LGBT tend to have bad mood, and maybe that is their reason of high marijuana previous use."
   ]
  },
  {
   "cell_type": "code",
   "execution_count": null,
   "id": "155aaeb5",
   "metadata": {},
   "outputs": [],
   "source": [
    "dfz = dfLGBT[['q46']]\n",
    "dfz['q46'] = np.where(dfz['q46'] > 1, 1, 0)\n",
    "dfz.q46.value_counts().plot.pie(labels=['previous not', 'use'], colors=['palevioletred', 'steelblue'],\n",
    "                                autopct='%.2f', fontsize=12, figsize=(5, 5));\n",
    "plt.title('Previous Marijuana')\n",
    "plt.axis('off');       "
   ]
  },
  {
   "cell_type": "code",
   "execution_count": null,
   "id": "98593943",
   "metadata": {},
   "outputs": [],
   "source": [
    "dfo = df[['q25','qmarijuanaschool']]\n",
    "dfo = dfo.dropna()\n",
    "dfo['qmarijuanaschool'] = np.where(dfo['qmarijuanaschool'] > 1, 1, 0)\n",
    "dfo = dfo.loc[dfo['q25']==1]\n",
    "dfo.qmarijuanaschool.value_counts().plot.pie(labels=['not use', 'use'], colors=['orange', 'green'],\n",
    "                 autopct='%.2f', fontsize=12, figsize=(5, 5));\n",
    "plt.title('Bad mood try')\n",
    "plt.axis('off');"
   ]
  },
  {
   "cell_type": "code",
   "execution_count": null,
   "id": "3dd1121f",
   "metadata": {},
   "outputs": [],
   "source": [
    "df5 = df[['q25','qmarijuanaschool']]\n",
    "df5 = df5.dropna()\n",
    "df5['qmarijuanaschool'] = np.where(df5['qmarijuanaschool'] > 1, 1, 0)\n",
    "df5 = df5.loc[df5['q25']==2]\n",
    "df5.qmarijuanaschool.value_counts().plot.pie(labels=['not use', 'use'], colors=['orange', 'green'],\n",
    "                 autopct='%.2f', fontsize=12, figsize=(5, 5));\n",
    "plt.title('Not Bad mood try')\n",
    "plt.axis('off');"
   ]
  },
  {
   "cell_type": "code",
   "execution_count": null,
   "id": "c9209260",
   "metadata": {},
   "outputs": [],
   "source": [
    "dfv = df[['q25','qmarijuanaschool']]\n",
    "dfv = dfv.dropna()\n",
    "dfv['q25'] = np.where(dfv['q25'] == 1, 'sad', 'no')\n",
    "dfv['qmarijuanaschool'] = np.where(dfv['qmarijuanaschool'] > 1, 'previous use', 'no use')\n",
    "dfv.groupby(['q25','qmarijuanaschool']).qmarijuanaschool.count()"
   ]
  },
  {
   "cell_type": "markdown",
   "id": "f15ae31e",
   "metadata": {},
   "source": [
    "   \n",
    "**🥰<font color='palevioletred'> The majority of LGBT people come into contact with marijuana via a joint, bong, pipe, or blunt. And they more likely to try marijuana. Since people with bad mood tend to try marijuana. May be it is the reason they try marijuana. Controlling youth marijuana problem is important since it can lead to addiction, which is harmful to their mental health.**"
   ]
  },
  {
   "cell_type": "markdown",
   "id": "470fe170",
   "metadata": {},
   "source": [
    "### 5.5 Sleep"
   ]
  },
  {
   "cell_type": "code",
   "execution_count": null,
   "id": "5de1daf4",
   "metadata": {},
   "outputs": [],
   "source": [
    "dfb = dfLGBT[['q88']]\n",
    "dfb = dfb.dropna()\n",
    "dfb['q88'] = np.where(dfb['q88'] > 4, 1, 0)# It is over 4 is 8hour sleep\n",
    "dfb.q88.value_counts().plot.pie(labels=['not well', 'well'], colors=['pink', 'skyblue'],\n",
    "                 autopct='%.2f', fontsize=12, figsize=(5, 5));\n",
    "plt.title('Sleep over 8 Hours-LGBT')\n",
    "plt.axis('off');"
   ]
  },
  {
   "cell_type": "code",
   "execution_count": null,
   "id": "fc4512fc",
   "metadata": {},
   "outputs": [],
   "source": [
    "dfh = dfstraight[['q88']]\n",
    "dfh = dfh.dropna()\n",
    "dfh['q88'] = np.where(dfh['q88'] > 4, 1, 0)\n",
    "dfh.q88.value_counts().plot.pie(labels=['not well', ' well'], colors=['pink', 'lightblue'],\n",
    "                 autopct='%.2f', fontsize=12, figsize=(5, 5));\n",
    "plt.title('Sleep over 8 Hours-Straight')\n",
    "plt.axis('off');"
   ]
  },
  {
   "cell_type": "markdown",
   "id": "c0aa4e06",
   "metadata": {},
   "source": [
    "`https://www.clinicalkey.com/#!/content/playContent/1-s2.0-S2352721819300270?scrollTo=%23hl0000576`.\n",
    "\n",
    "**🤕<font color='palevioletred'> Other document and data shows the LGBT has fewer sleep time than normal people🤕**\n"
   ]
  },
  {
   "cell_type": "markdown",
   "id": "ffc73fa4",
   "metadata": {},
   "source": [
    "### 😺<font color='green'>We should listen to LGBT voices and give them greater attention to their sleeping habits, bullying issues, marijuana use, and smoking habits. To help them, there would be more mental health doctors.😺"
   ]
  },
  {
   "cell_type": "markdown",
   "id": "3103d2ad",
   "metadata": {},
   "source": [
    "<img src=\"https://images.squarespace-cdn.com/content/v1/5bf9e8ac5ffd203cac13edbc/1590971672216-JUUMW7XB3GLX78LWJYWU/IMG_3396.jpeg\" style = \"float:center; width:1000px; height:400px;\">"
   ]
  }
 ],
 "metadata": {
  "kernelspec": {
   "display_name": "Python 3 (ipykernel)",
   "language": "python",
   "name": "python3"
  },
  "language_info": {
   "codemirror_mode": {
    "name": "ipython",
    "version": 3
   },
   "file_extension": ".py",
   "mimetype": "text/x-python",
   "name": "python",
   "nbconvert_exporter": "python",
   "pygments_lexer": "ipython3",
   "version": "3.9.7"
  }
 },
 "nbformat": 4,
 "nbformat_minor": 5
}
