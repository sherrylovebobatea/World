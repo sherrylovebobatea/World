{
 "cells": [
  {
   "cell_type": "markdown",
   "metadata": {},
   "source": [
    "## BMIS-2542: Data Programming Essentials with Python\n",
    "##### Katz Graduate School of Business, Spring 2022\n",
    "\n",
    "## Session 1 - Practice Exercises"
   ]
  },
  {
   "cell_type": "markdown",
   "metadata": {},
   "source": [
    "**Q1. Sales Prediction**<br>\n",
    "A company has determined that is annual profit is typically 23 percent of total sales. Write a program that asks the user to enter the projected amount of total sales, then displays the profit that will be made from that amount."
   ]
  },
  {
   "cell_type": "code",
   "execution_count": 2,
   "metadata": {},
   "outputs": [
    {
     "name": "stdout",
     "output_type": "stream",
     "text": [
      "Projected amount of total sales is 324\n",
      "Profit will be made from that amount is 74.52000000000001\n"
     ]
    }
   ],
   "source": [
    "n =float(input('Projected amount of total sales is '))\n",
    "print('Profit will be made from that amount is {0}'.format(0.23*n))"
   ]
  },
  {
   "cell_type": "markdown",
   "metadata": {},
   "source": [
    "**Q2. Celsius to Fahrenheit Temperature Converter** <br>\n",
    "Write a program that converts Celsius temperatures to Fahrenheit temperatures. The formula is as follows:$$F = \\frac{9}{5}C + 32$$\n",
    "The program should ask the user to enter a temperature in Celsius, then display the temperature converted to Fahrenheit."
   ]
  },
  {
   "cell_type": "code",
   "execution_count": 3,
   "metadata": {},
   "outputs": [
    {
     "name": "stdout",
     "output_type": "stream",
     "text": [
      "enter a temperature in Ceisius 23.6\n",
      "The temperature in Fahrenheit is 74.48\n"
     ]
    }
   ],
   "source": [
    "c= float(input('enter a temperature in Ceisius '))\n",
    "print('The temperature in Fahrenheit is {0}'.format((9/5)*c+32))"
   ]
  },
  {
   "cell_type": "markdown",
   "metadata": {},
   "source": [
    "**Q3. Ingredient Adjuster**<br>\n",
    "A cookie recipie calls for the following ingredients.\n",
    "- 1.5 cups sugar\n",
    "- 1 cup butter\n",
    "- 2.75 cups of flour\n",
    "\n",
    "The recipie produces 48 cookies with this amount of ingredients.<br>\n",
    "Write a program that asks the user how many cookies he or she wants to make, then displays the number of cups of each ingredient needed for the specified number of cookies."
   ]
  },
  {
   "cell_type": "code",
   "execution_count": 2,
   "metadata": {},
   "outputs": [
    {
     "name": "stdout",
     "output_type": "stream",
     "text": [
      "How many cookies you need?48\n",
      "You will need 1.5 cups of sugar,1.0 cups of butter, 2.75 cups of flour to make 48 cookies\n"
     ]
    }
   ],
   "source": [
    "# how many cookies-ask the user\n",
    "# priint how much we need from each ingredient\n",
    "\n",
    "n = int(input('How many cookies you need?'))\n",
    "batches =n/48\n",
    "\n",
    "sugar_per_batch = 1.5\n",
    "butter_per_batch = 1\n",
    "flour_per_batch = 2.75\n",
    "\n",
    "print ('You will need {0} cups of sugar,{1} cups of butter, {2} cups of flour to make {3} cookies'.format(1.5*batches, 1*batches, 2.75*batches,str(n)))"
   ]
  },
  {
   "cell_type": "markdown",
   "metadata": {},
   "source": [
    "**Q4. Stock Transaction Program** <br>\n",
    "Last month, Joe purchased some stock in Acme Software, Inc. Here are the details of the purchase.\n",
    " - The number of shares that Joe purchased was 2,000\n",
    " - When Joe purchased the stock, he paid $40.00 per share.\n",
    " - Joe paid his stockbroker a commission that amounted to 3 percent of the amount he paid for the stock\n",
    "\n",
    "Two weeks later, Joe sold the stock. Here are the details of the sale:\n",
    "- The number of shares that Joe sold was 2,000\n",
    "- He sold the stock for $42.75 per share\n",
    "- He paid his stockbroker another commisson that amonted to 3 percent of the amount he recived for the stock.\n",
    "\n",
    "Write a program that displays the following information:\n",
    "1. The amount of money Joe paid for the stock\n",
    "2. The amount of commission Joe paid his broker when he bought the stock\n",
    "3. The amount for which Joe sold the stock\n",
    "4. The amount of commission Joe paid his broker when he sold the stock\n",
    "5. Display the amount of money that Joe had left when he sold the stock and paid his broker (both times). If this amount is positive, then Joe made a profit. If the amount is negative, then Joe lost money. "
   ]
  },
  {
   "cell_type": "code",
   "execution_count": 15,
   "metadata": {},
   "outputs": [
    {
     "name": "stdout",
     "output_type": "stream",
     "text": [
      "The amount of money Joe paid for the stock is $ 80000\n"
     ]
    }
   ],
   "source": [
    "share_purchase_unit = 2000\n",
    "cost_per_unit = 40\n",
    "commission_cost =.03*cost_per_unit\n",
    "share_sold_unit =2000\n",
    "price_per_unit = 42.75\n",
    "commission_sell =.03*price_per_unit\n",
    "#m= the amount of money Joe paid for the stock\n",
    "m= share_purchase_unit*cost_per_unit\n",
    "print('The amount of money Joe paid for the stock is $',m)"
   ]
  },
  {
   "cell_type": "code",
   "execution_count": 16,
   "metadata": {},
   "outputs": [
    {
     "name": "stdout",
     "output_type": "stream",
     "text": [
      "The amount of commission Joe paid his broker when he bought the stock is $ 2400.0\n"
     ]
    }
   ],
   "source": [
    "#n= the amount of commission Joe paid his broker when he bought the stock\n",
    "n= share_purchase_unit*commission_cost\n",
    "print('The amount of commission Joe paid his broker when he bought the stock is $',n)"
   ]
  },
  {
   "cell_type": "code",
   "execution_count": 17,
   "metadata": {},
   "outputs": [
    {
     "name": "stdout",
     "output_type": "stream",
     "text": [
      "The amount for which Joe sold the stock is $ 85500.0\n"
     ]
    }
   ],
   "source": [
    "#o= the amount for which Joe sold the stock\n",
    "o= share_sold_unit*price_per_unit\n",
    "print('The amount for which Joe sold the stock is $',o)"
   ]
  },
  {
   "cell_type": "code",
   "execution_count": 18,
   "metadata": {},
   "outputs": [
    {
     "name": "stdout",
     "output_type": "stream",
     "text": [
      "The amount of commission Joe paid his broker when he sold the stock is $ 2565.0\n"
     ]
    }
   ],
   "source": [
    "#p= the amount of commission Joe paid his broker when he sold the stock\n",
    "p= share_sold_unit*commission_sell\n",
    "print('The amount of commission Joe paid his broker when he sold the stock is $',p)"
   ]
  },
  {
   "cell_type": "code",
   "execution_count": 25,
   "metadata": {},
   "outputs": [
    {
     "name": "stdout",
     "output_type": "stream",
     "text": [
      "The amount of money that Joe had left when he sold the stock and paid his broker is $ 535.0\n",
      "Joe made a profit.\n"
     ]
    }
   ],
   "source": [
    "#q= the amount of money that Joe had left when he sold the stock and paid his broker\n",
    "q=o-p-n-m\n",
    "print('The amount of money that Joe had left when he sold the stock and paid his broker is $',q)\n",
    "if q>0:\n",
    "   print('Joe made a profit.')\n",
    "if q<0:\n",
    "   print('Joe lost money.')"
   ]
  },
  {
   "cell_type": "code",
   "execution_count": null,
   "metadata": {},
   "outputs": [],
   "source": []
  }
 ],
 "metadata": {
  "kernelspec": {
   "display_name": "Python 3 (ipykernel)",
   "language": "python",
   "name": "python3"
  },
  "language_info": {
   "codemirror_mode": {
    "name": "ipython",
    "version": 3
   },
   "file_extension": ".py",
   "mimetype": "text/x-python",
   "name": "python",
   "nbconvert_exporter": "python",
   "pygments_lexer": "ipython3",
   "version": "3.9.7"
  }
 },
 "nbformat": 4,
 "nbformat_minor": 2
}
