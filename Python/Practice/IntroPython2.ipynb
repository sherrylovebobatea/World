{
 "cells": [
  {
   "cell_type": "markdown",
   "metadata": {},
   "source": [
    "### BMIS-2542: Data Programming Essentials with Python \n",
    "##### Katz Graduate School of Business, Spring 2022\n",
    "\n",
    "\n",
    "## Session 2 - Practice Exercises\n"
   ]
  },
  {
   "cell_type": "markdown",
   "metadata": {},
   "source": [
    "#### Q1.\n",
    "Course X uses the following grading policy to assign letter grades to students. Write a program to determine the letter grade for a given student score.<br>\n",
    "\n",
    "|Criterion|Grade|\n",
    "|:---|:---:|\n",
    "|95 or greater|**A+**|\n",
    "|85 to less than 95|**A**|\n",
    "|80 to less than 85|**A-**|\n",
    "|75 to less than 80|**B+**|\n",
    "|less than 75|**B**|\n",
    "    \n",
    "**Hint**. Define the variable `score` to hold a student's score and assign it the value you need to test for. Change the student score to `97,85,82,77,and 65` (one at a time), and validate that your program logic is correct."
   ]
  },
  {
   "cell_type": "code",
   "execution_count": 33,
   "metadata": {
    "scrolled": true
   },
   "outputs": [
    {
     "name": "stdout",
     "output_type": "stream",
     "text": [
      "the student score 65\n",
      "B\n"
     ]
    }
   ],
   "source": [
    "score=float(input('the student score '))\n",
    "if score >= 95:\n",
    "    print('A+')  \n",
    "elif score >=85:\n",
    "    print('A') \n",
    "elif score >=80:\n",
    "    print('A-') \n",
    "elif score >=75:\n",
    "     print('B+') \n",
    "else:\n",
    "    print('B') "
   ]
  },
  {
   "cell_type": "markdown",
   "metadata": {},
   "source": [
    "#### Q2.\n",
    "Say the temperature of your coffee is now 115 degrees Fahrenheit. You want it at 100 degrees. <br>A chip of ice can lower the temperature by one degree each time. Before adding ice each time, you test and note the temperature of your coffee. You go on until the desired temperature is reached.<br><br>\n",
    "Use a `while` loop to reflect this test procedure.<br> How many ice chips you need?"
   ]
  },
  {
   "cell_type": "code",
   "execution_count": 6,
   "metadata": {},
   "outputs": [
    {
     "name": "stdout",
     "output_type": "stream",
     "text": [
      "114\n",
      "113\n",
      "112\n",
      "111\n",
      "110\n",
      "109\n",
      "108\n",
      "107\n",
      "106\n",
      "105\n",
      "104\n",
      "103\n",
      "102\n",
      "101\n",
      "100\n",
      "ice 15\n"
     ]
    }
   ],
   "source": [
    "m=115\n",
    "n=0\n",
    "while m>100:\n",
    "    m=m-1\n",
    "    n=n+1\n",
    "    print(m)\n",
    "    if m==100:\n",
    "        break\n",
    "print('ice', str(n))"
   ]
  },
  {
   "cell_type": "markdown",
   "metadata": {},
   "source": [
    "#### Q3.\n",
    "  (a) Use a `for` loop to print out all the numbers from 2-10, inclusive. <br>\n",
    "  (b) Use `break` and `continue` to modify your code to prevent `3` and `5`from printing and to exit the loop after printing `7`.  "
   ]
  },
  {
   "cell_type": "code",
   "execution_count": 16,
   "metadata": {},
   "outputs": [
    {
     "name": "stdout",
     "output_type": "stream",
     "text": [
      "2\n",
      "3\n",
      "4\n",
      "5\n",
      "6\n",
      "7\n",
      "8\n",
      "9\n",
      "10\n"
     ]
    }
   ],
   "source": [
    "for number in range (2,11):\n",
    "    print(number)"
   ]
  },
  {
   "cell_type": "code",
   "execution_count": 32,
   "metadata": {},
   "outputs": [
    {
     "name": "stdout",
     "output_type": "stream",
     "text": [
      "2\n",
      "4\n",
      "6\n",
      "7\n"
     ]
    }
   ],
   "source": [
    "for number in range (2,11):\n",
    "    if number == 3:\n",
    "        continue\n",
    "    elif number == 5:\n",
    "        continue\n",
    "    elif number == 8:\n",
    "        break\n",
    "    print(number)\n"
   ]
  },
  {
   "cell_type": "markdown",
   "metadata": {},
   "source": [
    "#### Q4.\n",
    "The month of February normally has 28 days. But if it is a leap year, February has 29 days. Write a program that asks the user to enter a year. The program should then display the number of days in February that year. Use the following criteria to identify leap years:\n",
    " 1. Determine whether the year is devisible by 100. If it is, then it is a leap year if and only if it is also devisible by 400. For example, `2000` is a leap year, but `2100` is not.\n",
    " 2. If the year is not devisible by 100, then it is a leap year if and only if it is divisible by 4. For example, `2008` is a leap year, but `2009` is not."
   ]
  },
  {
   "cell_type": "code",
   "execution_count": null,
   "metadata": {},
   "outputs": [],
   "source": [
    "year=int(input('year'))\n",
    "if year%100 == 0: \n",
    "    if year%400== 0:\n",
    "        print(\"The number of days in February that year is 29.\")\n",
    "    else:\n",
    "         print(\"The number of days in February that year is 28.\")\n",
    "elif year%4 ==0:\n",
    "    print(\"The number of days in February that year is 29.\")\n",
    "else: \n",
    "     print(\"The number of days in February that year is 28.\")"
   ]
  },
  {
   "cell_type": "markdown",
   "metadata": {},
   "source": [
    "#### Q5.\n",
    "It is said that one can lose 4 pounds a month if the total calorie intake in a day is reduced by about 500 calories (equivalent of about 5 bananas). Write a program that prompts a user to enter their current weight. The program should, then, show what the user's expected weight will be at the end of each month for the next one year if the user plans to reduce their calorie intake by 500 calories a day."
   ]
  },
  {
   "cell_type": "code",
   "execution_count": null,
   "metadata": {},
   "outputs": [],
   "source": [
    "n = int(input('enter the current weight'))\n",
    "for n in range(1,12)\n",
    "    n = n-4\n",
    "    print('How many weight at the end of the month',n)"
   ]
  },
  {
   "cell_type": "code",
   "execution_count": null,
   "metadata": {},
   "outputs": [],
   "source": []
  }
 ],
 "metadata": {
  "kernelspec": {
   "display_name": "Python 3 (ipykernel)",
   "language": "python",
   "name": "python3"
  },
  "language_info": {
   "codemirror_mode": {
    "name": "ipython",
    "version": 3
   },
   "file_extension": ".py",
   "mimetype": "text/x-python",
   "name": "python",
   "nbconvert_exporter": "python",
   "pygments_lexer": "ipython3",
   "version": "3.9.7"
  }
 },
 "nbformat": 4,
 "nbformat_minor": 2
}
